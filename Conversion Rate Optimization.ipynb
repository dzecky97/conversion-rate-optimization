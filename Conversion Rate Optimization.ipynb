{
 "cells": [
  {
   "cell_type": "markdown",
   "id": "b7ce4f28",
   "metadata": {},
   "source": [
    "# 1. LIBRARIES AND FUNCTIONS"
   ]
  },
  {
   "cell_type": "markdown",
   "id": "972c57d3",
   "metadata": {},
   "source": [
    "# 1.1 Import Libraries"
   ]
  },
  {
   "cell_type": "code",
   "execution_count": 120,
   "id": "6793b56e",
   "metadata": {},
   "outputs": [],
   "source": [
    "#Basic libraries\n",
    "import pandas as pd\n",
    "import matplotlib.pyplot as plt\n",
    "import numpy as np\n",
    "import seaborn as sns\n",
    "import statistics\n",
    "\n",
    "#Modelling algotithm\n",
    "from sklearn import cluster\n",
    "\n",
    "#Data scaler\n",
    "from sklearn.preprocessing import MinMaxScaler\n",
    "\n",
    "#Model evaluation\n",
    "from sklearn.metrics import silhouette_score\n",
    "\n",
    "#Datetime\n",
    "import datetime as dt\n",
    "\n",
    "#Warnings\n",
    "import warnings\n",
    "warnings.filterwarnings('ignore')"
   ]
  },
  {
   "cell_type": "markdown",
   "id": "1ba57590",
   "metadata": {},
   "source": [
    "# 1.2 Create Functions"
   ]
  },
  {
   "cell_type": "code",
   "execution_count": 121,
   "id": "13a25e0e",
   "metadata": {},
   "outputs": [],
   "source": [
    "#Outlier handling function\n",
    "def get_iqr(x):\n",
    "    q1 = np.percentile(a=x, q=25)\n",
    "    q3 = np.percentile(a=x, q=75)\n",
    "    iqr = q3-q1\n",
    "    lower_limit = q1-(1.5*iqr)\n",
    "    upper_limit = q3+(1.5*iqr)\n",
    "    return lower_limit, upper_limit"
   ]
  },
  {
   "cell_type": "code",
   "execution_count": 122,
   "id": "383eed63",
   "metadata": {},
   "outputs": [],
   "source": [
    "def get_outliers(x):\n",
    "    lower_limit, upper_limit = get_iqr(x)\n",
    "    return x[np.where((x>lower_limit) | (x<upper_limit))]"
   ]
  },
  {
   "cell_type": "code",
   "execution_count": 123,
   "id": "49b17c9a",
   "metadata": {},
   "outputs": [],
   "source": [
    "def drop_outlier(x,y):\n",
    "    lower_limit, upper_limit = get_iqr(x[y])\n",
    "    x = x[((x[y]>lower_limit) & (x[y]<upper_limit))]\n",
    "    return"
   ]
  },
  {
   "cell_type": "code",
   "execution_count": 124,
   "id": "f5381797",
   "metadata": {},
   "outputs": [],
   "source": [
    "def to_datetime(x):\n",
    "    x = pd.to_datetime(arg=x, format='%Y-%m-%d %H:%M:%S')"
   ]
  },
  {
   "cell_type": "code",
   "execution_count": 125,
   "id": "c880df25",
   "metadata": {},
   "outputs": [],
   "source": [
    "#Define plot distribution\n",
    "def plot_dist(data, title, axlabel):\n",
    "    sns.distplot(a=data, axlabel=axlabel)\n",
    "    plt.axvline(x=data.mean(), ymax=0.95, c='green')\n",
    "    plt.axvline(x=data.median(), ymax=0.95, c='orange')\n",
    "    plt.axvline(x=data.describe()[4], ymax=0.95, c='yellow')\n",
    "    plt.axvline(x=data.decribe()[6], ymax=0.95, c='red')\n",
    "    plt.title(title)\n",
    "    plt.legend(labels=['mean', 'median', '1st quartile', '3rd quartile'])\n",
    "    return"
   ]
  },
  {
   "cell_type": "code",
   "execution_count": 126,
   "id": "c49b27a1",
   "metadata": {},
   "outputs": [],
   "source": [
    "#Define plot distribution subplot\n",
    "def plot_dist_subplot(data, title, axlabel, ax):\n",
    "    plt.figure(figsize=(12,6))\n",
    "    sns.distplot(x=data, axlabel=axlabel, ax=ax)\n",
    "    plt.axvline(x=data.mean(), ymax=0.95, c='green')\n",
    "    plt.axvline(x=data.median(), ymax=0.95, c='orange')\n",
    "    plt.axvline(x=data.describe()[4], ymax=0.95, c='yellow')\n",
    "    plt.axvline(x=data.describe()[6], ymax=0.95, c='red')\n",
    "    plt.title(title)\n",
    "    plt.legend(labels=['mean', 'median', '1st quatile', '3rd quartile'])\n",
    "    return"
   ]
  },
  {
   "cell_type": "markdown",
   "id": "922ac4d2",
   "metadata": {},
   "source": [
    "# 2. DATA UNDERSTANDING"
   ]
  },
  {
   "cell_type": "markdown",
   "id": "fe76308c",
   "metadata": {},
   "source": [
    "The Olist store is an e-commerce business headquartered in Sao Paulo, Brazil. This firm acts as a single point of contact between various small businesses and the customers who wish to buy their products.\n",
    "\n",
    "The scope of this analysis focuses more on the seller side (B2B) of Olist. With a given dataset, we will conduct the analysis that can bring some helpful insights into Olist’s B2B marketing team.\n",
    "\n",
    "Olist has released a Marketing Funnel Dataset from sellers that filled-in requests of contact to sell their products on Olist Store. The dataset has information of 8k Marketing Qualified Leads (MQLs) that requested contact between Jun. 1st 2017 and Jun 1st 2018. They were randomly sampled from the total of MQLs.\n",
    "\n",
    "The MQL data is provided from 2017-06-14 to 2018-05-31, while the won MQL data is provided from closed deal data ranging from 2017-12-05 to 2018-11-14. In 2017, MQLs that Olist marketing team generated is around 400 MQLs/month. In 2018, they boost the number to 1000–1400 leads per month. Regarding the won MQL, its peak was at 05/2018 with 200 won opportunities.\n",
    "\n",
    "This is real data, it has been anonymized and sampled from the original dataset."
   ]
  },
  {
   "cell_type": "markdown",
   "id": "87d76ee0",
   "metadata": {},
   "source": [
    "## 2.1 Marketing Qualified Leads Dataset "
   ]
  },
  {
   "cell_type": "markdown",
   "id": "bebd63fd",
   "metadata": {},
   "source": [
    "[What is a Marketing Qualified Lead?](https://www.blendb2b.com/blog/what-is-a-marketing-qualified-lead-really#:~:text=In%20B2B%20marketing%2C%20a%20Marketing,to%20use%20for%20this%20purpose.)\n",
    "\n",
    "In B2B marketing, a Marketing Qualified Lead (MQL) is typically one that marketing feels is ready to be passed to sales.\n",
    "\n",
    "\n",
    "MQL data consist of 8000 rows and 4 columns as follows:\n",
    "\n",
    "\n",
    "1.   mql_id : Marketing Qualified Lead id\n",
    "2.   first_contact_date : Date of the first contact solicitation\n",
    "3.   landing_page_id : Landing page id where the lead was acquired\n",
    "4.   origin : Type of media where the lead was acquired\n",
    "\n",
    "This data ranging from 2017-06-14 to 2018-05-31."
   ]
  },
  {
   "cell_type": "code",
   "execution_count": 127,
   "id": "dda57144",
   "metadata": {},
   "outputs": [
    {
     "data": {
      "text/html": [
       "<div>\n",
       "<style scoped>\n",
       "    .dataframe tbody tr th:only-of-type {\n",
       "        vertical-align: middle;\n",
       "    }\n",
       "\n",
       "    .dataframe tbody tr th {\n",
       "        vertical-align: top;\n",
       "    }\n",
       "\n",
       "    .dataframe thead th {\n",
       "        text-align: right;\n",
       "    }\n",
       "</style>\n",
       "<table border=\"1\" class=\"dataframe\">\n",
       "  <thead>\n",
       "    <tr style=\"text-align: right;\">\n",
       "      <th></th>\n",
       "      <th>mql_id</th>\n",
       "      <th>first_contact_date</th>\n",
       "      <th>landing_page_id</th>\n",
       "      <th>origin</th>\n",
       "    </tr>\n",
       "  </thead>\n",
       "  <tbody>\n",
       "    <tr>\n",
       "      <th>0</th>\n",
       "      <td>dac32acd4db4c29c230538b72f8dd87d</td>\n",
       "      <td>2018-02-01</td>\n",
       "      <td>88740e65d5d6b056e0cda098e1ea6313</td>\n",
       "      <td>social</td>\n",
       "    </tr>\n",
       "    <tr>\n",
       "      <th>1</th>\n",
       "      <td>8c18d1de7f67e60dbd64e3c07d7e9d5d</td>\n",
       "      <td>2017-10-20</td>\n",
       "      <td>007f9098284a86ee80ddeb25d53e0af8</td>\n",
       "      <td>paid_search</td>\n",
       "    </tr>\n",
       "    <tr>\n",
       "      <th>2</th>\n",
       "      <td>b4bc852d233dfefc5131f593b538befa</td>\n",
       "      <td>2018-03-22</td>\n",
       "      <td>a7982125ff7aa3b2054c6e44f9d28522</td>\n",
       "      <td>organic_search</td>\n",
       "    </tr>\n",
       "    <tr>\n",
       "      <th>3</th>\n",
       "      <td>6be030b81c75970747525b843c1ef4f8</td>\n",
       "      <td>2018-01-22</td>\n",
       "      <td>d45d558f0daeecf3cccdffe3c59684aa</td>\n",
       "      <td>email</td>\n",
       "    </tr>\n",
       "    <tr>\n",
       "      <th>4</th>\n",
       "      <td>5420aad7fec3549a85876ba1c529bd84</td>\n",
       "      <td>2018-02-21</td>\n",
       "      <td>b48ec5f3b04e9068441002a19df93c6c</td>\n",
       "      <td>organic_search</td>\n",
       "    </tr>\n",
       "  </tbody>\n",
       "</table>\n",
       "</div>"
      ],
      "text/plain": [
       "                             mql_id first_contact_date  \\\n",
       "0  dac32acd4db4c29c230538b72f8dd87d         2018-02-01   \n",
       "1  8c18d1de7f67e60dbd64e3c07d7e9d5d         2017-10-20   \n",
       "2  b4bc852d233dfefc5131f593b538befa         2018-03-22   \n",
       "3  6be030b81c75970747525b843c1ef4f8         2018-01-22   \n",
       "4  5420aad7fec3549a85876ba1c529bd84         2018-02-21   \n",
       "\n",
       "                    landing_page_id          origin  \n",
       "0  88740e65d5d6b056e0cda098e1ea6313          social  \n",
       "1  007f9098284a86ee80ddeb25d53e0af8     paid_search  \n",
       "2  a7982125ff7aa3b2054c6e44f9d28522  organic_search  \n",
       "3  d45d558f0daeecf3cccdffe3c59684aa           email  \n",
       "4  b48ec5f3b04e9068441002a19df93c6c  organic_search  "
      ]
     },
     "execution_count": 127,
     "metadata": {},
     "output_type": "execute_result"
    }
   ],
   "source": [
    "df = pd.read_csv('dataset from python script/olist_marketing_qualified_leads_dataset.csv - olist_marketing_qualified_leads_dataset.csv', )\n",
    "df.head()"
   ]
  },
  {
   "cell_type": "code",
   "execution_count": 128,
   "id": "62ea7fcc",
   "metadata": {},
   "outputs": [
    {
     "data": {
      "text/plain": [
       "8000"
      ]
     },
     "execution_count": 128,
     "metadata": {},
     "output_type": "execute_result"
    }
   ],
   "source": [
    "len(df)"
   ]
  },
  {
   "cell_type": "code",
   "execution_count": 129,
   "id": "85191e36",
   "metadata": {},
   "outputs": [
    {
     "name": "stdout",
     "output_type": "stream",
     "text": [
      "<class 'pandas.core.frame.DataFrame'>\n",
      "RangeIndex: 8000 entries, 0 to 7999\n",
      "Data columns (total 4 columns):\n",
      " #   Column              Non-Null Count  Dtype \n",
      "---  ------              --------------  ----- \n",
      " 0   mql_id              8000 non-null   object\n",
      " 1   first_contact_date  8000 non-null   object\n",
      " 2   landing_page_id     8000 non-null   object\n",
      " 3   origin              7940 non-null   object\n",
      "dtypes: object(4)\n",
      "memory usage: 250.1+ KB\n"
     ]
    }
   ],
   "source": [
    "df.info()"
   ]
  },
  {
   "cell_type": "code",
   "execution_count": 130,
   "id": "a2b312b5",
   "metadata": {},
   "outputs": [
    {
     "data": {
      "text/plain": [
       "mql_id                 0\n",
       "first_contact_date     0\n",
       "landing_page_id        0\n",
       "origin                60\n",
       "dtype: int64"
      ]
     },
     "execution_count": 130,
     "metadata": {},
     "output_type": "execute_result"
    }
   ],
   "source": [
    "df.isna().sum()"
   ]
  },
  {
   "cell_type": "code",
   "execution_count": 131,
   "id": "0f5b24c0",
   "metadata": {},
   "outputs": [
    {
     "data": {
      "text/html": [
       "<div>\n",
       "<style scoped>\n",
       "    .dataframe tbody tr th:only-of-type {\n",
       "        vertical-align: middle;\n",
       "    }\n",
       "\n",
       "    .dataframe tbody tr th {\n",
       "        vertical-align: top;\n",
       "    }\n",
       "\n",
       "    .dataframe thead th {\n",
       "        text-align: right;\n",
       "    }\n",
       "</style>\n",
       "<table border=\"1\" class=\"dataframe\">\n",
       "  <thead>\n",
       "    <tr style=\"text-align: right;\">\n",
       "      <th></th>\n",
       "      <th>count</th>\n",
       "      <th>unique</th>\n",
       "      <th>top</th>\n",
       "      <th>freq</th>\n",
       "    </tr>\n",
       "  </thead>\n",
       "  <tbody>\n",
       "    <tr>\n",
       "      <th>mql_id</th>\n",
       "      <td>8000</td>\n",
       "      <td>8000</td>\n",
       "      <td>dac32acd4db4c29c230538b72f8dd87d</td>\n",
       "      <td>1</td>\n",
       "    </tr>\n",
       "    <tr>\n",
       "      <th>first_contact_date</th>\n",
       "      <td>8000</td>\n",
       "      <td>336</td>\n",
       "      <td>2018-05-02</td>\n",
       "      <td>93</td>\n",
       "    </tr>\n",
       "    <tr>\n",
       "      <th>landing_page_id</th>\n",
       "      <td>8000</td>\n",
       "      <td>495</td>\n",
       "      <td>b76ef37428e6799c421989521c0e5077</td>\n",
       "      <td>912</td>\n",
       "    </tr>\n",
       "    <tr>\n",
       "      <th>origin</th>\n",
       "      <td>7940</td>\n",
       "      <td>10</td>\n",
       "      <td>organic_search</td>\n",
       "      <td>2296</td>\n",
       "    </tr>\n",
       "  </tbody>\n",
       "</table>\n",
       "</div>"
      ],
      "text/plain": [
       "                   count unique                               top  freq\n",
       "mql_id              8000   8000  dac32acd4db4c29c230538b72f8dd87d     1\n",
       "first_contact_date  8000    336                        2018-05-02    93\n",
       "landing_page_id     8000    495  b76ef37428e6799c421989521c0e5077   912\n",
       "origin              7940     10                    organic_search  2296"
      ]
     },
     "execution_count": 131,
     "metadata": {},
     "output_type": "execute_result"
    }
   ],
   "source": [
    "df.describe().T"
   ]
  },
  {
   "cell_type": "markdown",
   "id": "bcc63a7b",
   "metadata": {},
   "source": [
    "### 2.1.1 mql_id "
   ]
  },
  {
   "cell_type": "markdown",
   "id": "605b279a",
   "metadata": {},
   "source": [
    "`mql_id` column consist of 8000 rows and there's no duplicate value"
   ]
  },
  {
   "cell_type": "code",
   "execution_count": 132,
   "id": "d30525dd",
   "metadata": {},
   "outputs": [
    {
     "data": {
      "text/plain": [
       "0"
      ]
     },
     "execution_count": 132,
     "metadata": {},
     "output_type": "execute_result"
    }
   ],
   "source": [
    "df['mql_id'].duplicated().sum()"
   ]
  },
  {
   "cell_type": "markdown",
   "id": "b25f0227",
   "metadata": {},
   "source": [
    "### 2.1.2 first_contact_date "
   ]
  },
  {
   "cell_type": "markdown",
   "id": "4a6b9bc0",
   "metadata": {},
   "source": [
    "`first_contact_date` column is the first contact solicitation date. It is an object typed data, this data required to be previously converted as datetime. After converted, the data implied that the latest first contact date is on 31 may 2018 and earliest first contact date is on 14 June 2017. This time range might needed to be selected first since the closed deal time range is from 2017."
   ]
  },
  {
   "cell_type": "code",
   "execution_count": 133,
   "id": "3495e5a9",
   "metadata": {},
   "outputs": [
    {
     "data": {
      "text/plain": [
       "'2018-05-31'"
      ]
     },
     "execution_count": 133,
     "metadata": {},
     "output_type": "execute_result"
    }
   ],
   "source": [
    "max(df['first_contact_date'])"
   ]
  },
  {
   "cell_type": "code",
   "execution_count": 134,
   "id": "710aec3a",
   "metadata": {},
   "outputs": [
    {
     "data": {
      "text/plain": [
       "'2017-06-14'"
      ]
     },
     "execution_count": 134,
     "metadata": {},
     "output_type": "execute_result"
    }
   ],
   "source": [
    "min(df['first_contact_date'])"
   ]
  },
  {
   "cell_type": "markdown",
   "id": "c896e3df",
   "metadata": {},
   "source": [
    "### 2.1.3 landing_page_id "
   ]
  },
  {
   "cell_type": "markdown",
   "id": "59cb8835",
   "metadata": {},
   "source": [
    "Olist used 495 landing pages to capture MQLs. Even though the sales team is responsible for converting an MQL into a won opportunity, the marketing team can affect this likelihood from the top of the funnel by providing relevant messaging and benefits on the landing pages.\n",
    "\n",
    "The type of landing page for olist is assumend as lead generation landing page. Lead generation landing pages used to collect prospective customer data. Mainly, data in the form of names and email addresses. Both of these data will then be stored and used by the business to maintain relationships with potential customers."
   ]
  },
  {
   "cell_type": "markdown",
   "id": "20a63b72",
   "metadata": {},
   "source": [
    "### 2.1.4 origin "
   ]
  },
  {
   "cell_type": "markdown",
   "id": "d7670115",
   "metadata": {},
   "source": [
    "[Olist Traffic Source\n",
    "](https://www.swiftlocalsolutions.com/blog/what-is-the-difference-between-direct-and-organic-sources-of-website-traffic#:~:text=Organic%20Search%3A%20Traffic%20for%20which,or%2C%20of%20course%2C%20Facebook.)\n",
    "\n",
    "1. **Social** : Traffic for which the referring site is a social media platform like Instagram, Twitter, Pinterest or, of course, Facebook.\n",
    "2. **Paid search** : Traffic that comes from a paid search campaign, referred to as Cost per Click (CPC) or Pay per Click (PPC).\n",
    "3. **Organic search** : Traffic for which the referring site is a search engine like Google or Bing but wasn’t from a paid ad on those search pages.\n",
    "4. **Email** :  Traffic for which the referring website URL page is tagged as “email”. This could include traffic from an email newsletter.\n",
    "5. **Referral** : Traffic sent from one website to another, through a direct link. This kind of traffic includes affiliates, content partners, and traffic from direct media buying or news coverage.\n",
    "6. **direct traffic** :  Traffic sent from users that directly entered a URL into a browser saved bookmarks or any links from outside the browser (ex: app).Direct traffic will often come from people with an awareness of, or affinity for, a given site. Thus, visitors from Direct are likely to be amongst some of the website's most loyal and engaged users.\n",
    "7. **Display**: Traffic that originated from a paid banner ad campaign. This might be referred to as CPM (Cost per Mille (thousand)) or banner ads"
   ]
  },
  {
   "cell_type": "code",
   "execution_count": 135,
   "id": "acbf45e9",
   "metadata": {},
   "outputs": [
    {
     "name": "stdout",
     "output_type": "stream",
     "text": [
      "['social', 'paid_search', 'organic_search', 'email', 'unknown', 'referral', 'direct_traffic', 'display', nan, 'other_publicities', 'other']\n"
     ]
    }
   ],
   "source": [
    "list_origin = df['origin'].unique().tolist()\n",
    "print(list_origin)"
   ]
  },
  {
   "cell_type": "code",
   "execution_count": 136,
   "id": "d67fe315",
   "metadata": {},
   "outputs": [
    {
     "data": {
      "text/plain": [
       "organic_search       2296\n",
       "paid_search          1586\n",
       "social               1350\n",
       "unknown              1099\n",
       "direct_traffic        499\n",
       "email                 493\n",
       "referral              284\n",
       "other                 150\n",
       "display               118\n",
       "other_publicities      65\n",
       "Name: origin, dtype: int64"
      ]
     },
     "execution_count": 136,
     "metadata": {},
     "output_type": "execute_result"
    }
   ],
   "source": [
    "df['origin'].value_counts()"
   ]
  },
  {
   "cell_type": "code",
   "execution_count": 137,
   "id": "29b0c543",
   "metadata": {},
   "outputs": [],
   "source": [
    "df_social = df[df['origin'] == 'social'][['landing_page_id', 'origin']]\n",
    "df_paid_search = df[df['origin'] == 'paid_search'][['landing_page_id', 'origin']]\n",
    "df_organic_search = df[df['origin'] == 'organic_search'][['landing_page_id', 'origin']]\n",
    "df_email = df[df['origin'] == 'email'][['landing_page_id', 'origin']]\n",
    "df_unknown = df[df['origin'] == 'unknown'][['landing_page_id', 'origin']]\n",
    "df_referral = df[df['origin'] == 'referral'][['landing_page_id', 'origin']]\n",
    "df_direct_traffic = df[df['origin'] == 'direct_traffic'][['landing_page_id', 'origin']]\n",
    "df_display = df[df['origin'] == 'display'][['landing_page_id', 'origin']]\n",
    "df_other_publicities = df[df['origin'] == 'other_publicities'][['landing_page_id', 'origin']]\n",
    "df_other = df[df['origin'] == 'other'][['landing_page_id', 'origin']]"
   ]
  },
  {
   "cell_type": "code",
   "execution_count": 138,
   "id": "5c700712",
   "metadata": {},
   "outputs": [],
   "source": [
    "organic_search = df_organic_search.drop_duplicates(subset='landing_page_id', keep=False)\n",
    "paid_search = df_paid_search.drop_duplicates(subset='landing_page_id', keep=False)\n",
    "social = df_social.drop_duplicates(subset='landing_page_id', keep=False)\n",
    "unknown = df_unknown.drop_duplicates(subset='landing_page_id', keep=False)\n",
    "direct_traffic = df_direct_traffic.drop_duplicates(subset='landing_page_id', keep=False)\n",
    "email = df_email.drop_duplicates(subset='landing_page_id', keep=False)\n",
    "referral = df_referral.drop_duplicates(subset='landing_page_id', keep=False)\n",
    "other = df_other.drop_duplicates(subset='landing_page_id', keep=False)\n",
    "display = df_display.drop_duplicates(subset='landing_page_id', keep=False)\n",
    "other_publicities = df_other_publicities.drop_duplicates(subset='landing_page_id', keep=False)"
   ]
  },
  {
   "cell_type": "code",
   "execution_count": 139,
   "id": "372c0308",
   "metadata": {},
   "outputs": [
    {
     "data": {
      "text/plain": [
       "61"
      ]
     },
     "execution_count": 139,
     "metadata": {},
     "output_type": "execute_result"
    }
   ],
   "source": [
    "len(social)"
   ]
  },
  {
   "cell_type": "code",
   "execution_count": 140,
   "id": "df7c248e",
   "metadata": {},
   "outputs": [],
   "source": [
    "join = paid_search.merge(right=organic_search, on='landing_page_id')"
   ]
  },
  {
   "cell_type": "code",
   "execution_count": 141,
   "id": "35fecf5f",
   "metadata": {},
   "outputs": [
    {
     "data": {
      "text/html": [
       "<div>\n",
       "<style scoped>\n",
       "    .dataframe tbody tr th:only-of-type {\n",
       "        vertical-align: middle;\n",
       "    }\n",
       "\n",
       "    .dataframe tbody tr th {\n",
       "        vertical-align: top;\n",
       "    }\n",
       "\n",
       "    .dataframe thead th {\n",
       "        text-align: right;\n",
       "    }\n",
       "</style>\n",
       "<table border=\"1\" class=\"dataframe\">\n",
       "  <thead>\n",
       "    <tr style=\"text-align: right;\">\n",
       "      <th></th>\n",
       "      <th>landing_page_id</th>\n",
       "      <th>origin_x</th>\n",
       "      <th>origin_y</th>\n",
       "    </tr>\n",
       "  </thead>\n",
       "  <tbody>\n",
       "    <tr>\n",
       "      <th>0</th>\n",
       "      <td>fd660f5d9a62d444c76191307b3a0514</td>\n",
       "      <td>paid_search</td>\n",
       "      <td>organic_search</td>\n",
       "    </tr>\n",
       "    <tr>\n",
       "      <th>1</th>\n",
       "      <td>60ea0bbb4ee471b6b99e8b892847a8db</td>\n",
       "      <td>paid_search</td>\n",
       "      <td>organic_search</td>\n",
       "    </tr>\n",
       "    <tr>\n",
       "      <th>2</th>\n",
       "      <td>fa6f59a21825d841e307151460fb0302</td>\n",
       "      <td>paid_search</td>\n",
       "      <td>organic_search</td>\n",
       "    </tr>\n",
       "    <tr>\n",
       "      <th>3</th>\n",
       "      <td>3fd71e7e6cf64921740567dcfefb68cf</td>\n",
       "      <td>paid_search</td>\n",
       "      <td>organic_search</td>\n",
       "    </tr>\n",
       "    <tr>\n",
       "      <th>4</th>\n",
       "      <td>acd502dc52a068d7c4014af6d5dbcd11</td>\n",
       "      <td>paid_search</td>\n",
       "      <td>organic_search</td>\n",
       "    </tr>\n",
       "    <tr>\n",
       "      <th>5</th>\n",
       "      <td>447cabeecc99dc245cb42be7122cba9e</td>\n",
       "      <td>paid_search</td>\n",
       "      <td>organic_search</td>\n",
       "    </tr>\n",
       "    <tr>\n",
       "      <th>6</th>\n",
       "      <td>2b3ba77df5d7657e8c515a1c74155b99</td>\n",
       "      <td>paid_search</td>\n",
       "      <td>organic_search</td>\n",
       "    </tr>\n",
       "    <tr>\n",
       "      <th>7</th>\n",
       "      <td>6265f632e27ca4d14268e0cb91ebc4a4</td>\n",
       "      <td>paid_search</td>\n",
       "      <td>organic_search</td>\n",
       "    </tr>\n",
       "    <tr>\n",
       "      <th>8</th>\n",
       "      <td>cf747f07a385ddb157f79df52898ab14</td>\n",
       "      <td>paid_search</td>\n",
       "      <td>organic_search</td>\n",
       "    </tr>\n",
       "    <tr>\n",
       "      <th>9</th>\n",
       "      <td>16d718d40146b50ca7a8a045f1b06834</td>\n",
       "      <td>paid_search</td>\n",
       "      <td>organic_search</td>\n",
       "    </tr>\n",
       "    <tr>\n",
       "      <th>10</th>\n",
       "      <td>b8cc49b19db5de8ec30f938aa3d916a9</td>\n",
       "      <td>paid_search</td>\n",
       "      <td>organic_search</td>\n",
       "    </tr>\n",
       "    <tr>\n",
       "      <th>11</th>\n",
       "      <td>30534107aa0013db92899c96a1017d0b</td>\n",
       "      <td>paid_search</td>\n",
       "      <td>organic_search</td>\n",
       "    </tr>\n",
       "  </tbody>\n",
       "</table>\n",
       "</div>"
      ],
      "text/plain": [
       "                     landing_page_id     origin_x        origin_y\n",
       "0   fd660f5d9a62d444c76191307b3a0514  paid_search  organic_search\n",
       "1   60ea0bbb4ee471b6b99e8b892847a8db  paid_search  organic_search\n",
       "2   fa6f59a21825d841e307151460fb0302  paid_search  organic_search\n",
       "3   3fd71e7e6cf64921740567dcfefb68cf  paid_search  organic_search\n",
       "4   acd502dc52a068d7c4014af6d5dbcd11  paid_search  organic_search\n",
       "5   447cabeecc99dc245cb42be7122cba9e  paid_search  organic_search\n",
       "6   2b3ba77df5d7657e8c515a1c74155b99  paid_search  organic_search\n",
       "7   6265f632e27ca4d14268e0cb91ebc4a4  paid_search  organic_search\n",
       "8   cf747f07a385ddb157f79df52898ab14  paid_search  organic_search\n",
       "9   16d718d40146b50ca7a8a045f1b06834  paid_search  organic_search\n",
       "10  b8cc49b19db5de8ec30f938aa3d916a9  paid_search  organic_search\n",
       "11  30534107aa0013db92899c96a1017d0b  paid_search  organic_search"
      ]
     },
     "execution_count": 141,
     "metadata": {},
     "output_type": "execute_result"
    }
   ],
   "source": [
    "join"
   ]
  },
  {
   "cell_type": "code",
   "execution_count": 142,
   "id": "dc5e3d87",
   "metadata": {},
   "outputs": [],
   "source": [
    "join2 = pd.merge(left=join, right=email, on='landing_page_id', how='inner')"
   ]
  },
  {
   "cell_type": "code",
   "execution_count": 143,
   "id": "5a72cbc2",
   "metadata": {},
   "outputs": [
    {
     "data": {
      "text/html": [
       "<div>\n",
       "<style scoped>\n",
       "    .dataframe tbody tr th:only-of-type {\n",
       "        vertical-align: middle;\n",
       "    }\n",
       "\n",
       "    .dataframe tbody tr th {\n",
       "        vertical-align: top;\n",
       "    }\n",
       "\n",
       "    .dataframe thead th {\n",
       "        text-align: right;\n",
       "    }\n",
       "</style>\n",
       "<table border=\"1\" class=\"dataframe\">\n",
       "  <thead>\n",
       "    <tr style=\"text-align: right;\">\n",
       "      <th></th>\n",
       "      <th>landing_page_id</th>\n",
       "      <th>origin_x</th>\n",
       "      <th>origin_y</th>\n",
       "      <th>origin</th>\n",
       "    </tr>\n",
       "  </thead>\n",
       "  <tbody>\n",
       "    <tr>\n",
       "      <th>0</th>\n",
       "      <td>3fd71e7e6cf64921740567dcfefb68cf</td>\n",
       "      <td>paid_search</td>\n",
       "      <td>organic_search</td>\n",
       "      <td>email</td>\n",
       "    </tr>\n",
       "    <tr>\n",
       "      <th>1</th>\n",
       "      <td>b8cc49b19db5de8ec30f938aa3d916a9</td>\n",
       "      <td>paid_search</td>\n",
       "      <td>organic_search</td>\n",
       "      <td>email</td>\n",
       "    </tr>\n",
       "  </tbody>\n",
       "</table>\n",
       "</div>"
      ],
      "text/plain": [
       "                    landing_page_id     origin_x        origin_y origin\n",
       "0  3fd71e7e6cf64921740567dcfefb68cf  paid_search  organic_search  email\n",
       "1  b8cc49b19db5de8ec30f938aa3d916a9  paid_search  organic_search  email"
      ]
     },
     "execution_count": 143,
     "metadata": {},
     "output_type": "execute_result"
    }
   ],
   "source": [
    "join2"
   ]
  },
  {
   "cell_type": "markdown",
   "id": "05117e77",
   "metadata": {},
   "source": [
    "On the unique `landing_page_id`, it doesn't show any similarities to the origin. Indicates that the `landing_page_id` is not determined from where the leads traffic source comes from."
   ]
  },
  {
   "cell_type": "markdown",
   "id": "d898ad8b",
   "metadata": {},
   "source": [
    "### 2.1.5 Insight and Data Cleaning Issue from MQL Data"
   ]
  },
  {
   "cell_type": "markdown",
   "id": "fd7b91b7",
   "metadata": {},
   "source": [
    "1. There is no duplicate value in `mql_id`\n",
    "2. `first_contact_date` must be datetime format\n",
    "3. The earliest first contact date is 2017-06-14\n",
    "4. The latest first contact date is 2018-05-31\n",
    "5. There is 7050 duplicate and 495 unique value in `landing_page_id`. The reason why this variable consist of many duplicate values, because olist used 495 landing pages to capture MQLs. We assume that the unique `landing_page_id` includes data from active and archived landing pages. Similar landing_page_id  not determined from where the leads traffic source comes from.\n",
    "6. `origin` has 60 missing values\n",
    "7. Olist has 7 `origin` that can be explaine as common traffic source in website. It indicated that the other origins can be convert as unknown origin."
   ]
  },
  {
   "cell_type": "markdown",
   "id": "5b90355a",
   "metadata": {},
   "source": [
    "## 2.2 Closed Deal Dataset "
   ]
  },
  {
   "cell_type": "markdown",
   "id": "e26d4da1",
   "metadata": {},
   "source": [
    "[Closed Deal??](https://rev.team/kb/what-is-closing-a-deal)\n",
    "\n",
    "As deals rarely ever close themselves, they usually require efforts on the part of salespersons. The process of closing a deal can be a real challenge, especially for less experienced salespersons, often facing the potentially frustrating effects of deal rejection as well. This is why **sales teams often invest a lot of time and effort into developing and improving their deal closing strategies**.\n",
    "\n",
    "closed deal dataset contains 842 observations with 14 variables. Each observation is a won deal of Olist which consists of the mql_id of the merchant, seller_id (used in Olist platform), sdr_id and sr_id(the sales development representative and sales representative that were in charge of the deal), won_date, business segment, lead_type, lead_behaviour_profile, business_type, declared_monthly_revenue. Among these, 5 variables have too many Null values that they cannot bring value to the analysis. closed deal data ranging from 2017-12-05 to 2018-11-14."
   ]
  },
  {
   "cell_type": "code",
   "execution_count": 144,
   "id": "c78ffcb5",
   "metadata": {},
   "outputs": [
    {
     "data": {
      "text/html": [
       "<div>\n",
       "<style scoped>\n",
       "    .dataframe tbody tr th:only-of-type {\n",
       "        vertical-align: middle;\n",
       "    }\n",
       "\n",
       "    .dataframe tbody tr th {\n",
       "        vertical-align: top;\n",
       "    }\n",
       "\n",
       "    .dataframe thead th {\n",
       "        text-align: right;\n",
       "    }\n",
       "</style>\n",
       "<table border=\"1\" class=\"dataframe\">\n",
       "  <thead>\n",
       "    <tr style=\"text-align: right;\">\n",
       "      <th></th>\n",
       "      <th>mql_id</th>\n",
       "      <th>seller_id</th>\n",
       "      <th>sdr_id</th>\n",
       "      <th>sr_id</th>\n",
       "      <th>won_date</th>\n",
       "      <th>business_segment</th>\n",
       "      <th>lead_type</th>\n",
       "      <th>lead_behaviour_profile</th>\n",
       "      <th>has_company</th>\n",
       "      <th>has_gtin</th>\n",
       "      <th>average_stock</th>\n",
       "      <th>business_type</th>\n",
       "      <th>declared_product_catalog_size</th>\n",
       "      <th>declared_monthly_revenue</th>\n",
       "    </tr>\n",
       "  </thead>\n",
       "  <tbody>\n",
       "    <tr>\n",
       "      <th>0</th>\n",
       "      <td>5420aad7fec3549a85876ba1c529bd84</td>\n",
       "      <td>2c43fb513632d29b3b58df74816f1b06</td>\n",
       "      <td>a8387c01a09e99ce014107505b92388c</td>\n",
       "      <td>4ef15afb4b2723d8f3d81e51ec7afefe</td>\n",
       "      <td>2018-02-26 19:58:54</td>\n",
       "      <td>pet</td>\n",
       "      <td>online_medium</td>\n",
       "      <td>cat</td>\n",
       "      <td>NaN</td>\n",
       "      <td>NaN</td>\n",
       "      <td>NaN</td>\n",
       "      <td>reseller</td>\n",
       "      <td>NaN</td>\n",
       "      <td>0</td>\n",
       "    </tr>\n",
       "    <tr>\n",
       "      <th>1</th>\n",
       "      <td>a555fb36b9368110ede0f043dfc3b9a0</td>\n",
       "      <td>bbb7d7893a450660432ea6652310ebb7</td>\n",
       "      <td>09285259593c61296eef10c734121d5b</td>\n",
       "      <td>d3d1e91a157ea7f90548eef82f1955e3</td>\n",
       "      <td>2018-05-08 20:17:59</td>\n",
       "      <td>car_accessories</td>\n",
       "      <td>industry</td>\n",
       "      <td>eagle</td>\n",
       "      <td>NaN</td>\n",
       "      <td>NaN</td>\n",
       "      <td>NaN</td>\n",
       "      <td>reseller</td>\n",
       "      <td>NaN</td>\n",
       "      <td>0</td>\n",
       "    </tr>\n",
       "    <tr>\n",
       "      <th>2</th>\n",
       "      <td>327174d3648a2d047e8940d7d15204ca</td>\n",
       "      <td>612170e34b97004b3ba37eae81836b4c</td>\n",
       "      <td>b90f87164b5f8c2cfa5c8572834dbe3f</td>\n",
       "      <td>6565aa9ce3178a5caf6171827af3a9ba</td>\n",
       "      <td>2018-06-05 17:27:23</td>\n",
       "      <td>home_appliances</td>\n",
       "      <td>online_big</td>\n",
       "      <td>cat</td>\n",
       "      <td>NaN</td>\n",
       "      <td>NaN</td>\n",
       "      <td>NaN</td>\n",
       "      <td>reseller</td>\n",
       "      <td>NaN</td>\n",
       "      <td>0</td>\n",
       "    </tr>\n",
       "    <tr>\n",
       "      <th>3</th>\n",
       "      <td>f5fee8f7da74f4887f5bcae2bafb6dd6</td>\n",
       "      <td>21e1781e36faf92725dde4730a88ca0f</td>\n",
       "      <td>56bf83c4bb35763a51c2baab501b4c67</td>\n",
       "      <td>d3d1e91a157ea7f90548eef82f1955e3</td>\n",
       "      <td>2018-01-17 13:51:03</td>\n",
       "      <td>food_drink</td>\n",
       "      <td>online_small</td>\n",
       "      <td>NaN</td>\n",
       "      <td>NaN</td>\n",
       "      <td>NaN</td>\n",
       "      <td>NaN</td>\n",
       "      <td>reseller</td>\n",
       "      <td>NaN</td>\n",
       "      <td>0</td>\n",
       "    </tr>\n",
       "    <tr>\n",
       "      <th>4</th>\n",
       "      <td>ffe640179b554e295c167a2f6be528e0</td>\n",
       "      <td>ed8cb7b190ceb6067227478e48cf8dde</td>\n",
       "      <td>4b339f9567d060bcea4f5136b9f5949e</td>\n",
       "      <td>d3d1e91a157ea7f90548eef82f1955e3</td>\n",
       "      <td>2018-07-03 20:17:45</td>\n",
       "      <td>home_appliances</td>\n",
       "      <td>industry</td>\n",
       "      <td>wolf</td>\n",
       "      <td>NaN</td>\n",
       "      <td>NaN</td>\n",
       "      <td>NaN</td>\n",
       "      <td>manufacturer</td>\n",
       "      <td>NaN</td>\n",
       "      <td>0</td>\n",
       "    </tr>\n",
       "  </tbody>\n",
       "</table>\n",
       "</div>"
      ],
      "text/plain": [
       "                             mql_id                         seller_id  \\\n",
       "0  5420aad7fec3549a85876ba1c529bd84  2c43fb513632d29b3b58df74816f1b06   \n",
       "1  a555fb36b9368110ede0f043dfc3b9a0  bbb7d7893a450660432ea6652310ebb7   \n",
       "2  327174d3648a2d047e8940d7d15204ca  612170e34b97004b3ba37eae81836b4c   \n",
       "3  f5fee8f7da74f4887f5bcae2bafb6dd6  21e1781e36faf92725dde4730a88ca0f   \n",
       "4  ffe640179b554e295c167a2f6be528e0  ed8cb7b190ceb6067227478e48cf8dde   \n",
       "\n",
       "                             sdr_id                             sr_id  \\\n",
       "0  a8387c01a09e99ce014107505b92388c  4ef15afb4b2723d8f3d81e51ec7afefe   \n",
       "1  09285259593c61296eef10c734121d5b  d3d1e91a157ea7f90548eef82f1955e3   \n",
       "2  b90f87164b5f8c2cfa5c8572834dbe3f  6565aa9ce3178a5caf6171827af3a9ba   \n",
       "3  56bf83c4bb35763a51c2baab501b4c67  d3d1e91a157ea7f90548eef82f1955e3   \n",
       "4  4b339f9567d060bcea4f5136b9f5949e  d3d1e91a157ea7f90548eef82f1955e3   \n",
       "\n",
       "              won_date business_segment      lead_type lead_behaviour_profile  \\\n",
       "0  2018-02-26 19:58:54              pet  online_medium                    cat   \n",
       "1  2018-05-08 20:17:59  car_accessories       industry                  eagle   \n",
       "2  2018-06-05 17:27:23  home_appliances     online_big                    cat   \n",
       "3  2018-01-17 13:51:03       food_drink   online_small                    NaN   \n",
       "4  2018-07-03 20:17:45  home_appliances       industry                   wolf   \n",
       "\n",
       "  has_company has_gtin average_stock business_type  \\\n",
       "0         NaN      NaN           NaN      reseller   \n",
       "1         NaN      NaN           NaN      reseller   \n",
       "2         NaN      NaN           NaN      reseller   \n",
       "3         NaN      NaN           NaN      reseller   \n",
       "4         NaN      NaN           NaN  manufacturer   \n",
       "\n",
       "   declared_product_catalog_size  declared_monthly_revenue  \n",
       "0                            NaN                         0  \n",
       "1                            NaN                         0  \n",
       "2                            NaN                         0  \n",
       "3                            NaN                         0  \n",
       "4                            NaN                         0  "
      ]
     },
     "execution_count": 144,
     "metadata": {},
     "output_type": "execute_result"
    }
   ],
   "source": [
    "df2 = pd.read_csv('dataset from python script/olist_closed_deals_dataset - olist_closed_deals_dataset.csv')\n",
    "df2.head()"
   ]
  },
  {
   "cell_type": "code",
   "execution_count": 145,
   "id": "6f54227d",
   "metadata": {},
   "outputs": [
    {
     "data": {
      "text/plain": [
       "(842, 14)"
      ]
     },
     "execution_count": 145,
     "metadata": {},
     "output_type": "execute_result"
    }
   ],
   "source": [
    "df2.shape"
   ]
  },
  {
   "cell_type": "code",
   "execution_count": 146,
   "id": "cf286f84",
   "metadata": {},
   "outputs": [
    {
     "name": "stdout",
     "output_type": "stream",
     "text": [
      "<class 'pandas.core.frame.DataFrame'>\n",
      "RangeIndex: 842 entries, 0 to 841\n",
      "Data columns (total 14 columns):\n",
      " #   Column                         Non-Null Count  Dtype  \n",
      "---  ------                         --------------  -----  \n",
      " 0   mql_id                         842 non-null    object \n",
      " 1   seller_id                      842 non-null    object \n",
      " 2   sdr_id                         842 non-null    object \n",
      " 3   sr_id                          842 non-null    object \n",
      " 4   won_date                       842 non-null    object \n",
      " 5   business_segment               841 non-null    object \n",
      " 6   lead_type                      836 non-null    object \n",
      " 7   lead_behaviour_profile         665 non-null    object \n",
      " 8   has_company                    63 non-null     object \n",
      " 9   has_gtin                       64 non-null     object \n",
      " 10  average_stock                  66 non-null     object \n",
      " 11  business_type                  832 non-null    object \n",
      " 12  declared_product_catalog_size  69 non-null     float64\n",
      " 13  declared_monthly_revenue       842 non-null    int64  \n",
      "dtypes: float64(1), int64(1), object(12)\n",
      "memory usage: 92.2+ KB\n"
     ]
    }
   ],
   "source": [
    "df2.info()"
   ]
  },
  {
   "cell_type": "code",
   "execution_count": 147,
   "id": "c9ecb1b5",
   "metadata": {},
   "outputs": [],
   "source": [
    "data = []\n",
    "\n",
    "def check(x):\n",
    "    for i in x.columns:\n",
    "        data.append([x[i].dtype, len(x[i]), x[i].isna().sum(), x[i].duplicated().sum(), x[i].nunique()])\n",
    "    return pd.DataFrame(columns=['dataType', 'len', 'null', 'duplicate', 'unique'], data=data, index=x.columns)"
   ]
  },
  {
   "cell_type": "code",
   "execution_count": 148,
   "id": "b38e5462",
   "metadata": {},
   "outputs": [
    {
     "data": {
      "text/html": [
       "<div>\n",
       "<style scoped>\n",
       "    .dataframe tbody tr th:only-of-type {\n",
       "        vertical-align: middle;\n",
       "    }\n",
       "\n",
       "    .dataframe tbody tr th {\n",
       "        vertical-align: top;\n",
       "    }\n",
       "\n",
       "    .dataframe thead th {\n",
       "        text-align: right;\n",
       "    }\n",
       "</style>\n",
       "<table border=\"1\" class=\"dataframe\">\n",
       "  <thead>\n",
       "    <tr style=\"text-align: right;\">\n",
       "      <th></th>\n",
       "      <th>dataType</th>\n",
       "      <th>len</th>\n",
       "      <th>null</th>\n",
       "      <th>duplicate</th>\n",
       "      <th>unique</th>\n",
       "    </tr>\n",
       "  </thead>\n",
       "  <tbody>\n",
       "    <tr>\n",
       "      <th>mql_id</th>\n",
       "      <td>object</td>\n",
       "      <td>842</td>\n",
       "      <td>0</td>\n",
       "      <td>0</td>\n",
       "      <td>842</td>\n",
       "    </tr>\n",
       "    <tr>\n",
       "      <th>seller_id</th>\n",
       "      <td>object</td>\n",
       "      <td>842</td>\n",
       "      <td>0</td>\n",
       "      <td>0</td>\n",
       "      <td>842</td>\n",
       "    </tr>\n",
       "    <tr>\n",
       "      <th>sdr_id</th>\n",
       "      <td>object</td>\n",
       "      <td>842</td>\n",
       "      <td>0</td>\n",
       "      <td>810</td>\n",
       "      <td>32</td>\n",
       "    </tr>\n",
       "    <tr>\n",
       "      <th>sr_id</th>\n",
       "      <td>object</td>\n",
       "      <td>842</td>\n",
       "      <td>0</td>\n",
       "      <td>820</td>\n",
       "      <td>22</td>\n",
       "    </tr>\n",
       "    <tr>\n",
       "      <th>won_date</th>\n",
       "      <td>object</td>\n",
       "      <td>842</td>\n",
       "      <td>0</td>\n",
       "      <td>18</td>\n",
       "      <td>824</td>\n",
       "    </tr>\n",
       "    <tr>\n",
       "      <th>business_segment</th>\n",
       "      <td>object</td>\n",
       "      <td>842</td>\n",
       "      <td>1</td>\n",
       "      <td>808</td>\n",
       "      <td>33</td>\n",
       "    </tr>\n",
       "    <tr>\n",
       "      <th>lead_type</th>\n",
       "      <td>object</td>\n",
       "      <td>842</td>\n",
       "      <td>6</td>\n",
       "      <td>833</td>\n",
       "      <td>8</td>\n",
       "    </tr>\n",
       "    <tr>\n",
       "      <th>lead_behaviour_profile</th>\n",
       "      <td>object</td>\n",
       "      <td>842</td>\n",
       "      <td>177</td>\n",
       "      <td>832</td>\n",
       "      <td>9</td>\n",
       "    </tr>\n",
       "    <tr>\n",
       "      <th>has_company</th>\n",
       "      <td>object</td>\n",
       "      <td>842</td>\n",
       "      <td>779</td>\n",
       "      <td>839</td>\n",
       "      <td>2</td>\n",
       "    </tr>\n",
       "    <tr>\n",
       "      <th>has_gtin</th>\n",
       "      <td>object</td>\n",
       "      <td>842</td>\n",
       "      <td>778</td>\n",
       "      <td>839</td>\n",
       "      <td>2</td>\n",
       "    </tr>\n",
       "    <tr>\n",
       "      <th>average_stock</th>\n",
       "      <td>object</td>\n",
       "      <td>842</td>\n",
       "      <td>776</td>\n",
       "      <td>835</td>\n",
       "      <td>6</td>\n",
       "    </tr>\n",
       "    <tr>\n",
       "      <th>business_type</th>\n",
       "      <td>object</td>\n",
       "      <td>842</td>\n",
       "      <td>10</td>\n",
       "      <td>838</td>\n",
       "      <td>3</td>\n",
       "    </tr>\n",
       "    <tr>\n",
       "      <th>declared_product_catalog_size</th>\n",
       "      <td>float64</td>\n",
       "      <td>842</td>\n",
       "      <td>773</td>\n",
       "      <td>808</td>\n",
       "      <td>33</td>\n",
       "    </tr>\n",
       "    <tr>\n",
       "      <th>declared_monthly_revenue</th>\n",
       "      <td>int64</td>\n",
       "      <td>842</td>\n",
       "      <td>0</td>\n",
       "      <td>815</td>\n",
       "      <td>27</td>\n",
       "    </tr>\n",
       "  </tbody>\n",
       "</table>\n",
       "</div>"
      ],
      "text/plain": [
       "                              dataType  len  null  duplicate  unique\n",
       "mql_id                          object  842     0          0     842\n",
       "seller_id                       object  842     0          0     842\n",
       "sdr_id                          object  842     0        810      32\n",
       "sr_id                           object  842     0        820      22\n",
       "won_date                        object  842     0         18     824\n",
       "business_segment                object  842     1        808      33\n",
       "lead_type                       object  842     6        833       8\n",
       "lead_behaviour_profile          object  842   177        832       9\n",
       "has_company                     object  842   779        839       2\n",
       "has_gtin                        object  842   778        839       2\n",
       "average_stock                   object  842   776        835       6\n",
       "business_type                   object  842    10        838       3\n",
       "declared_product_catalog_size  float64  842   773        808      33\n",
       "declared_monthly_revenue         int64  842     0        815      27"
      ]
     },
     "execution_count": 148,
     "metadata": {},
     "output_type": "execute_result"
    }
   ],
   "source": [
    "check(df2)"
   ]
  },
  {
   "cell_type": "markdown",
   "id": "b2ce9b14",
   "metadata": {},
   "source": [
    "### 2.2.5 won_date "
   ]
  },
  {
   "cell_type": "code",
   "execution_count": 149,
   "id": "96af58ca",
   "metadata": {},
   "outputs": [
    {
     "name": "stdout",
     "output_type": "stream",
     "text": [
      "Latest Date : 2018-11-14 18:04:19\n",
      "Earliest Date : 2017-12-05 02:00:00\n"
     ]
    }
   ],
   "source": [
    "print('Latest Date :', max(df2['won_date']))\n",
    "print('Earliest Date :', min(df2['won_date']))"
   ]
  },
  {
   "cell_type": "markdown",
   "id": "197cb07f",
   "metadata": {},
   "source": [
    "### 2.2.6 business_segment "
   ]
  },
  {
   "cell_type": "code",
   "execution_count": 150,
   "id": "3b5dae06",
   "metadata": {},
   "outputs": [
    {
     "name": "stdout",
     "output_type": "stream",
     "text": [
      "['pet', 'car_accessories', 'home_appliances', 'food_drink', 'health_beauty', 'computers', 'household_utilities', 'construction_tools_house_garden', 'toys', 'sports_leisure', 'food_supplement', 'home_decor', 'bed_bath_table', 'watches', 'fashion_accessories', 'jewerly', 'party', 'small_appliances', 'audio_video_electronics', 'bags_backpacks', 'home_office_furniture', 'music_instruments', 'books', 'stationery', 'baby', 'air_conditioning', 'phone_mobile', nan, 'handcrafted', 'perfume', 'gifts', 'religious', 'games_consoles', 'other']\n"
     ]
    }
   ],
   "source": [
    "list_business_segment = df2['business_segment'].unique().tolist()\n",
    "print(list_business_segment)"
   ]
  },
  {
   "cell_type": "code",
   "execution_count": 151,
   "id": "865518c9",
   "metadata": {},
   "outputs": [
    {
     "data": {
      "text/plain": [
       "home_decor                         105\n",
       "health_beauty                       93\n",
       "car_accessories                     77\n",
       "household_utilities                 71\n",
       "construction_tools_house_garden     69\n",
       "audio_video_electronics             64\n",
       "computers                           34\n",
       "pet                                 30\n",
       "food_supplement                     28\n",
       "food_drink                          26\n",
       "sports_leisure                      25\n",
       "bed_bath_table                      22\n",
       "bags_backpacks                      22\n",
       "toys                                20\n",
       "fashion_accessories                 19\n",
       "home_office_furniture               14\n",
       "stationery                          13\n",
       "phone_mobile                        13\n",
       "small_appliances                    12\n",
       "handcrafted                         12\n",
       "baby                                10\n",
       "music_instruments                    9\n",
       "books                                9\n",
       "jewerly                              8\n",
       "watches                              8\n",
       "home_appliances                      7\n",
       "gifts                                5\n",
       "party                                5\n",
       "air_conditioning                     3\n",
       "other                                3\n",
       "perfume                              2\n",
       "games_consoles                       2\n",
       "religious                            1\n",
       "Name: business_segment, dtype: int64"
      ]
     },
     "execution_count": 151,
     "metadata": {},
     "output_type": "execute_result"
    }
   ],
   "source": [
    "df2['business_segment'].value_counts()"
   ]
  },
  {
   "cell_type": "markdown",
   "id": "44bfffd7",
   "metadata": {},
   "source": [
    "### 2.2.7 lead_type"
   ]
  },
  {
   "cell_type": "code",
   "execution_count": 152,
   "id": "af626625",
   "metadata": {},
   "outputs": [
    {
     "name": "stdout",
     "output_type": "stream",
     "text": [
      "['online_medium', 'industry', 'online_big', 'online_small', 'offline', 'online_top', 'online_beginner', nan, 'other']\n"
     ]
    }
   ],
   "source": [
    "list_lead_type = df2['lead_type'].unique().tolist()\n",
    "print(list_lead_type)"
   ]
  },
  {
   "cell_type": "code",
   "execution_count": 153,
   "id": "b51413f6",
   "metadata": {},
   "outputs": [
    {
     "data": {
      "text/plain": [
       "online_medium      332\n",
       "online_big         126\n",
       "industry           123\n",
       "offline            104\n",
       "online_small        77\n",
       "online_beginner     57\n",
       "online_top          14\n",
       "other                3\n",
       "Name: lead_type, dtype: int64"
      ]
     },
     "execution_count": 153,
     "metadata": {},
     "output_type": "execute_result"
    }
   ],
   "source": [
    "df2['lead_type'].value_counts()"
   ]
  },
  {
   "cell_type": "markdown",
   "id": "7a6f6398",
   "metadata": {},
   "source": [
    "### 2.2.8 lead_behaviour_profile "
   ]
  },
  {
   "cell_type": "markdown",
   "id": "83734f53",
   "metadata": {},
   "source": [
    "`lead_behaviour_profile` is related to DISC personality test. Each type has the meaning as follows.\n",
    "_* Source: [DISC Profile](https://www.discprofile.com/what-is-disc/overview/)_\n",
    "\n",
    "Behaviour_profile | DISC_profile | Description\n",
    "------------------- | ------------- | ------------\n",
    "Cat | Steadiness | Person places emphasis on cooperation, sincerity, dependability\n",
    "Eagle | Influence | Person places emphasis on influencing or persuading others, openness, relationships\n",
    "Wolf | Conscientiousness | Person places emphasis on quality and accuracy, expertise, competency\n",
    "Shark | Dominance | Person places emphasis on accomplishing results, the bottom line, confidence"
   ]
  },
  {
   "cell_type": "code",
   "execution_count": 154,
   "id": "9fd7f05f",
   "metadata": {},
   "outputs": [
    {
     "name": "stdout",
     "output_type": "stream",
     "text": [
      "['cat', 'eagle', nan, 'wolf', 'shark', 'eagle, wolf', 'cat, wolf', 'shark, cat', 'eagle, cat', 'shark, wolf']\n"
     ]
    }
   ],
   "source": [
    "list_lead_behaviour_profile = df2['lead_behaviour_profile'].unique().tolist()\n",
    "print(list_lead_behaviour_profile)"
   ]
  },
  {
   "cell_type": "code",
   "execution_count": 155,
   "id": "878df5c2",
   "metadata": {},
   "outputs": [
    {
     "data": {
      "text/plain": [
       "cat            407\n",
       "eagle          123\n",
       "wolf            95\n",
       "shark           24\n",
       "cat, wolf        8\n",
       "eagle, wolf      3\n",
       "eagle, cat       3\n",
       "shark, cat       1\n",
       "shark, wolf      1\n",
       "Name: lead_behaviour_profile, dtype: int64"
      ]
     },
     "execution_count": 155,
     "metadata": {},
     "output_type": "execute_result"
    }
   ],
   "source": [
    "df2['lead_behaviour_profile'].value_counts()"
   ]
  },
  {
   "cell_type": "markdown",
   "id": "6f794389",
   "metadata": {},
   "source": [
    "### 2.2.9 business_type "
   ]
  },
  {
   "cell_type": "code",
   "execution_count": 156,
   "id": "cfcefb87",
   "metadata": {},
   "outputs": [
    {
     "name": "stdout",
     "output_type": "stream",
     "text": [
      "['reseller', 'manufacturer', nan, 'other']\n"
     ]
    }
   ],
   "source": [
    "list_business_type = df2['business_type'].unique().tolist()\n",
    "print(list_business_type)"
   ]
  },
  {
   "cell_type": "code",
   "execution_count": 157,
   "id": "a40c7503",
   "metadata": {},
   "outputs": [
    {
     "data": {
      "text/plain": [
       "reseller        587\n",
       "manufacturer    242\n",
       "other             3\n",
       "Name: business_type, dtype: int64"
      ]
     },
     "execution_count": 157,
     "metadata": {},
     "output_type": "execute_result"
    }
   ],
   "source": [
    "df2['business_type'].value_counts()"
   ]
  },
  {
   "cell_type": "markdown",
   "id": "705a2cf0",
   "metadata": {},
   "source": [
    "### 2.2.10 Insight and Data Cleaning Issue from Closed Deal Data"
   ]
  },
  {
   "cell_type": "markdown",
   "id": "f214022c",
   "metadata": {},
   "source": [
    "1. Number of duplicate values in `mql_id` = 0\n",
    "2. Number of duplicate values in `seller_id` = 0\n",
    "3. Olist has 32 sales development representative\n",
    "4. Olist has 22 sales representative\n",
    "5. Latest won date is 2018-11-14 18:04:19, earliest won date is 2018-11-14 18:04:19\n",
    "6. Olist has 33 number of business segment (include `other` and `NaN` values)\n",
    "7. There is 8 lead_type (include `other` and `NaN` values)\n",
    "8. Lead has 8 category and combination of behaviour profile (exclude `NaN `values)\n",
    "9. Olist seller only has 2 define business_type(reseller and manufacturer)\n",
    "10. There is small number of missing value in business_segment, lead_behaviour_profile,and business_type\n",
    "11. There is large number of missing value in `has_company`, `has_gtin`, `average_stock`, `declared_product_catalog_size` (will be drop) "
   ]
  },
  {
   "cell_type": "markdown",
   "id": "ba823531",
   "metadata": {},
   "source": [
    "# 2. Data Cleaning"
   ]
  },
  {
   "cell_type": "markdown",
   "id": "3cbfb04c",
   "metadata": {},
   "source": [
    "## 2.1 Variable Handling "
   ]
  },
  {
   "cell_type": "code",
   "execution_count": 158,
   "id": "3ea40112",
   "metadata": {},
   "outputs": [
    {
     "data": {
      "text/plain": [
       "mql_id                object\n",
       "first_contact_date    object\n",
       "landing_page_id       object\n",
       "origin                object\n",
       "dtype: object"
      ]
     },
     "execution_count": 158,
     "metadata": {},
     "output_type": "execute_result"
    }
   ],
   "source": [
    "df.dtypes"
   ]
  },
  {
   "cell_type": "code",
   "execution_count": 159,
   "id": "5242221f",
   "metadata": {},
   "outputs": [
    {
     "data": {
      "text/plain": [
       "0    2018-02-01\n",
       "1    2017-10-20\n",
       "2    2018-03-22\n",
       "3    2018-01-22\n",
       "4    2018-02-21\n",
       "Name: first_contact_date, dtype: object"
      ]
     },
     "execution_count": 159,
     "metadata": {},
     "output_type": "execute_result"
    }
   ],
   "source": [
    "df['first_contact_date'].head()"
   ]
  },
  {
   "cell_type": "code",
   "execution_count": 160,
   "id": "4c1615b9",
   "metadata": {},
   "outputs": [],
   "source": [
    "df['first_contact_date'] = pd.to_datetime(arg=df['first_contact_date'])#, format='%Y-%m-%d')"
   ]
  },
  {
   "cell_type": "code",
   "execution_count": 161,
   "id": "e2d1b6a6",
   "metadata": {},
   "outputs": [
    {
     "data": {
      "text/plain": [
       "mql_id                        object\n",
       "first_contact_date    datetime64[ns]\n",
       "landing_page_id               object\n",
       "origin                        object\n",
       "dtype: object"
      ]
     },
     "execution_count": 161,
     "metadata": {},
     "output_type": "execute_result"
    }
   ],
   "source": [
    "df.dtypes"
   ]
  },
  {
   "cell_type": "code",
   "execution_count": 162,
   "id": "5c79516b",
   "metadata": {},
   "outputs": [
    {
     "data": {
      "text/plain": [
       "0   2018-02-01\n",
       "1   2017-10-20\n",
       "2   2018-03-22\n",
       "3   2018-01-22\n",
       "4   2018-02-21\n",
       "Name: first_contact_date, dtype: datetime64[ns]"
      ]
     },
     "execution_count": 162,
     "metadata": {},
     "output_type": "execute_result"
    }
   ],
   "source": [
    "df['first_contact_date'].head()"
   ]
  },
  {
   "cell_type": "code",
   "execution_count": 163,
   "id": "f945b486",
   "metadata": {},
   "outputs": [
    {
     "data": {
      "text/plain": [
       "mql_id                            object\n",
       "seller_id                         object\n",
       "sdr_id                            object\n",
       "sr_id                             object\n",
       "won_date                          object\n",
       "business_segment                  object\n",
       "lead_type                         object\n",
       "lead_behaviour_profile            object\n",
       "has_company                       object\n",
       "has_gtin                          object\n",
       "average_stock                     object\n",
       "business_type                     object\n",
       "declared_product_catalog_size    float64\n",
       "declared_monthly_revenue           int64\n",
       "dtype: object"
      ]
     },
     "execution_count": 163,
     "metadata": {},
     "output_type": "execute_result"
    }
   ],
   "source": [
    "df2.dtypes"
   ]
  },
  {
   "cell_type": "code",
   "execution_count": 164,
   "id": "e6fbae1e",
   "metadata": {},
   "outputs": [
    {
     "data": {
      "text/plain": [
       "0    2018-02-26 19:58:54\n",
       "1    2018-05-08 20:17:59\n",
       "2    2018-06-05 17:27:23\n",
       "3    2018-01-17 13:51:03\n",
       "4    2018-07-03 20:17:45\n",
       "Name: won_date, dtype: object"
      ]
     },
     "execution_count": 164,
     "metadata": {},
     "output_type": "execute_result"
    }
   ],
   "source": [
    "df2['won_date'].head()"
   ]
  },
  {
   "cell_type": "code",
   "execution_count": 165,
   "id": "228c09b2",
   "metadata": {},
   "outputs": [],
   "source": [
    "df2['won_date'] = pd.to_datetime(arg=df2['won_date'])#, format='%Y-%m-%d %H:%M:%S')"
   ]
  },
  {
   "cell_type": "code",
   "execution_count": 166,
   "id": "71438b7d",
   "metadata": {},
   "outputs": [
    {
     "data": {
      "text/plain": [
       "mql_id                                   object\n",
       "seller_id                                object\n",
       "sdr_id                                   object\n",
       "sr_id                                    object\n",
       "won_date                         datetime64[ns]\n",
       "business_segment                         object\n",
       "lead_type                                object\n",
       "lead_behaviour_profile                   object\n",
       "has_company                              object\n",
       "has_gtin                                 object\n",
       "average_stock                            object\n",
       "business_type                            object\n",
       "declared_product_catalog_size           float64\n",
       "declared_monthly_revenue                  int64\n",
       "dtype: object"
      ]
     },
     "execution_count": 166,
     "metadata": {},
     "output_type": "execute_result"
    }
   ],
   "source": [
    "df2.dtypes"
   ]
  },
  {
   "cell_type": "code",
   "execution_count": 167,
   "id": "6a40e3a4",
   "metadata": {},
   "outputs": [
    {
     "data": {
      "text/plain": [
       "0   2018-02-26 19:58:54\n",
       "1   2018-05-08 20:17:59\n",
       "2   2018-06-05 17:27:23\n",
       "3   2018-01-17 13:51:03\n",
       "4   2018-07-03 20:17:45\n",
       "Name: won_date, dtype: datetime64[ns]"
      ]
     },
     "execution_count": 167,
     "metadata": {},
     "output_type": "execute_result"
    }
   ],
   "source": [
    "df2['won_date'].head()"
   ]
  },
  {
   "cell_type": "markdown",
   "id": "2fa48098",
   "metadata": {},
   "source": [
    "## 2.2 Duplicate Value Handling "
   ]
  },
  {
   "cell_type": "code",
   "execution_count": 168,
   "id": "e73bafe5",
   "metadata": {},
   "outputs": [
    {
     "data": {
      "text/plain": [
       "0"
      ]
     },
     "execution_count": 168,
     "metadata": {},
     "output_type": "execute_result"
    }
   ],
   "source": [
    "df['mql_id'].duplicated().sum()"
   ]
  },
  {
   "cell_type": "code",
   "execution_count": 169,
   "id": "d52b8fd8",
   "metadata": {},
   "outputs": [
    {
     "data": {
      "text/plain": [
       "0"
      ]
     },
     "execution_count": 169,
     "metadata": {},
     "output_type": "execute_result"
    }
   ],
   "source": [
    "df2['seller_id'].duplicated().sum()"
   ]
  },
  {
   "cell_type": "markdown",
   "id": "7371a946",
   "metadata": {},
   "source": [
    "No duplicated data is required to be imputed, `mql_id` on mql data is unique, also `seller_id` on closed_deal data is unique."
   ]
  },
  {
   "cell_type": "markdown",
   "id": "49225f29",
   "metadata": {},
   "source": [
    "## 2.4 Feature Addition "
   ]
  },
  {
   "cell_type": "markdown",
   "id": "28ab730f",
   "metadata": {},
   "source": [
    "### 2.4.1 Add first_contact_month "
   ]
  },
  {
   "cell_type": "code",
   "execution_count": 170,
   "id": "7664ef9a",
   "metadata": {},
   "outputs": [
    {
     "data": {
      "text/plain": [
       "0    2018-02\n",
       "1    2017-10\n",
       "2    2018-03\n",
       "3    2018-01\n",
       "4    2018-02\n",
       "Name: first_contact_date, dtype: object"
      ]
     },
     "execution_count": 170,
     "metadata": {},
     "output_type": "execute_result"
    }
   ],
   "source": [
    "#Defining first_contact_month\n",
    "first_contact_month = df['first_contact_date'].dt.to_period('M').astype(str)\n",
    "first_contact_month.head()"
   ]
  },
  {
   "cell_type": "code",
   "execution_count": 171,
   "id": "ad1b59d4",
   "metadata": {},
   "outputs": [],
   "source": [
    "#Adding first_contact_month\n",
    "df.insert(loc=2, column='first_contact_month', value=first_contact_month.values)"
   ]
  },
  {
   "cell_type": "code",
   "execution_count": 172,
   "id": "3fcb338b",
   "metadata": {},
   "outputs": [
    {
     "data": {
      "text/html": [
       "<div>\n",
       "<style scoped>\n",
       "    .dataframe tbody tr th:only-of-type {\n",
       "        vertical-align: middle;\n",
       "    }\n",
       "\n",
       "    .dataframe tbody tr th {\n",
       "        vertical-align: top;\n",
       "    }\n",
       "\n",
       "    .dataframe thead th {\n",
       "        text-align: right;\n",
       "    }\n",
       "</style>\n",
       "<table border=\"1\" class=\"dataframe\">\n",
       "  <thead>\n",
       "    <tr style=\"text-align: right;\">\n",
       "      <th></th>\n",
       "      <th>mql_id</th>\n",
       "      <th>first_contact_date</th>\n",
       "      <th>first_contact_month</th>\n",
       "      <th>landing_page_id</th>\n",
       "      <th>origin</th>\n",
       "    </tr>\n",
       "  </thead>\n",
       "  <tbody>\n",
       "    <tr>\n",
       "      <th>0</th>\n",
       "      <td>dac32acd4db4c29c230538b72f8dd87d</td>\n",
       "      <td>2018-02-01</td>\n",
       "      <td>2018-02</td>\n",
       "      <td>88740e65d5d6b056e0cda098e1ea6313</td>\n",
       "      <td>social</td>\n",
       "    </tr>\n",
       "    <tr>\n",
       "      <th>1</th>\n",
       "      <td>8c18d1de7f67e60dbd64e3c07d7e9d5d</td>\n",
       "      <td>2017-10-20</td>\n",
       "      <td>2017-10</td>\n",
       "      <td>007f9098284a86ee80ddeb25d53e0af8</td>\n",
       "      <td>paid_search</td>\n",
       "    </tr>\n",
       "    <tr>\n",
       "      <th>2</th>\n",
       "      <td>b4bc852d233dfefc5131f593b538befa</td>\n",
       "      <td>2018-03-22</td>\n",
       "      <td>2018-03</td>\n",
       "      <td>a7982125ff7aa3b2054c6e44f9d28522</td>\n",
       "      <td>organic_search</td>\n",
       "    </tr>\n",
       "    <tr>\n",
       "      <th>3</th>\n",
       "      <td>6be030b81c75970747525b843c1ef4f8</td>\n",
       "      <td>2018-01-22</td>\n",
       "      <td>2018-01</td>\n",
       "      <td>d45d558f0daeecf3cccdffe3c59684aa</td>\n",
       "      <td>email</td>\n",
       "    </tr>\n",
       "    <tr>\n",
       "      <th>4</th>\n",
       "      <td>5420aad7fec3549a85876ba1c529bd84</td>\n",
       "      <td>2018-02-21</td>\n",
       "      <td>2018-02</td>\n",
       "      <td>b48ec5f3b04e9068441002a19df93c6c</td>\n",
       "      <td>organic_search</td>\n",
       "    </tr>\n",
       "  </tbody>\n",
       "</table>\n",
       "</div>"
      ],
      "text/plain": [
       "                             mql_id first_contact_date first_contact_month  \\\n",
       "0  dac32acd4db4c29c230538b72f8dd87d         2018-02-01             2018-02   \n",
       "1  8c18d1de7f67e60dbd64e3c07d7e9d5d         2017-10-20             2017-10   \n",
       "2  b4bc852d233dfefc5131f593b538befa         2018-03-22             2018-03   \n",
       "3  6be030b81c75970747525b843c1ef4f8         2018-01-22             2018-01   \n",
       "4  5420aad7fec3549a85876ba1c529bd84         2018-02-21             2018-02   \n",
       "\n",
       "                    landing_page_id          origin  \n",
       "0  88740e65d5d6b056e0cda098e1ea6313          social  \n",
       "1  007f9098284a86ee80ddeb25d53e0af8     paid_search  \n",
       "2  a7982125ff7aa3b2054c6e44f9d28522  organic_search  \n",
       "3  d45d558f0daeecf3cccdffe3c59684aa           email  \n",
       "4  b48ec5f3b04e9068441002a19df93c6c  organic_search  "
      ]
     },
     "execution_count": 172,
     "metadata": {},
     "output_type": "execute_result"
    }
   ],
   "source": [
    "df.head()"
   ]
  },
  {
   "cell_type": "code",
   "execution_count": 173,
   "id": "27c9ce02",
   "metadata": {},
   "outputs": [
    {
     "data": {
      "text/plain": [
       "dtype('O')"
      ]
     },
     "execution_count": 173,
     "metadata": {},
     "output_type": "execute_result"
    }
   ],
   "source": [
    "df['first_contact_month'].dtype"
   ]
  },
  {
   "cell_type": "markdown",
   "id": "99c8957d",
   "metadata": {},
   "source": [
    "### 2.4.2 Add close_date "
   ]
  },
  {
   "cell_type": "code",
   "execution_count": 174,
   "id": "6efa7b7c",
   "metadata": {},
   "outputs": [
    {
     "name": "stdout",
     "output_type": "stream",
     "text": [
      "0   2018-02-26 19:58:54\n",
      "1   2018-05-08 20:17:59\n",
      "2   2018-06-05 17:27:23\n",
      "3   2018-01-17 13:51:03\n",
      "4   2018-07-03 20:17:45\n",
      "Name: won_date, dtype: datetime64[ns] \n",
      "\n",
      "0      2018-02-26\n",
      "1      2018-05-08\n",
      "2      2018-06-05\n",
      "3      2018-01-17\n",
      "4      2018-07-03\n",
      "          ...    \n",
      "837    2018-08-20\n",
      "838    2018-08-23\n",
      "839    2018-11-09\n",
      "840    2018-09-24\n",
      "841    2018-10-24\n",
      "Name: won_date, Length: 842, dtype: object \n",
      "\n",
      "0     2018-02-26\n",
      "1     2018-05-08\n",
      "2     2018-06-05\n",
      "3     2018-01-17\n",
      "4     2018-07-03\n",
      "         ...    \n",
      "837   2018-08-20\n",
      "838   2018-08-23\n",
      "839   2018-11-09\n",
      "840   2018-09-24\n",
      "841   2018-10-24\n",
      "Name: won_date, Length: 842, dtype: datetime64[ns]\n"
     ]
    }
   ],
   "source": [
    "#Defining close_date without hour\n",
    "print(df2['won_date'].head(), '\\n')\n",
    "close_date = df2['won_date'].dt.date\n",
    "print(close_date, '\\n')\n",
    "close_date = pd.to_datetime(close_date)\n",
    "print(close_date)"
   ]
  },
  {
   "cell_type": "code",
   "execution_count": 175,
   "id": "4d664515",
   "metadata": {},
   "outputs": [],
   "source": [
    "#Adding close_date\n",
    "df2.insert(loc=5, column='close_date', value=close_date.values)"
   ]
  },
  {
   "cell_type": "code",
   "execution_count": 176,
   "id": "288364e0",
   "metadata": {},
   "outputs": [
    {
     "data": {
      "text/html": [
       "<div>\n",
       "<style scoped>\n",
       "    .dataframe tbody tr th:only-of-type {\n",
       "        vertical-align: middle;\n",
       "    }\n",
       "\n",
       "    .dataframe tbody tr th {\n",
       "        vertical-align: top;\n",
       "    }\n",
       "\n",
       "    .dataframe thead th {\n",
       "        text-align: right;\n",
       "    }\n",
       "</style>\n",
       "<table border=\"1\" class=\"dataframe\">\n",
       "  <thead>\n",
       "    <tr style=\"text-align: right;\">\n",
       "      <th></th>\n",
       "      <th>mql_id</th>\n",
       "      <th>seller_id</th>\n",
       "      <th>sdr_id</th>\n",
       "      <th>sr_id</th>\n",
       "      <th>won_date</th>\n",
       "      <th>close_date</th>\n",
       "      <th>business_segment</th>\n",
       "      <th>lead_type</th>\n",
       "      <th>lead_behaviour_profile</th>\n",
       "      <th>has_company</th>\n",
       "      <th>has_gtin</th>\n",
       "      <th>average_stock</th>\n",
       "      <th>business_type</th>\n",
       "      <th>declared_product_catalog_size</th>\n",
       "      <th>declared_monthly_revenue</th>\n",
       "    </tr>\n",
       "  </thead>\n",
       "  <tbody>\n",
       "    <tr>\n",
       "      <th>0</th>\n",
       "      <td>5420aad7fec3549a85876ba1c529bd84</td>\n",
       "      <td>2c43fb513632d29b3b58df74816f1b06</td>\n",
       "      <td>a8387c01a09e99ce014107505b92388c</td>\n",
       "      <td>4ef15afb4b2723d8f3d81e51ec7afefe</td>\n",
       "      <td>2018-02-26 19:58:54</td>\n",
       "      <td>2018-02-26</td>\n",
       "      <td>pet</td>\n",
       "      <td>online_medium</td>\n",
       "      <td>cat</td>\n",
       "      <td>NaN</td>\n",
       "      <td>NaN</td>\n",
       "      <td>NaN</td>\n",
       "      <td>reseller</td>\n",
       "      <td>NaN</td>\n",
       "      <td>0</td>\n",
       "    </tr>\n",
       "    <tr>\n",
       "      <th>1</th>\n",
       "      <td>a555fb36b9368110ede0f043dfc3b9a0</td>\n",
       "      <td>bbb7d7893a450660432ea6652310ebb7</td>\n",
       "      <td>09285259593c61296eef10c734121d5b</td>\n",
       "      <td>d3d1e91a157ea7f90548eef82f1955e3</td>\n",
       "      <td>2018-05-08 20:17:59</td>\n",
       "      <td>2018-05-08</td>\n",
       "      <td>car_accessories</td>\n",
       "      <td>industry</td>\n",
       "      <td>eagle</td>\n",
       "      <td>NaN</td>\n",
       "      <td>NaN</td>\n",
       "      <td>NaN</td>\n",
       "      <td>reseller</td>\n",
       "      <td>NaN</td>\n",
       "      <td>0</td>\n",
       "    </tr>\n",
       "    <tr>\n",
       "      <th>2</th>\n",
       "      <td>327174d3648a2d047e8940d7d15204ca</td>\n",
       "      <td>612170e34b97004b3ba37eae81836b4c</td>\n",
       "      <td>b90f87164b5f8c2cfa5c8572834dbe3f</td>\n",
       "      <td>6565aa9ce3178a5caf6171827af3a9ba</td>\n",
       "      <td>2018-06-05 17:27:23</td>\n",
       "      <td>2018-06-05</td>\n",
       "      <td>home_appliances</td>\n",
       "      <td>online_big</td>\n",
       "      <td>cat</td>\n",
       "      <td>NaN</td>\n",
       "      <td>NaN</td>\n",
       "      <td>NaN</td>\n",
       "      <td>reseller</td>\n",
       "      <td>NaN</td>\n",
       "      <td>0</td>\n",
       "    </tr>\n",
       "    <tr>\n",
       "      <th>3</th>\n",
       "      <td>f5fee8f7da74f4887f5bcae2bafb6dd6</td>\n",
       "      <td>21e1781e36faf92725dde4730a88ca0f</td>\n",
       "      <td>56bf83c4bb35763a51c2baab501b4c67</td>\n",
       "      <td>d3d1e91a157ea7f90548eef82f1955e3</td>\n",
       "      <td>2018-01-17 13:51:03</td>\n",
       "      <td>2018-01-17</td>\n",
       "      <td>food_drink</td>\n",
       "      <td>online_small</td>\n",
       "      <td>NaN</td>\n",
       "      <td>NaN</td>\n",
       "      <td>NaN</td>\n",
       "      <td>NaN</td>\n",
       "      <td>reseller</td>\n",
       "      <td>NaN</td>\n",
       "      <td>0</td>\n",
       "    </tr>\n",
       "    <tr>\n",
       "      <th>4</th>\n",
       "      <td>ffe640179b554e295c167a2f6be528e0</td>\n",
       "      <td>ed8cb7b190ceb6067227478e48cf8dde</td>\n",
       "      <td>4b339f9567d060bcea4f5136b9f5949e</td>\n",
       "      <td>d3d1e91a157ea7f90548eef82f1955e3</td>\n",
       "      <td>2018-07-03 20:17:45</td>\n",
       "      <td>2018-07-03</td>\n",
       "      <td>home_appliances</td>\n",
       "      <td>industry</td>\n",
       "      <td>wolf</td>\n",
       "      <td>NaN</td>\n",
       "      <td>NaN</td>\n",
       "      <td>NaN</td>\n",
       "      <td>manufacturer</td>\n",
       "      <td>NaN</td>\n",
       "      <td>0</td>\n",
       "    </tr>\n",
       "  </tbody>\n",
       "</table>\n",
       "</div>"
      ],
      "text/plain": [
       "                             mql_id                         seller_id  \\\n",
       "0  5420aad7fec3549a85876ba1c529bd84  2c43fb513632d29b3b58df74816f1b06   \n",
       "1  a555fb36b9368110ede0f043dfc3b9a0  bbb7d7893a450660432ea6652310ebb7   \n",
       "2  327174d3648a2d047e8940d7d15204ca  612170e34b97004b3ba37eae81836b4c   \n",
       "3  f5fee8f7da74f4887f5bcae2bafb6dd6  21e1781e36faf92725dde4730a88ca0f   \n",
       "4  ffe640179b554e295c167a2f6be528e0  ed8cb7b190ceb6067227478e48cf8dde   \n",
       "\n",
       "                             sdr_id                             sr_id  \\\n",
       "0  a8387c01a09e99ce014107505b92388c  4ef15afb4b2723d8f3d81e51ec7afefe   \n",
       "1  09285259593c61296eef10c734121d5b  d3d1e91a157ea7f90548eef82f1955e3   \n",
       "2  b90f87164b5f8c2cfa5c8572834dbe3f  6565aa9ce3178a5caf6171827af3a9ba   \n",
       "3  56bf83c4bb35763a51c2baab501b4c67  d3d1e91a157ea7f90548eef82f1955e3   \n",
       "4  4b339f9567d060bcea4f5136b9f5949e  d3d1e91a157ea7f90548eef82f1955e3   \n",
       "\n",
       "             won_date close_date business_segment      lead_type  \\\n",
       "0 2018-02-26 19:58:54 2018-02-26              pet  online_medium   \n",
       "1 2018-05-08 20:17:59 2018-05-08  car_accessories       industry   \n",
       "2 2018-06-05 17:27:23 2018-06-05  home_appliances     online_big   \n",
       "3 2018-01-17 13:51:03 2018-01-17       food_drink   online_small   \n",
       "4 2018-07-03 20:17:45 2018-07-03  home_appliances       industry   \n",
       "\n",
       "  lead_behaviour_profile has_company has_gtin average_stock business_type  \\\n",
       "0                    cat         NaN      NaN           NaN      reseller   \n",
       "1                  eagle         NaN      NaN           NaN      reseller   \n",
       "2                    cat         NaN      NaN           NaN      reseller   \n",
       "3                    NaN         NaN      NaN           NaN      reseller   \n",
       "4                   wolf         NaN      NaN           NaN  manufacturer   \n",
       "\n",
       "   declared_product_catalog_size  declared_monthly_revenue  \n",
       "0                            NaN                         0  \n",
       "1                            NaN                         0  \n",
       "2                            NaN                         0  \n",
       "3                            NaN                         0  \n",
       "4                            NaN                         0  "
      ]
     },
     "execution_count": 176,
     "metadata": {},
     "output_type": "execute_result"
    }
   ],
   "source": [
    "df2.head()"
   ]
  },
  {
   "cell_type": "markdown",
   "id": "daf4d3d5",
   "metadata": {},
   "source": [
    "### 2.4.3 Add won_month "
   ]
  },
  {
   "cell_type": "code",
   "execution_count": 177,
   "id": "0b6d6b6f",
   "metadata": {},
   "outputs": [
    {
     "data": {
      "text/plain": [
       "0   2018-02-26 19:58:54\n",
       "1   2018-05-08 20:17:59\n",
       "2   2018-06-05 17:27:23\n",
       "3   2018-01-17 13:51:03\n",
       "4   2018-07-03 20:17:45\n",
       "Name: won_date, dtype: datetime64[ns]"
      ]
     },
     "execution_count": 177,
     "metadata": {},
     "output_type": "execute_result"
    }
   ],
   "source": [
    "df2['won_date'].head()"
   ]
  },
  {
   "cell_type": "code",
   "execution_count": 178,
   "id": "b0c8a71e",
   "metadata": {},
   "outputs": [
    {
     "data": {
      "text/plain": [
       "0    2018-02\n",
       "1    2018-05\n",
       "2    2018-06\n",
       "3    2018-01\n",
       "4    2018-07\n",
       "Name: won_date, dtype: object"
      ]
     },
     "execution_count": 178,
     "metadata": {},
     "output_type": "execute_result"
    }
   ],
   "source": [
    "#Defining won_month\n",
    "won_month = df2['won_date'].dt.to_period('M').astype(str)\n",
    "won_month.head()"
   ]
  },
  {
   "cell_type": "code",
   "execution_count": 179,
   "id": "f9286680",
   "metadata": {},
   "outputs": [
    {
     "data": {
      "text/html": [
       "<div>\n",
       "<style scoped>\n",
       "    .dataframe tbody tr th:only-of-type {\n",
       "        vertical-align: middle;\n",
       "    }\n",
       "\n",
       "    .dataframe tbody tr th {\n",
       "        vertical-align: top;\n",
       "    }\n",
       "\n",
       "    .dataframe thead th {\n",
       "        text-align: right;\n",
       "    }\n",
       "</style>\n",
       "<table border=\"1\" class=\"dataframe\">\n",
       "  <thead>\n",
       "    <tr style=\"text-align: right;\">\n",
       "      <th></th>\n",
       "      <th>mql_id</th>\n",
       "      <th>seller_id</th>\n",
       "      <th>sdr_id</th>\n",
       "      <th>sr_id</th>\n",
       "      <th>won_date</th>\n",
       "      <th>close_date</th>\n",
       "      <th>won_month</th>\n",
       "      <th>business_segment</th>\n",
       "      <th>lead_type</th>\n",
       "      <th>lead_behaviour_profile</th>\n",
       "      <th>has_company</th>\n",
       "      <th>has_gtin</th>\n",
       "      <th>average_stock</th>\n",
       "      <th>business_type</th>\n",
       "      <th>declared_product_catalog_size</th>\n",
       "      <th>declared_monthly_revenue</th>\n",
       "    </tr>\n",
       "  </thead>\n",
       "  <tbody>\n",
       "    <tr>\n",
       "      <th>0</th>\n",
       "      <td>5420aad7fec3549a85876ba1c529bd84</td>\n",
       "      <td>2c43fb513632d29b3b58df74816f1b06</td>\n",
       "      <td>a8387c01a09e99ce014107505b92388c</td>\n",
       "      <td>4ef15afb4b2723d8f3d81e51ec7afefe</td>\n",
       "      <td>2018-02-26 19:58:54</td>\n",
       "      <td>2018-02-26</td>\n",
       "      <td>2018-02</td>\n",
       "      <td>pet</td>\n",
       "      <td>online_medium</td>\n",
       "      <td>cat</td>\n",
       "      <td>NaN</td>\n",
       "      <td>NaN</td>\n",
       "      <td>NaN</td>\n",
       "      <td>reseller</td>\n",
       "      <td>NaN</td>\n",
       "      <td>0</td>\n",
       "    </tr>\n",
       "    <tr>\n",
       "      <th>1</th>\n",
       "      <td>a555fb36b9368110ede0f043dfc3b9a0</td>\n",
       "      <td>bbb7d7893a450660432ea6652310ebb7</td>\n",
       "      <td>09285259593c61296eef10c734121d5b</td>\n",
       "      <td>d3d1e91a157ea7f90548eef82f1955e3</td>\n",
       "      <td>2018-05-08 20:17:59</td>\n",
       "      <td>2018-05-08</td>\n",
       "      <td>2018-05</td>\n",
       "      <td>car_accessories</td>\n",
       "      <td>industry</td>\n",
       "      <td>eagle</td>\n",
       "      <td>NaN</td>\n",
       "      <td>NaN</td>\n",
       "      <td>NaN</td>\n",
       "      <td>reseller</td>\n",
       "      <td>NaN</td>\n",
       "      <td>0</td>\n",
       "    </tr>\n",
       "    <tr>\n",
       "      <th>2</th>\n",
       "      <td>327174d3648a2d047e8940d7d15204ca</td>\n",
       "      <td>612170e34b97004b3ba37eae81836b4c</td>\n",
       "      <td>b90f87164b5f8c2cfa5c8572834dbe3f</td>\n",
       "      <td>6565aa9ce3178a5caf6171827af3a9ba</td>\n",
       "      <td>2018-06-05 17:27:23</td>\n",
       "      <td>2018-06-05</td>\n",
       "      <td>2018-06</td>\n",
       "      <td>home_appliances</td>\n",
       "      <td>online_big</td>\n",
       "      <td>cat</td>\n",
       "      <td>NaN</td>\n",
       "      <td>NaN</td>\n",
       "      <td>NaN</td>\n",
       "      <td>reseller</td>\n",
       "      <td>NaN</td>\n",
       "      <td>0</td>\n",
       "    </tr>\n",
       "    <tr>\n",
       "      <th>3</th>\n",
       "      <td>f5fee8f7da74f4887f5bcae2bafb6dd6</td>\n",
       "      <td>21e1781e36faf92725dde4730a88ca0f</td>\n",
       "      <td>56bf83c4bb35763a51c2baab501b4c67</td>\n",
       "      <td>d3d1e91a157ea7f90548eef82f1955e3</td>\n",
       "      <td>2018-01-17 13:51:03</td>\n",
       "      <td>2018-01-17</td>\n",
       "      <td>2018-01</td>\n",
       "      <td>food_drink</td>\n",
       "      <td>online_small</td>\n",
       "      <td>NaN</td>\n",
       "      <td>NaN</td>\n",
       "      <td>NaN</td>\n",
       "      <td>NaN</td>\n",
       "      <td>reseller</td>\n",
       "      <td>NaN</td>\n",
       "      <td>0</td>\n",
       "    </tr>\n",
       "    <tr>\n",
       "      <th>4</th>\n",
       "      <td>ffe640179b554e295c167a2f6be528e0</td>\n",
       "      <td>ed8cb7b190ceb6067227478e48cf8dde</td>\n",
       "      <td>4b339f9567d060bcea4f5136b9f5949e</td>\n",
       "      <td>d3d1e91a157ea7f90548eef82f1955e3</td>\n",
       "      <td>2018-07-03 20:17:45</td>\n",
       "      <td>2018-07-03</td>\n",
       "      <td>2018-07</td>\n",
       "      <td>home_appliances</td>\n",
       "      <td>industry</td>\n",
       "      <td>wolf</td>\n",
       "      <td>NaN</td>\n",
       "      <td>NaN</td>\n",
       "      <td>NaN</td>\n",
       "      <td>manufacturer</td>\n",
       "      <td>NaN</td>\n",
       "      <td>0</td>\n",
       "    </tr>\n",
       "  </tbody>\n",
       "</table>\n",
       "</div>"
      ],
      "text/plain": [
       "                             mql_id                         seller_id  \\\n",
       "0  5420aad7fec3549a85876ba1c529bd84  2c43fb513632d29b3b58df74816f1b06   \n",
       "1  a555fb36b9368110ede0f043dfc3b9a0  bbb7d7893a450660432ea6652310ebb7   \n",
       "2  327174d3648a2d047e8940d7d15204ca  612170e34b97004b3ba37eae81836b4c   \n",
       "3  f5fee8f7da74f4887f5bcae2bafb6dd6  21e1781e36faf92725dde4730a88ca0f   \n",
       "4  ffe640179b554e295c167a2f6be528e0  ed8cb7b190ceb6067227478e48cf8dde   \n",
       "\n",
       "                             sdr_id                             sr_id  \\\n",
       "0  a8387c01a09e99ce014107505b92388c  4ef15afb4b2723d8f3d81e51ec7afefe   \n",
       "1  09285259593c61296eef10c734121d5b  d3d1e91a157ea7f90548eef82f1955e3   \n",
       "2  b90f87164b5f8c2cfa5c8572834dbe3f  6565aa9ce3178a5caf6171827af3a9ba   \n",
       "3  56bf83c4bb35763a51c2baab501b4c67  d3d1e91a157ea7f90548eef82f1955e3   \n",
       "4  4b339f9567d060bcea4f5136b9f5949e  d3d1e91a157ea7f90548eef82f1955e3   \n",
       "\n",
       "             won_date close_date won_month business_segment      lead_type  \\\n",
       "0 2018-02-26 19:58:54 2018-02-26   2018-02              pet  online_medium   \n",
       "1 2018-05-08 20:17:59 2018-05-08   2018-05  car_accessories       industry   \n",
       "2 2018-06-05 17:27:23 2018-06-05   2018-06  home_appliances     online_big   \n",
       "3 2018-01-17 13:51:03 2018-01-17   2018-01       food_drink   online_small   \n",
       "4 2018-07-03 20:17:45 2018-07-03   2018-07  home_appliances       industry   \n",
       "\n",
       "  lead_behaviour_profile has_company has_gtin average_stock business_type  \\\n",
       "0                    cat         NaN      NaN           NaN      reseller   \n",
       "1                  eagle         NaN      NaN           NaN      reseller   \n",
       "2                    cat         NaN      NaN           NaN      reseller   \n",
       "3                    NaN         NaN      NaN           NaN      reseller   \n",
       "4                   wolf         NaN      NaN           NaN  manufacturer   \n",
       "\n",
       "   declared_product_catalog_size  declared_monthly_revenue  \n",
       "0                            NaN                         0  \n",
       "1                            NaN                         0  \n",
       "2                            NaN                         0  \n",
       "3                            NaN                         0  \n",
       "4                            NaN                         0  "
      ]
     },
     "execution_count": 179,
     "metadata": {},
     "output_type": "execute_result"
    }
   ],
   "source": [
    "#Adding won_month\n",
    "df2.insert(loc=6, column='won_month', value=won_month.values)\n",
    "df2.head()"
   ]
  },
  {
   "cell_type": "code",
   "execution_count": 180,
   "id": "cc4ec59a",
   "metadata": {},
   "outputs": [
    {
     "data": {
      "text/plain": [
       "dtype('O')"
      ]
     },
     "execution_count": 180,
     "metadata": {},
     "output_type": "execute_result"
    }
   ],
   "source": [
    "df2['won_month'].dtype"
   ]
  },
  {
   "cell_type": "markdown",
   "id": "01f9a057",
   "metadata": {},
   "source": [
    "### 2.4.4 Add won_date "
   ]
  },
  {
   "cell_type": "code",
   "execution_count": 181,
   "id": "4699f38a",
   "metadata": {},
   "outputs": [
    {
     "data": {
      "text/plain": [
       "0    19\n",
       "1    20\n",
       "2    17\n",
       "3    13\n",
       "4    20\n",
       "Name: won_date, dtype: int32"
      ]
     },
     "execution_count": 181,
     "metadata": {},
     "output_type": "execute_result"
    }
   ],
   "source": [
    "#Defining won_time\n",
    "won_time = df2['won_date'].dt.strftime('%H').astype(int)\n",
    "won_time.head()"
   ]
  },
  {
   "cell_type": "code",
   "execution_count": 182,
   "id": "bd41328f",
   "metadata": {},
   "outputs": [
    {
     "data": {
      "text/html": [
       "<div>\n",
       "<style scoped>\n",
       "    .dataframe tbody tr th:only-of-type {\n",
       "        vertical-align: middle;\n",
       "    }\n",
       "\n",
       "    .dataframe tbody tr th {\n",
       "        vertical-align: top;\n",
       "    }\n",
       "\n",
       "    .dataframe thead th {\n",
       "        text-align: right;\n",
       "    }\n",
       "</style>\n",
       "<table border=\"1\" class=\"dataframe\">\n",
       "  <thead>\n",
       "    <tr style=\"text-align: right;\">\n",
       "      <th></th>\n",
       "      <th>mql_id</th>\n",
       "      <th>seller_id</th>\n",
       "      <th>sdr_id</th>\n",
       "      <th>sr_id</th>\n",
       "      <th>won_date</th>\n",
       "      <th>close_date</th>\n",
       "      <th>won_month</th>\n",
       "      <th>won_time</th>\n",
       "      <th>business_segment</th>\n",
       "      <th>lead_type</th>\n",
       "      <th>lead_behaviour_profile</th>\n",
       "      <th>has_company</th>\n",
       "      <th>has_gtin</th>\n",
       "      <th>average_stock</th>\n",
       "      <th>business_type</th>\n",
       "      <th>declared_product_catalog_size</th>\n",
       "      <th>declared_monthly_revenue</th>\n",
       "    </tr>\n",
       "  </thead>\n",
       "  <tbody>\n",
       "    <tr>\n",
       "      <th>0</th>\n",
       "      <td>5420aad7fec3549a85876ba1c529bd84</td>\n",
       "      <td>2c43fb513632d29b3b58df74816f1b06</td>\n",
       "      <td>a8387c01a09e99ce014107505b92388c</td>\n",
       "      <td>4ef15afb4b2723d8f3d81e51ec7afefe</td>\n",
       "      <td>2018-02-26 19:58:54</td>\n",
       "      <td>2018-02-26</td>\n",
       "      <td>2018-02</td>\n",
       "      <td>19</td>\n",
       "      <td>pet</td>\n",
       "      <td>online_medium</td>\n",
       "      <td>cat</td>\n",
       "      <td>NaN</td>\n",
       "      <td>NaN</td>\n",
       "      <td>NaN</td>\n",
       "      <td>reseller</td>\n",
       "      <td>NaN</td>\n",
       "      <td>0</td>\n",
       "    </tr>\n",
       "    <tr>\n",
       "      <th>1</th>\n",
       "      <td>a555fb36b9368110ede0f043dfc3b9a0</td>\n",
       "      <td>bbb7d7893a450660432ea6652310ebb7</td>\n",
       "      <td>09285259593c61296eef10c734121d5b</td>\n",
       "      <td>d3d1e91a157ea7f90548eef82f1955e3</td>\n",
       "      <td>2018-05-08 20:17:59</td>\n",
       "      <td>2018-05-08</td>\n",
       "      <td>2018-05</td>\n",
       "      <td>20</td>\n",
       "      <td>car_accessories</td>\n",
       "      <td>industry</td>\n",
       "      <td>eagle</td>\n",
       "      <td>NaN</td>\n",
       "      <td>NaN</td>\n",
       "      <td>NaN</td>\n",
       "      <td>reseller</td>\n",
       "      <td>NaN</td>\n",
       "      <td>0</td>\n",
       "    </tr>\n",
       "    <tr>\n",
       "      <th>2</th>\n",
       "      <td>327174d3648a2d047e8940d7d15204ca</td>\n",
       "      <td>612170e34b97004b3ba37eae81836b4c</td>\n",
       "      <td>b90f87164b5f8c2cfa5c8572834dbe3f</td>\n",
       "      <td>6565aa9ce3178a5caf6171827af3a9ba</td>\n",
       "      <td>2018-06-05 17:27:23</td>\n",
       "      <td>2018-06-05</td>\n",
       "      <td>2018-06</td>\n",
       "      <td>17</td>\n",
       "      <td>home_appliances</td>\n",
       "      <td>online_big</td>\n",
       "      <td>cat</td>\n",
       "      <td>NaN</td>\n",
       "      <td>NaN</td>\n",
       "      <td>NaN</td>\n",
       "      <td>reseller</td>\n",
       "      <td>NaN</td>\n",
       "      <td>0</td>\n",
       "    </tr>\n",
       "    <tr>\n",
       "      <th>3</th>\n",
       "      <td>f5fee8f7da74f4887f5bcae2bafb6dd6</td>\n",
       "      <td>21e1781e36faf92725dde4730a88ca0f</td>\n",
       "      <td>56bf83c4bb35763a51c2baab501b4c67</td>\n",
       "      <td>d3d1e91a157ea7f90548eef82f1955e3</td>\n",
       "      <td>2018-01-17 13:51:03</td>\n",
       "      <td>2018-01-17</td>\n",
       "      <td>2018-01</td>\n",
       "      <td>13</td>\n",
       "      <td>food_drink</td>\n",
       "      <td>online_small</td>\n",
       "      <td>NaN</td>\n",
       "      <td>NaN</td>\n",
       "      <td>NaN</td>\n",
       "      <td>NaN</td>\n",
       "      <td>reseller</td>\n",
       "      <td>NaN</td>\n",
       "      <td>0</td>\n",
       "    </tr>\n",
       "    <tr>\n",
       "      <th>4</th>\n",
       "      <td>ffe640179b554e295c167a2f6be528e0</td>\n",
       "      <td>ed8cb7b190ceb6067227478e48cf8dde</td>\n",
       "      <td>4b339f9567d060bcea4f5136b9f5949e</td>\n",
       "      <td>d3d1e91a157ea7f90548eef82f1955e3</td>\n",
       "      <td>2018-07-03 20:17:45</td>\n",
       "      <td>2018-07-03</td>\n",
       "      <td>2018-07</td>\n",
       "      <td>20</td>\n",
       "      <td>home_appliances</td>\n",
       "      <td>industry</td>\n",
       "      <td>wolf</td>\n",
       "      <td>NaN</td>\n",
       "      <td>NaN</td>\n",
       "      <td>NaN</td>\n",
       "      <td>manufacturer</td>\n",
       "      <td>NaN</td>\n",
       "      <td>0</td>\n",
       "    </tr>\n",
       "  </tbody>\n",
       "</table>\n",
       "</div>"
      ],
      "text/plain": [
       "                             mql_id                         seller_id  \\\n",
       "0  5420aad7fec3549a85876ba1c529bd84  2c43fb513632d29b3b58df74816f1b06   \n",
       "1  a555fb36b9368110ede0f043dfc3b9a0  bbb7d7893a450660432ea6652310ebb7   \n",
       "2  327174d3648a2d047e8940d7d15204ca  612170e34b97004b3ba37eae81836b4c   \n",
       "3  f5fee8f7da74f4887f5bcae2bafb6dd6  21e1781e36faf92725dde4730a88ca0f   \n",
       "4  ffe640179b554e295c167a2f6be528e0  ed8cb7b190ceb6067227478e48cf8dde   \n",
       "\n",
       "                             sdr_id                             sr_id  \\\n",
       "0  a8387c01a09e99ce014107505b92388c  4ef15afb4b2723d8f3d81e51ec7afefe   \n",
       "1  09285259593c61296eef10c734121d5b  d3d1e91a157ea7f90548eef82f1955e3   \n",
       "2  b90f87164b5f8c2cfa5c8572834dbe3f  6565aa9ce3178a5caf6171827af3a9ba   \n",
       "3  56bf83c4bb35763a51c2baab501b4c67  d3d1e91a157ea7f90548eef82f1955e3   \n",
       "4  4b339f9567d060bcea4f5136b9f5949e  d3d1e91a157ea7f90548eef82f1955e3   \n",
       "\n",
       "             won_date close_date won_month  won_time business_segment  \\\n",
       "0 2018-02-26 19:58:54 2018-02-26   2018-02        19              pet   \n",
       "1 2018-05-08 20:17:59 2018-05-08   2018-05        20  car_accessories   \n",
       "2 2018-06-05 17:27:23 2018-06-05   2018-06        17  home_appliances   \n",
       "3 2018-01-17 13:51:03 2018-01-17   2018-01        13       food_drink   \n",
       "4 2018-07-03 20:17:45 2018-07-03   2018-07        20  home_appliances   \n",
       "\n",
       "       lead_type lead_behaviour_profile has_company has_gtin average_stock  \\\n",
       "0  online_medium                    cat         NaN      NaN           NaN   \n",
       "1       industry                  eagle         NaN      NaN           NaN   \n",
       "2     online_big                    cat         NaN      NaN           NaN   \n",
       "3   online_small                    NaN         NaN      NaN           NaN   \n",
       "4       industry                   wolf         NaN      NaN           NaN   \n",
       "\n",
       "  business_type  declared_product_catalog_size  declared_monthly_revenue  \n",
       "0      reseller                            NaN                         0  \n",
       "1      reseller                            NaN                         0  \n",
       "2      reseller                            NaN                         0  \n",
       "3      reseller                            NaN                         0  \n",
       "4  manufacturer                            NaN                         0  "
      ]
     },
     "execution_count": 182,
     "metadata": {},
     "output_type": "execute_result"
    }
   ],
   "source": [
    "df2.insert(loc=7, column='won_time', value=won_time.values)\n",
    "df2.head()"
   ]
  },
  {
   "cell_type": "markdown",
   "id": "763aa69e",
   "metadata": {},
   "source": [
    "## 2.3 Irrelevant Value Handling "
   ]
  },
  {
   "cell_type": "code",
   "execution_count": 183,
   "id": "df888105",
   "metadata": {},
   "outputs": [
    {
     "data": {
      "text/plain": [
       "Index(['mql_id', 'seller_id', 'sdr_id', 'sr_id', 'won_date', 'close_date',\n",
       "       'won_month', 'won_time', 'business_segment', 'lead_type',\n",
       "       'lead_behaviour_profile', 'has_company', 'has_gtin', 'average_stock',\n",
       "       'business_type', 'declared_product_catalog_size',\n",
       "       'declared_monthly_revenue'],\n",
       "      dtype='object')"
      ]
     },
     "execution_count": 183,
     "metadata": {},
     "output_type": "execute_result"
    }
   ],
   "source": [
    "df2.columns"
   ]
  },
  {
   "cell_type": "code",
   "execution_count": 184,
   "id": "022fd743",
   "metadata": {},
   "outputs": [
    {
     "data": {
      "text/plain": [
       "mql_id                           842\n",
       "seller_id                        842\n",
       "sdr_id                            32\n",
       "sr_id                             22\n",
       "won_date                         824\n",
       "close_date                       191\n",
       "won_month                         12\n",
       "won_time                          17\n",
       "business_segment                  33\n",
       "lead_type                          8\n",
       "lead_behaviour_profile             9\n",
       "has_company                        2\n",
       "has_gtin                           2\n",
       "average_stock                      6\n",
       "business_type                      3\n",
       "declared_product_catalog_size     33\n",
       "declared_monthly_revenue          27\n",
       "dtype: int64"
      ]
     },
     "execution_count": 184,
     "metadata": {},
     "output_type": "execute_result"
    }
   ],
   "source": [
    "df2.nunique()"
   ]
  },
  {
   "cell_type": "code",
   "execution_count": 185,
   "id": "7d7506d7",
   "metadata": {},
   "outputs": [
    {
     "data": {
      "text/html": [
       "<div>\n",
       "<style scoped>\n",
       "    .dataframe tbody tr th:only-of-type {\n",
       "        vertical-align: middle;\n",
       "    }\n",
       "\n",
       "    .dataframe tbody tr th {\n",
       "        vertical-align: top;\n",
       "    }\n",
       "\n",
       "    .dataframe thead th {\n",
       "        text-align: right;\n",
       "    }\n",
       "</style>\n",
       "<table border=\"1\" class=\"dataframe\">\n",
       "  <thead>\n",
       "    <tr style=\"text-align: right;\">\n",
       "      <th></th>\n",
       "      <th>mql_id</th>\n",
       "      <th>seller_id</th>\n",
       "      <th>sdr_id</th>\n",
       "      <th>sr_id</th>\n",
       "      <th>won_date</th>\n",
       "      <th>close_date</th>\n",
       "      <th>won_month</th>\n",
       "      <th>won_time</th>\n",
       "      <th>business_segment</th>\n",
       "      <th>lead_type</th>\n",
       "      <th>lead_behaviour_profile</th>\n",
       "      <th>business_type</th>\n",
       "    </tr>\n",
       "  </thead>\n",
       "  <tbody>\n",
       "    <tr>\n",
       "      <th>0</th>\n",
       "      <td>5420aad7fec3549a85876ba1c529bd84</td>\n",
       "      <td>2c43fb513632d29b3b58df74816f1b06</td>\n",
       "      <td>a8387c01a09e99ce014107505b92388c</td>\n",
       "      <td>4ef15afb4b2723d8f3d81e51ec7afefe</td>\n",
       "      <td>2018-02-26 19:58:54</td>\n",
       "      <td>2018-02-26</td>\n",
       "      <td>2018-02</td>\n",
       "      <td>19</td>\n",
       "      <td>pet</td>\n",
       "      <td>online_medium</td>\n",
       "      <td>cat</td>\n",
       "      <td>reseller</td>\n",
       "    </tr>\n",
       "    <tr>\n",
       "      <th>1</th>\n",
       "      <td>a555fb36b9368110ede0f043dfc3b9a0</td>\n",
       "      <td>bbb7d7893a450660432ea6652310ebb7</td>\n",
       "      <td>09285259593c61296eef10c734121d5b</td>\n",
       "      <td>d3d1e91a157ea7f90548eef82f1955e3</td>\n",
       "      <td>2018-05-08 20:17:59</td>\n",
       "      <td>2018-05-08</td>\n",
       "      <td>2018-05</td>\n",
       "      <td>20</td>\n",
       "      <td>car_accessories</td>\n",
       "      <td>industry</td>\n",
       "      <td>eagle</td>\n",
       "      <td>reseller</td>\n",
       "    </tr>\n",
       "    <tr>\n",
       "      <th>2</th>\n",
       "      <td>327174d3648a2d047e8940d7d15204ca</td>\n",
       "      <td>612170e34b97004b3ba37eae81836b4c</td>\n",
       "      <td>b90f87164b5f8c2cfa5c8572834dbe3f</td>\n",
       "      <td>6565aa9ce3178a5caf6171827af3a9ba</td>\n",
       "      <td>2018-06-05 17:27:23</td>\n",
       "      <td>2018-06-05</td>\n",
       "      <td>2018-06</td>\n",
       "      <td>17</td>\n",
       "      <td>home_appliances</td>\n",
       "      <td>online_big</td>\n",
       "      <td>cat</td>\n",
       "      <td>reseller</td>\n",
       "    </tr>\n",
       "    <tr>\n",
       "      <th>3</th>\n",
       "      <td>f5fee8f7da74f4887f5bcae2bafb6dd6</td>\n",
       "      <td>21e1781e36faf92725dde4730a88ca0f</td>\n",
       "      <td>56bf83c4bb35763a51c2baab501b4c67</td>\n",
       "      <td>d3d1e91a157ea7f90548eef82f1955e3</td>\n",
       "      <td>2018-01-17 13:51:03</td>\n",
       "      <td>2018-01-17</td>\n",
       "      <td>2018-01</td>\n",
       "      <td>13</td>\n",
       "      <td>food_drink</td>\n",
       "      <td>online_small</td>\n",
       "      <td>NaN</td>\n",
       "      <td>reseller</td>\n",
       "    </tr>\n",
       "    <tr>\n",
       "      <th>4</th>\n",
       "      <td>ffe640179b554e295c167a2f6be528e0</td>\n",
       "      <td>ed8cb7b190ceb6067227478e48cf8dde</td>\n",
       "      <td>4b339f9567d060bcea4f5136b9f5949e</td>\n",
       "      <td>d3d1e91a157ea7f90548eef82f1955e3</td>\n",
       "      <td>2018-07-03 20:17:45</td>\n",
       "      <td>2018-07-03</td>\n",
       "      <td>2018-07</td>\n",
       "      <td>20</td>\n",
       "      <td>home_appliances</td>\n",
       "      <td>industry</td>\n",
       "      <td>wolf</td>\n",
       "      <td>manufacturer</td>\n",
       "    </tr>\n",
       "  </tbody>\n",
       "</table>\n",
       "</div>"
      ],
      "text/plain": [
       "                             mql_id                         seller_id  \\\n",
       "0  5420aad7fec3549a85876ba1c529bd84  2c43fb513632d29b3b58df74816f1b06   \n",
       "1  a555fb36b9368110ede0f043dfc3b9a0  bbb7d7893a450660432ea6652310ebb7   \n",
       "2  327174d3648a2d047e8940d7d15204ca  612170e34b97004b3ba37eae81836b4c   \n",
       "3  f5fee8f7da74f4887f5bcae2bafb6dd6  21e1781e36faf92725dde4730a88ca0f   \n",
       "4  ffe640179b554e295c167a2f6be528e0  ed8cb7b190ceb6067227478e48cf8dde   \n",
       "\n",
       "                             sdr_id                             sr_id  \\\n",
       "0  a8387c01a09e99ce014107505b92388c  4ef15afb4b2723d8f3d81e51ec7afefe   \n",
       "1  09285259593c61296eef10c734121d5b  d3d1e91a157ea7f90548eef82f1955e3   \n",
       "2  b90f87164b5f8c2cfa5c8572834dbe3f  6565aa9ce3178a5caf6171827af3a9ba   \n",
       "3  56bf83c4bb35763a51c2baab501b4c67  d3d1e91a157ea7f90548eef82f1955e3   \n",
       "4  4b339f9567d060bcea4f5136b9f5949e  d3d1e91a157ea7f90548eef82f1955e3   \n",
       "\n",
       "             won_date close_date won_month  won_time business_segment  \\\n",
       "0 2018-02-26 19:58:54 2018-02-26   2018-02        19              pet   \n",
       "1 2018-05-08 20:17:59 2018-05-08   2018-05        20  car_accessories   \n",
       "2 2018-06-05 17:27:23 2018-06-05   2018-06        17  home_appliances   \n",
       "3 2018-01-17 13:51:03 2018-01-17   2018-01        13       food_drink   \n",
       "4 2018-07-03 20:17:45 2018-07-03   2018-07        20  home_appliances   \n",
       "\n",
       "       lead_type lead_behaviour_profile business_type  \n",
       "0  online_medium                    cat      reseller  \n",
       "1       industry                  eagle      reseller  \n",
       "2     online_big                    cat      reseller  \n",
       "3   online_small                    NaN      reseller  \n",
       "4       industry                   wolf  manufacturer  "
      ]
     },
     "execution_count": 185,
     "metadata": {},
     "output_type": "execute_result"
    }
   ],
   "source": [
    "#Removing irrelevant columns in df2 dataset\n",
    "irr_col = ['has_company', 'has_gtin', 'average_stock', 'declared_product_catalog_size', 'declared_monthly_revenue']\n",
    "close = df2.copy()\n",
    "close.drop(labels=irr_col, axis=1, inplace=True)\n",
    "close.head()"
   ]
  },
  {
   "cell_type": "code",
   "execution_count": 186,
   "id": "a066ebb4",
   "metadata": {},
   "outputs": [
    {
     "name": "stdout",
     "output_type": "stream",
     "text": [
      "(842, 12)\n",
      "(177, 12)\n",
      "(665, 12)\n",
      "(8000, 5)\n",
      "(1802, 5)\n",
      "(6198, 5)\n"
     ]
    }
   ],
   "source": [
    "print(close.shape)\n",
    "print(close[close['won_month']>='2018-06'].shape)\n",
    "print(close[close['won_month']<'2018-06'].shape)\n",
    "print(df.shape)\n",
    "print(df[df['first_contact_month']<='2017-11'].shape)\n",
    "print(df[df['first_contact_month']>'2017-11'].shape)"
   ]
  },
  {
   "cell_type": "code",
   "execution_count": 187,
   "id": "cfdb786c",
   "metadata": {},
   "outputs": [],
   "source": [
    "close = close[close['won_month']<'2018-06']\n",
    "mql = df[df['first_contact_month']>'2017-11']"
   ]
  },
  {
   "cell_type": "code",
   "execution_count": 188,
   "id": "c984527a",
   "metadata": {},
   "outputs": [
    {
     "name": "stdout",
     "output_type": "stream",
     "text": [
      "(665, 12)\n",
      "(6198, 5)\n"
     ]
    }
   ],
   "source": [
    "print(close.shape)\n",
    "print(mql.shape)"
   ]
  },
  {
   "cell_type": "markdown",
   "id": "6bdddcae",
   "metadata": {},
   "source": [
    "## 2.5 Missing Handling Values "
   ]
  },
  {
   "cell_type": "markdown",
   "id": "19feb4b7",
   "metadata": {},
   "source": [
    "### 2.5.1 origin "
   ]
  },
  {
   "cell_type": "code",
   "execution_count": 189,
   "id": "d471397a",
   "metadata": {},
   "outputs": [
    {
     "data": {
      "text/plain": [
       "mql_id                  0\n",
       "first_contact_date      0\n",
       "first_contact_month     0\n",
       "landing_page_id         0\n",
       "origin                 51\n",
       "dtype: int64"
      ]
     },
     "execution_count": 189,
     "metadata": {},
     "output_type": "execute_result"
    }
   ],
   "source": [
    "mql.isna().sum()"
   ]
  },
  {
   "cell_type": "code",
   "execution_count": 190,
   "id": "a3ecc1f1",
   "metadata": {},
   "outputs": [],
   "source": [
    "mql_null = mql[mql['origin'].isna()]"
   ]
  },
  {
   "cell_type": "code",
   "execution_count": 191,
   "id": "8e3bc900",
   "metadata": {},
   "outputs": [
    {
     "data": {
      "text/html": [
       "<div>\n",
       "<style scoped>\n",
       "    .dataframe tbody tr th:only-of-type {\n",
       "        vertical-align: middle;\n",
       "    }\n",
       "\n",
       "    .dataframe tbody tr th {\n",
       "        vertical-align: top;\n",
       "    }\n",
       "\n",
       "    .dataframe thead th {\n",
       "        text-align: right;\n",
       "    }\n",
       "</style>\n",
       "<table border=\"1\" class=\"dataframe\">\n",
       "  <thead>\n",
       "    <tr style=\"text-align: right;\">\n",
       "      <th></th>\n",
       "      <th>first_contact_month</th>\n",
       "      <th>mql_id</th>\n",
       "    </tr>\n",
       "  </thead>\n",
       "  <tbody>\n",
       "    <tr>\n",
       "      <th>0</th>\n",
       "      <td>2017-12</td>\n",
       "      <td>3</td>\n",
       "    </tr>\n",
       "    <tr>\n",
       "      <th>1</th>\n",
       "      <td>2018-01</td>\n",
       "      <td>5</td>\n",
       "    </tr>\n",
       "    <tr>\n",
       "      <th>2</th>\n",
       "      <td>2018-02</td>\n",
       "      <td>7</td>\n",
       "    </tr>\n",
       "    <tr>\n",
       "      <th>3</th>\n",
       "      <td>2018-03</td>\n",
       "      <td>9</td>\n",
       "    </tr>\n",
       "    <tr>\n",
       "      <th>4</th>\n",
       "      <td>2018-04</td>\n",
       "      <td>13</td>\n",
       "    </tr>\n",
       "    <tr>\n",
       "      <th>5</th>\n",
       "      <td>2018-05</td>\n",
       "      <td>14</td>\n",
       "    </tr>\n",
       "  </tbody>\n",
       "</table>\n",
       "</div>"
      ],
      "text/plain": [
       "  first_contact_month  mql_id\n",
       "0             2017-12       3\n",
       "1             2018-01       5\n",
       "2             2018-02       7\n",
       "3             2018-03       9\n",
       "4             2018-04      13\n",
       "5             2018-05      14"
      ]
     },
     "execution_count": 191,
     "metadata": {},
     "output_type": "execute_result"
    }
   ],
   "source": [
    "mql_null = mql_null.groupby(by=mql_null['first_contact_month'], as_index=False)['mql_id'].count()\n",
    "mql_null"
   ]
  },
  {
   "cell_type": "code",
   "execution_count": 192,
   "id": "1816d772",
   "metadata": {},
   "outputs": [],
   "source": [
    "mql_count = mql.copy()"
   ]
  },
  {
   "cell_type": "code",
   "execution_count": 193,
   "id": "13c3bcca",
   "metadata": {},
   "outputs": [
    {
     "data": {
      "text/plain": [
       "first_contact_month\n",
       "2017-12     200\n",
       "2018-01    1141\n",
       "2018-02    1028\n",
       "2018-03    1174\n",
       "2018-04    1352\n",
       "2018-05    1303\n",
       "Name: mql_id, dtype: int64"
      ]
     },
     "execution_count": 193,
     "metadata": {},
     "output_type": "execute_result"
    }
   ],
   "source": [
    "mql_count = mql_count.groupby(by=mql_count['first_contact_month'])['mql_id'].count()\n",
    "mql_count"
   ]
  },
  {
   "cell_type": "code",
   "execution_count": 194,
   "id": "d1c0ce68",
   "metadata": {},
   "outputs": [
    {
     "data": {
      "text/html": [
       "<div>\n",
       "<style scoped>\n",
       "    .dataframe tbody tr th:only-of-type {\n",
       "        vertical-align: middle;\n",
       "    }\n",
       "\n",
       "    .dataframe tbody tr th {\n",
       "        vertical-align: top;\n",
       "    }\n",
       "\n",
       "    .dataframe thead th {\n",
       "        text-align: right;\n",
       "    }\n",
       "</style>\n",
       "<table border=\"1\" class=\"dataframe\">\n",
       "  <thead>\n",
       "    <tr style=\"text-align: right;\">\n",
       "      <th></th>\n",
       "      <th>first_contact_month</th>\n",
       "      <th>mql_id_x</th>\n",
       "      <th>mql_id_y</th>\n",
       "    </tr>\n",
       "  </thead>\n",
       "  <tbody>\n",
       "    <tr>\n",
       "      <th>0</th>\n",
       "      <td>2017-12</td>\n",
       "      <td>3</td>\n",
       "      <td>200</td>\n",
       "    </tr>\n",
       "    <tr>\n",
       "      <th>1</th>\n",
       "      <td>2018-01</td>\n",
       "      <td>5</td>\n",
       "      <td>1141</td>\n",
       "    </tr>\n",
       "    <tr>\n",
       "      <th>2</th>\n",
       "      <td>2018-02</td>\n",
       "      <td>7</td>\n",
       "      <td>1028</td>\n",
       "    </tr>\n",
       "    <tr>\n",
       "      <th>3</th>\n",
       "      <td>2018-03</td>\n",
       "      <td>9</td>\n",
       "      <td>1174</td>\n",
       "    </tr>\n",
       "    <tr>\n",
       "      <th>4</th>\n",
       "      <td>2018-04</td>\n",
       "      <td>13</td>\n",
       "      <td>1352</td>\n",
       "    </tr>\n",
       "    <tr>\n",
       "      <th>5</th>\n",
       "      <td>2018-05</td>\n",
       "      <td>14</td>\n",
       "      <td>1303</td>\n",
       "    </tr>\n",
       "  </tbody>\n",
       "</table>\n",
       "</div>"
      ],
      "text/plain": [
       "  first_contact_month  mql_id_x  mql_id_y\n",
       "0             2017-12         3       200\n",
       "1             2018-01         5      1141\n",
       "2             2018-02         7      1028\n",
       "3             2018-03         9      1174\n",
       "4             2018-04        13      1352\n",
       "5             2018-05        14      1303"
      ]
     },
     "execution_count": 194,
     "metadata": {},
     "output_type": "execute_result"
    }
   ],
   "source": [
    "percentNull_mql = mql_null.merge(right=mql_count, how='outer', on='first_contact_month')\n",
    "percentNull_mql"
   ]
  },
  {
   "cell_type": "code",
   "execution_count": 195,
   "id": "997b1aa1",
   "metadata": {},
   "outputs": [
    {
     "data": {
      "text/html": [
       "<div>\n",
       "<style scoped>\n",
       "    .dataframe tbody tr th:only-of-type {\n",
       "        vertical-align: middle;\n",
       "    }\n",
       "\n",
       "    .dataframe tbody tr th {\n",
       "        vertical-align: top;\n",
       "    }\n",
       "\n",
       "    .dataframe thead th {\n",
       "        text-align: right;\n",
       "    }\n",
       "</style>\n",
       "<table border=\"1\" class=\"dataframe\">\n",
       "  <thead>\n",
       "    <tr style=\"text-align: right;\">\n",
       "      <th></th>\n",
       "      <th>first_contact_month</th>\n",
       "      <th>mql_id_x</th>\n",
       "      <th>mql_id_y</th>\n",
       "      <th>percentage</th>\n",
       "    </tr>\n",
       "  </thead>\n",
       "  <tbody>\n",
       "    <tr>\n",
       "      <th>5</th>\n",
       "      <td>2018-05</td>\n",
       "      <td>14</td>\n",
       "      <td>1303</td>\n",
       "      <td>0.0107</td>\n",
       "    </tr>\n",
       "    <tr>\n",
       "      <th>4</th>\n",
       "      <td>2018-04</td>\n",
       "      <td>13</td>\n",
       "      <td>1352</td>\n",
       "      <td>0.0096</td>\n",
       "    </tr>\n",
       "    <tr>\n",
       "      <th>3</th>\n",
       "      <td>2018-03</td>\n",
       "      <td>9</td>\n",
       "      <td>1174</td>\n",
       "      <td>0.0077</td>\n",
       "    </tr>\n",
       "    <tr>\n",
       "      <th>2</th>\n",
       "      <td>2018-02</td>\n",
       "      <td>7</td>\n",
       "      <td>1028</td>\n",
       "      <td>0.0068</td>\n",
       "    </tr>\n",
       "    <tr>\n",
       "      <th>1</th>\n",
       "      <td>2018-01</td>\n",
       "      <td>5</td>\n",
       "      <td>1141</td>\n",
       "      <td>0.0044</td>\n",
       "    </tr>\n",
       "    <tr>\n",
       "      <th>0</th>\n",
       "      <td>2017-12</td>\n",
       "      <td>3</td>\n",
       "      <td>200</td>\n",
       "      <td>0.0150</td>\n",
       "    </tr>\n",
       "  </tbody>\n",
       "</table>\n",
       "</div>"
      ],
      "text/plain": [
       "  first_contact_month  mql_id_x  mql_id_y  percentage\n",
       "5             2018-05        14      1303      0.0107\n",
       "4             2018-04        13      1352      0.0096\n",
       "3             2018-03         9      1174      0.0077\n",
       "2             2018-02         7      1028      0.0068\n",
       "1             2018-01         5      1141      0.0044\n",
       "0             2017-12         3       200      0.0150"
      ]
     },
     "execution_count": 195,
     "metadata": {},
     "output_type": "execute_result"
    }
   ],
   "source": [
    "percentNull_mql['percentage'] = round(percentNull_mql['mql_id_x']/percentNull_mql['mql_id_y'],4)\n",
    "percentNull_mql.sort_values('first_contact_month', ascending=False)"
   ]
  },
  {
   "cell_type": "code",
   "execution_count": 196,
   "id": "f92bc8a6",
   "metadata": {},
   "outputs": [
    {
     "data": {
      "text/plain": [
       "array(['social', 'organic_search', 'email', 'unknown', 'paid_search',\n",
       "       'referral', 'direct_traffic', 'display', nan, 'other_publicities',\n",
       "       'other'], dtype=object)"
      ]
     },
     "execution_count": 196,
     "metadata": {},
     "output_type": "execute_result"
    }
   ],
   "source": [
    "mql['origin'].unique()"
   ]
  },
  {
   "cell_type": "code",
   "execution_count": 197,
   "id": "b41a3e38",
   "metadata": {},
   "outputs": [],
   "source": [
    "mql['origin'].replace(to_replace=[np.nan, 'other'], value='unknown', inplace=True)"
   ]
  },
  {
   "cell_type": "code",
   "execution_count": 198,
   "id": "4d815635",
   "metadata": {},
   "outputs": [
    {
     "data": {
      "text/plain": [
       "array(['social', 'organic_search', 'email', 'unknown', 'paid_search',\n",
       "       'referral', 'direct_traffic', 'display', 'other_publicities'],\n",
       "      dtype=object)"
      ]
     },
     "execution_count": 198,
     "metadata": {},
     "output_type": "execute_result"
    }
   ],
   "source": [
    "mql['origin'].unique()"
   ]
  },
  {
   "cell_type": "markdown",
   "id": "c41c5202",
   "metadata": {},
   "source": [
    "### 2.5.2 business_segment "
   ]
  },
  {
   "cell_type": "code",
   "execution_count": 199,
   "id": "8b13eeb4",
   "metadata": {},
   "outputs": [
    {
     "data": {
      "text/html": [
       "<div>\n",
       "<style scoped>\n",
       "    .dataframe tbody tr th:only-of-type {\n",
       "        vertical-align: middle;\n",
       "    }\n",
       "\n",
       "    .dataframe tbody tr th {\n",
       "        vertical-align: top;\n",
       "    }\n",
       "\n",
       "    .dataframe thead th {\n",
       "        text-align: right;\n",
       "    }\n",
       "</style>\n",
       "<table border=\"1\" class=\"dataframe\">\n",
       "  <thead>\n",
       "    <tr style=\"text-align: right;\">\n",
       "      <th></th>\n",
       "      <th>mql_id</th>\n",
       "      <th>seller_id</th>\n",
       "      <th>sdr_id</th>\n",
       "      <th>sr_id</th>\n",
       "      <th>won_date</th>\n",
       "      <th>close_date</th>\n",
       "      <th>won_month</th>\n",
       "      <th>won_time</th>\n",
       "      <th>business_segment</th>\n",
       "      <th>lead_type</th>\n",
       "      <th>lead_behaviour_profile</th>\n",
       "      <th>business_type</th>\n",
       "    </tr>\n",
       "  </thead>\n",
       "  <tbody>\n",
       "  </tbody>\n",
       "</table>\n",
       "</div>"
      ],
      "text/plain": [
       "Empty DataFrame\n",
       "Columns: [mql_id, seller_id, sdr_id, sr_id, won_date, close_date, won_month, won_time, business_segment, lead_type, lead_behaviour_profile, business_type]\n",
       "Index: []"
      ]
     },
     "execution_count": 199,
     "metadata": {},
     "output_type": "execute_result"
    }
   ],
   "source": [
    "businessSegment_null = close[close['business_segment'].isna()]\n",
    "businessSegment_null"
   ]
  },
  {
   "cell_type": "code",
   "execution_count": 200,
   "id": "adc274a9",
   "metadata": {},
   "outputs": [
    {
     "data": {
      "text/plain": [
       "31"
      ]
     },
     "execution_count": 200,
     "metadata": {},
     "output_type": "execute_result"
    }
   ],
   "source": [
    "close['business_segment'].nunique()"
   ]
  },
  {
   "cell_type": "markdown",
   "id": "fdd13c23",
   "metadata": {},
   "source": [
    "### 2.5.3 lead_type "
   ]
  },
  {
   "cell_type": "code",
   "execution_count": 201,
   "id": "4c864661",
   "metadata": {},
   "outputs": [
    {
     "data": {
      "text/html": [
       "<div>\n",
       "<style scoped>\n",
       "    .dataframe tbody tr th:only-of-type {\n",
       "        vertical-align: middle;\n",
       "    }\n",
       "\n",
       "    .dataframe tbody tr th {\n",
       "        vertical-align: top;\n",
       "    }\n",
       "\n",
       "    .dataframe thead th {\n",
       "        text-align: right;\n",
       "    }\n",
       "</style>\n",
       "<table border=\"1\" class=\"dataframe\">\n",
       "  <thead>\n",
       "    <tr style=\"text-align: right;\">\n",
       "      <th></th>\n",
       "      <th>mql_id</th>\n",
       "      <th>seller_id</th>\n",
       "      <th>sdr_id</th>\n",
       "      <th>sr_id</th>\n",
       "      <th>won_date</th>\n",
       "      <th>close_date</th>\n",
       "      <th>won_month</th>\n",
       "      <th>won_time</th>\n",
       "      <th>business_segment</th>\n",
       "      <th>lead_type</th>\n",
       "      <th>lead_behaviour_profile</th>\n",
       "      <th>business_type</th>\n",
       "    </tr>\n",
       "  </thead>\n",
       "  <tbody>\n",
       "    <tr>\n",
       "      <th>424</th>\n",
       "      <td>d73084414361442cb1fd4d659b395c38</td>\n",
       "      <td>2ba91c7ad80ff88b23b7db823b43c233</td>\n",
       "      <td>068066e24f0c643eb1d089c7dd20cd73</td>\n",
       "      <td>495d4e95a8cf8bbf8b432b612a2aa328</td>\n",
       "      <td>2018-01-18 11:22:24</td>\n",
       "      <td>2018-01-18</td>\n",
       "      <td>2018-01</td>\n",
       "      <td>11</td>\n",
       "      <td>pet</td>\n",
       "      <td>NaN</td>\n",
       "      <td>NaN</td>\n",
       "      <td>reseller</td>\n",
       "    </tr>\n",
       "    <tr>\n",
       "      <th>426</th>\n",
       "      <td>ab712090eb9a27881b63080c859147de</td>\n",
       "      <td>18d5b01a5ca858cf540df954e063978d</td>\n",
       "      <td>068066e24f0c643eb1d089c7dd20cd73</td>\n",
       "      <td>9ae085775a198122c5586fa830ff7f2b</td>\n",
       "      <td>2018-02-02 16:44:11</td>\n",
       "      <td>2018-02-02</td>\n",
       "      <td>2018-02</td>\n",
       "      <td>16</td>\n",
       "      <td>audio_video_electronics</td>\n",
       "      <td>NaN</td>\n",
       "      <td>NaN</td>\n",
       "      <td>reseller</td>\n",
       "    </tr>\n",
       "    <tr>\n",
       "      <th>566</th>\n",
       "      <td>8257329475414b1eaf3dc731440e01a7</td>\n",
       "      <td>ba90964cff9b9e0e6f32b23b82465f7b</td>\n",
       "      <td>56bf83c4bb35763a51c2baab501b4c67</td>\n",
       "      <td>c638112b43f1d1b86dcabb0da720c901</td>\n",
       "      <td>2018-02-09 17:10:58</td>\n",
       "      <td>2018-02-09</td>\n",
       "      <td>2018-02</td>\n",
       "      <td>17</td>\n",
       "      <td>small_appliances</td>\n",
       "      <td>NaN</td>\n",
       "      <td>cat</td>\n",
       "      <td>reseller</td>\n",
       "    </tr>\n",
       "    <tr>\n",
       "      <th>785</th>\n",
       "      <td>245710681d51a6dfb80ab06683f3be01</td>\n",
       "      <td>7c9130f5f3729edd32aa059141d92484</td>\n",
       "      <td>370c9f455f93a9a96cbe9bea48e70033</td>\n",
       "      <td>4ef15afb4b2723d8f3d81e51ec7afefe</td>\n",
       "      <td>2018-05-07 21:49:28</td>\n",
       "      <td>2018-05-07</td>\n",
       "      <td>2018-05</td>\n",
       "      <td>21</td>\n",
       "      <td>computers</td>\n",
       "      <td>NaN</td>\n",
       "      <td>NaN</td>\n",
       "      <td>reseller</td>\n",
       "    </tr>\n",
       "  </tbody>\n",
       "</table>\n",
       "</div>"
      ],
      "text/plain": [
       "                               mql_id                         seller_id  \\\n",
       "424  d73084414361442cb1fd4d659b395c38  2ba91c7ad80ff88b23b7db823b43c233   \n",
       "426  ab712090eb9a27881b63080c859147de  18d5b01a5ca858cf540df954e063978d   \n",
       "566  8257329475414b1eaf3dc731440e01a7  ba90964cff9b9e0e6f32b23b82465f7b   \n",
       "785  245710681d51a6dfb80ab06683f3be01  7c9130f5f3729edd32aa059141d92484   \n",
       "\n",
       "                               sdr_id                             sr_id  \\\n",
       "424  068066e24f0c643eb1d089c7dd20cd73  495d4e95a8cf8bbf8b432b612a2aa328   \n",
       "426  068066e24f0c643eb1d089c7dd20cd73  9ae085775a198122c5586fa830ff7f2b   \n",
       "566  56bf83c4bb35763a51c2baab501b4c67  c638112b43f1d1b86dcabb0da720c901   \n",
       "785  370c9f455f93a9a96cbe9bea48e70033  4ef15afb4b2723d8f3d81e51ec7afefe   \n",
       "\n",
       "               won_date close_date won_month  won_time  \\\n",
       "424 2018-01-18 11:22:24 2018-01-18   2018-01        11   \n",
       "426 2018-02-02 16:44:11 2018-02-02   2018-02        16   \n",
       "566 2018-02-09 17:10:58 2018-02-09   2018-02        17   \n",
       "785 2018-05-07 21:49:28 2018-05-07   2018-05        21   \n",
       "\n",
       "            business_segment lead_type lead_behaviour_profile business_type  \n",
       "424                      pet       NaN                    NaN      reseller  \n",
       "426  audio_video_electronics       NaN                    NaN      reseller  \n",
       "566         small_appliances       NaN                    cat      reseller  \n",
       "785                computers       NaN                    NaN      reseller  "
      ]
     },
     "execution_count": 201,
     "metadata": {},
     "output_type": "execute_result"
    }
   ],
   "source": [
    "leadType_null = close[close['lead_type'].isna()]\n",
    "leadType_null"
   ]
  },
  {
   "cell_type": "code",
   "execution_count": 202,
   "id": "d34fd3b4",
   "metadata": {},
   "outputs": [
    {
     "data": {
      "text/html": [
       "<div>\n",
       "<style scoped>\n",
       "    .dataframe tbody tr th:only-of-type {\n",
       "        vertical-align: middle;\n",
       "    }\n",
       "\n",
       "    .dataframe tbody tr th {\n",
       "        vertical-align: top;\n",
       "    }\n",
       "\n",
       "    .dataframe thead th {\n",
       "        text-align: right;\n",
       "    }\n",
       "</style>\n",
       "<table border=\"1\" class=\"dataframe\">\n",
       "  <thead>\n",
       "    <tr style=\"text-align: right;\">\n",
       "      <th></th>\n",
       "      <th>won_month</th>\n",
       "      <th>mql_id</th>\n",
       "    </tr>\n",
       "  </thead>\n",
       "  <tbody>\n",
       "    <tr>\n",
       "      <th>0</th>\n",
       "      <td>2018-01</td>\n",
       "      <td>1</td>\n",
       "    </tr>\n",
       "    <tr>\n",
       "      <th>1</th>\n",
       "      <td>2018-02</td>\n",
       "      <td>2</td>\n",
       "    </tr>\n",
       "    <tr>\n",
       "      <th>2</th>\n",
       "      <td>2018-05</td>\n",
       "      <td>1</td>\n",
       "    </tr>\n",
       "  </tbody>\n",
       "</table>\n",
       "</div>"
      ],
      "text/plain": [
       "  won_month  mql_id\n",
       "0   2018-01       1\n",
       "1   2018-02       2\n",
       "2   2018-05       1"
      ]
     },
     "execution_count": 202,
     "metadata": {},
     "output_type": "execute_result"
    }
   ],
   "source": [
    "leadType_null = leadType_null.groupby(by=leadType_null['won_month'], as_index=False)['mql_id'].count()\n",
    "leadType_null"
   ]
  },
  {
   "cell_type": "code",
   "execution_count": 203,
   "id": "e4e37997",
   "metadata": {},
   "outputs": [
    {
     "data": {
      "text/plain": [
       "won_month\n",
       "2017-12      3\n",
       "2018-01     73\n",
       "2018-02    113\n",
       "2018-03    147\n",
       "2018-04    207\n",
       "2018-05    122\n",
       "Name: mql_id, dtype: int64"
      ]
     },
     "execution_count": 203,
     "metadata": {},
     "output_type": "execute_result"
    }
   ],
   "source": [
    "close_count = close.groupby(by=close['won_month'])['mql_id'].count()\n",
    "close_count"
   ]
  },
  {
   "cell_type": "code",
   "execution_count": 204,
   "id": "93e9834d",
   "metadata": {},
   "outputs": [
    {
     "data": {
      "text/html": [
       "<div>\n",
       "<style scoped>\n",
       "    .dataframe tbody tr th:only-of-type {\n",
       "        vertical-align: middle;\n",
       "    }\n",
       "\n",
       "    .dataframe tbody tr th {\n",
       "        vertical-align: top;\n",
       "    }\n",
       "\n",
       "    .dataframe thead th {\n",
       "        text-align: right;\n",
       "    }\n",
       "</style>\n",
       "<table border=\"1\" class=\"dataframe\">\n",
       "  <thead>\n",
       "    <tr style=\"text-align: right;\">\n",
       "      <th></th>\n",
       "      <th>won_month</th>\n",
       "      <th>mql_id_x</th>\n",
       "      <th>mql_id_y</th>\n",
       "    </tr>\n",
       "  </thead>\n",
       "  <tbody>\n",
       "    <tr>\n",
       "      <th>0</th>\n",
       "      <td>2018-01</td>\n",
       "      <td>1</td>\n",
       "      <td>73</td>\n",
       "    </tr>\n",
       "    <tr>\n",
       "      <th>1</th>\n",
       "      <td>2018-02</td>\n",
       "      <td>2</td>\n",
       "      <td>113</td>\n",
       "    </tr>\n",
       "    <tr>\n",
       "      <th>2</th>\n",
       "      <td>2018-05</td>\n",
       "      <td>1</td>\n",
       "      <td>122</td>\n",
       "    </tr>\n",
       "  </tbody>\n",
       "</table>\n",
       "</div>"
      ],
      "text/plain": [
       "  won_month  mql_id_x  mql_id_y\n",
       "0   2018-01         1        73\n",
       "1   2018-02         2       113\n",
       "2   2018-05         1       122"
      ]
     },
     "execution_count": 204,
     "metadata": {},
     "output_type": "execute_result"
    }
   ],
   "source": [
    "percent = leadType_null.merge(right=close_count, how='inner', on='won_month')\n",
    "percent"
   ]
  },
  {
   "cell_type": "code",
   "execution_count": 205,
   "id": "a4799fe8",
   "metadata": {},
   "outputs": [
    {
     "data": {
      "text/plain": [
       "array(['online_medium', 'industry', 'online_small', 'offline',\n",
       "       'online_big', 'online_beginner', 'online_top', nan], dtype=object)"
      ]
     },
     "execution_count": 205,
     "metadata": {},
     "output_type": "execute_result"
    }
   ],
   "source": [
    "close['lead_type'].unique()"
   ]
  },
  {
   "cell_type": "code",
   "execution_count": 206,
   "id": "bac04a1a",
   "metadata": {},
   "outputs": [],
   "source": [
    "close['lead_type'].replace(to_replace=np.nan, value='other', inplace=True)"
   ]
  },
  {
   "cell_type": "code",
   "execution_count": 207,
   "id": "2e6c7425",
   "metadata": {},
   "outputs": [
    {
     "data": {
      "text/plain": [
       "array(['online_medium', 'industry', 'online_small', 'offline',\n",
       "       'online_big', 'online_beginner', 'online_top', 'other'],\n",
       "      dtype=object)"
      ]
     },
     "execution_count": 207,
     "metadata": {},
     "output_type": "execute_result"
    }
   ],
   "source": [
    "close['lead_type'].unique()"
   ]
  },
  {
   "cell_type": "code",
   "execution_count": 208,
   "id": "15a32898",
   "metadata": {},
   "outputs": [
    {
     "data": {
      "text/plain": [
       "0"
      ]
     },
     "execution_count": 208,
     "metadata": {},
     "output_type": "execute_result"
    }
   ],
   "source": [
    "close['lead_type'].isna().sum()"
   ]
  },
  {
   "cell_type": "markdown",
   "id": "1814400d",
   "metadata": {},
   "source": [
    "### 2.5.4 lead_behaviour_profile "
   ]
  },
  {
   "cell_type": "code",
   "execution_count": 209,
   "id": "bd3b209a",
   "metadata": {},
   "outputs": [
    {
     "data": {
      "text/html": [
       "<div>\n",
       "<style scoped>\n",
       "    .dataframe tbody tr th:only-of-type {\n",
       "        vertical-align: middle;\n",
       "    }\n",
       "\n",
       "    .dataframe tbody tr th {\n",
       "        vertical-align: top;\n",
       "    }\n",
       "\n",
       "    .dataframe thead th {\n",
       "        text-align: right;\n",
       "    }\n",
       "</style>\n",
       "<table border=\"1\" class=\"dataframe\">\n",
       "  <thead>\n",
       "    <tr style=\"text-align: right;\">\n",
       "      <th></th>\n",
       "      <th>mql_id</th>\n",
       "      <th>seller_id</th>\n",
       "      <th>sdr_id</th>\n",
       "      <th>sr_id</th>\n",
       "      <th>won_date</th>\n",
       "      <th>close_date</th>\n",
       "      <th>won_month</th>\n",
       "      <th>won_time</th>\n",
       "      <th>business_segment</th>\n",
       "      <th>lead_type</th>\n",
       "      <th>lead_behaviour_profile</th>\n",
       "      <th>business_type</th>\n",
       "    </tr>\n",
       "  </thead>\n",
       "  <tbody>\n",
       "    <tr>\n",
       "      <th>3</th>\n",
       "      <td>f5fee8f7da74f4887f5bcae2bafb6dd6</td>\n",
       "      <td>21e1781e36faf92725dde4730a88ca0f</td>\n",
       "      <td>56bf83c4bb35763a51c2baab501b4c67</td>\n",
       "      <td>d3d1e91a157ea7f90548eef82f1955e3</td>\n",
       "      <td>2018-01-17 13:51:03</td>\n",
       "      <td>2018-01-17</td>\n",
       "      <td>2018-01</td>\n",
       "      <td>13</td>\n",
       "      <td>food_drink</td>\n",
       "      <td>online_small</td>\n",
       "      <td>NaN</td>\n",
       "      <td>reseller</td>\n",
       "    </tr>\n",
       "    <tr>\n",
       "      <th>5</th>\n",
       "      <td>b94fba7670eeb44dce2a0d8eb790e9f5</td>\n",
       "      <td>1c742ac33582852aaf3bcfbf5893abcf</td>\n",
       "      <td>fdb16d3cbbeb5798f2f66c4096be026d</td>\n",
       "      <td>495d4e95a8cf8bbf8b432b612a2aa328</td>\n",
       "      <td>2018-02-07 18:04:05</td>\n",
       "      <td>2018-02-07</td>\n",
       "      <td>2018-02</td>\n",
       "      <td>18</td>\n",
       "      <td>health_beauty</td>\n",
       "      <td>online_medium</td>\n",
       "      <td>NaN</td>\n",
       "      <td>manufacturer</td>\n",
       "    </tr>\n",
       "    <tr>\n",
       "      <th>16</th>\n",
       "      <td>9878253904482726e741460a99adba86</td>\n",
       "      <td>92d46311e4fa7583d14c351fdc881af6</td>\n",
       "      <td>de63de0d10a6012430098db33c679b0b</td>\n",
       "      <td>4ef15afb4b2723d8f3d81e51ec7afefe</td>\n",
       "      <td>2018-01-26 17:23:46</td>\n",
       "      <td>2018-01-26</td>\n",
       "      <td>2018-01</td>\n",
       "      <td>17</td>\n",
       "      <td>food_supplement</td>\n",
       "      <td>industry</td>\n",
       "      <td>NaN</td>\n",
       "      <td>manufacturer</td>\n",
       "    </tr>\n",
       "    <tr>\n",
       "      <th>19</th>\n",
       "      <td>1f4e960dc47c49ab5c2a495e00055f64</td>\n",
       "      <td>8c45b4bc4b5c1e2a4e789b4466a39b77</td>\n",
       "      <td>56bf83c4bb35763a51c2baab501b4c67</td>\n",
       "      <td>c638112b43f1d1b86dcabb0da720c901</td>\n",
       "      <td>2018-02-07 13:57:02</td>\n",
       "      <td>2018-02-07</td>\n",
       "      <td>2018-02</td>\n",
       "      <td>13</td>\n",
       "      <td>bed_bath_table</td>\n",
       "      <td>offline</td>\n",
       "      <td>NaN</td>\n",
       "      <td>reseller</td>\n",
       "    </tr>\n",
       "    <tr>\n",
       "      <th>21</th>\n",
       "      <td>0b97be8b4b408a3a0780a32e0a143a7f</td>\n",
       "      <td>7d13fca15225358621be4086e1eb0964</td>\n",
       "      <td>56bf83c4bb35763a51c2baab501b4c67</td>\n",
       "      <td>9ae085775a198122c5586fa830ff7f2b</td>\n",
       "      <td>2018-02-08 17:20:14</td>\n",
       "      <td>2018-02-08</td>\n",
       "      <td>2018-02</td>\n",
       "      <td>17</td>\n",
       "      <td>watches</td>\n",
       "      <td>online_big</td>\n",
       "      <td>NaN</td>\n",
       "      <td>reseller</td>\n",
       "    </tr>\n",
       "    <tr>\n",
       "      <th>...</th>\n",
       "      <td>...</td>\n",
       "      <td>...</td>\n",
       "      <td>...</td>\n",
       "      <td>...</td>\n",
       "      <td>...</td>\n",
       "      <td>...</td>\n",
       "      <td>...</td>\n",
       "      <td>...</td>\n",
       "      <td>...</td>\n",
       "      <td>...</td>\n",
       "      <td>...</td>\n",
       "      <td>...</td>\n",
       "    </tr>\n",
       "    <tr>\n",
       "      <th>780</th>\n",
       "      <td>ee24544795bf59a8343731c3501c6b4e</td>\n",
       "      <td>c013e57c075a06e5b5c48ee03c525719</td>\n",
       "      <td>fdb16d3cbbeb5798f2f66c4096be026d</td>\n",
       "      <td>9ae085775a198122c5586fa830ff7f2b</td>\n",
       "      <td>2018-02-01 17:10:20</td>\n",
       "      <td>2018-02-01</td>\n",
       "      <td>2018-02</td>\n",
       "      <td>17</td>\n",
       "      <td>pet</td>\n",
       "      <td>online_medium</td>\n",
       "      <td>NaN</td>\n",
       "      <td>reseller</td>\n",
       "    </tr>\n",
       "    <tr>\n",
       "      <th>785</th>\n",
       "      <td>245710681d51a6dfb80ab06683f3be01</td>\n",
       "      <td>7c9130f5f3729edd32aa059141d92484</td>\n",
       "      <td>370c9f455f93a9a96cbe9bea48e70033</td>\n",
       "      <td>4ef15afb4b2723d8f3d81e51ec7afefe</td>\n",
       "      <td>2018-05-07 21:49:28</td>\n",
       "      <td>2018-05-07</td>\n",
       "      <td>2018-05</td>\n",
       "      <td>21</td>\n",
       "      <td>computers</td>\n",
       "      <td>other</td>\n",
       "      <td>NaN</td>\n",
       "      <td>reseller</td>\n",
       "    </tr>\n",
       "    <tr>\n",
       "      <th>786</th>\n",
       "      <td>512f3a7ea5520eae3b54a77c0497489e</td>\n",
       "      <td>2a1a7b9bb186aba4e126ec76f9607237</td>\n",
       "      <td>9ae085775a198122c5586fa830ff7f2b</td>\n",
       "      <td>c638112b43f1d1b86dcabb0da720c901</td>\n",
       "      <td>2017-12-05 02:00:00</td>\n",
       "      <td>2017-12-05</td>\n",
       "      <td>2017-12</td>\n",
       "      <td>2</td>\n",
       "      <td>computers</td>\n",
       "      <td>offline</td>\n",
       "      <td>NaN</td>\n",
       "      <td>reseller</td>\n",
       "    </tr>\n",
       "    <tr>\n",
       "      <th>788</th>\n",
       "      <td>f8e1b8b3a3fe9b27a64dfcaaa8fc6054</td>\n",
       "      <td>b6392ab5fdb153fb3c6c7c0e174cdc29</td>\n",
       "      <td>4b339f9567d060bcea4f5136b9f5949e</td>\n",
       "      <td>4ef15afb4b2723d8f3d81e51ec7afefe</td>\n",
       "      <td>2018-04-04 20:33:19</td>\n",
       "      <td>2018-04-04</td>\n",
       "      <td>2018-04</td>\n",
       "      <td>20</td>\n",
       "      <td>audio_video_electronics</td>\n",
       "      <td>online_medium</td>\n",
       "      <td>NaN</td>\n",
       "      <td>reseller</td>\n",
       "    </tr>\n",
       "    <tr>\n",
       "      <th>792</th>\n",
       "      <td>e7f70a2ff45e44c7399bebacf3e4771d</td>\n",
       "      <td>b21768cfefb49b94e9bcd38037e93d1f</td>\n",
       "      <td>56bf83c4bb35763a51c2baab501b4c67</td>\n",
       "      <td>c638112b43f1d1b86dcabb0da720c901</td>\n",
       "      <td>2018-02-09 12:16:16</td>\n",
       "      <td>2018-02-09</td>\n",
       "      <td>2018-02</td>\n",
       "      <td>12</td>\n",
       "      <td>car_accessories</td>\n",
       "      <td>online_medium</td>\n",
       "      <td>NaN</td>\n",
       "      <td>manufacturer</td>\n",
       "    </tr>\n",
       "  </tbody>\n",
       "</table>\n",
       "<p>166 rows × 12 columns</p>\n",
       "</div>"
      ],
      "text/plain": [
       "                               mql_id                         seller_id  \\\n",
       "3    f5fee8f7da74f4887f5bcae2bafb6dd6  21e1781e36faf92725dde4730a88ca0f   \n",
       "5    b94fba7670eeb44dce2a0d8eb790e9f5  1c742ac33582852aaf3bcfbf5893abcf   \n",
       "16   9878253904482726e741460a99adba86  92d46311e4fa7583d14c351fdc881af6   \n",
       "19   1f4e960dc47c49ab5c2a495e00055f64  8c45b4bc4b5c1e2a4e789b4466a39b77   \n",
       "21   0b97be8b4b408a3a0780a32e0a143a7f  7d13fca15225358621be4086e1eb0964   \n",
       "..                                ...                               ...   \n",
       "780  ee24544795bf59a8343731c3501c6b4e  c013e57c075a06e5b5c48ee03c525719   \n",
       "785  245710681d51a6dfb80ab06683f3be01  7c9130f5f3729edd32aa059141d92484   \n",
       "786  512f3a7ea5520eae3b54a77c0497489e  2a1a7b9bb186aba4e126ec76f9607237   \n",
       "788  f8e1b8b3a3fe9b27a64dfcaaa8fc6054  b6392ab5fdb153fb3c6c7c0e174cdc29   \n",
       "792  e7f70a2ff45e44c7399bebacf3e4771d  b21768cfefb49b94e9bcd38037e93d1f   \n",
       "\n",
       "                               sdr_id                             sr_id  \\\n",
       "3    56bf83c4bb35763a51c2baab501b4c67  d3d1e91a157ea7f90548eef82f1955e3   \n",
       "5    fdb16d3cbbeb5798f2f66c4096be026d  495d4e95a8cf8bbf8b432b612a2aa328   \n",
       "16   de63de0d10a6012430098db33c679b0b  4ef15afb4b2723d8f3d81e51ec7afefe   \n",
       "19   56bf83c4bb35763a51c2baab501b4c67  c638112b43f1d1b86dcabb0da720c901   \n",
       "21   56bf83c4bb35763a51c2baab501b4c67  9ae085775a198122c5586fa830ff7f2b   \n",
       "..                                ...                               ...   \n",
       "780  fdb16d3cbbeb5798f2f66c4096be026d  9ae085775a198122c5586fa830ff7f2b   \n",
       "785  370c9f455f93a9a96cbe9bea48e70033  4ef15afb4b2723d8f3d81e51ec7afefe   \n",
       "786  9ae085775a198122c5586fa830ff7f2b  c638112b43f1d1b86dcabb0da720c901   \n",
       "788  4b339f9567d060bcea4f5136b9f5949e  4ef15afb4b2723d8f3d81e51ec7afefe   \n",
       "792  56bf83c4bb35763a51c2baab501b4c67  c638112b43f1d1b86dcabb0da720c901   \n",
       "\n",
       "               won_date close_date won_month  won_time  \\\n",
       "3   2018-01-17 13:51:03 2018-01-17   2018-01        13   \n",
       "5   2018-02-07 18:04:05 2018-02-07   2018-02        18   \n",
       "16  2018-01-26 17:23:46 2018-01-26   2018-01        17   \n",
       "19  2018-02-07 13:57:02 2018-02-07   2018-02        13   \n",
       "21  2018-02-08 17:20:14 2018-02-08   2018-02        17   \n",
       "..                  ...        ...       ...       ...   \n",
       "780 2018-02-01 17:10:20 2018-02-01   2018-02        17   \n",
       "785 2018-05-07 21:49:28 2018-05-07   2018-05        21   \n",
       "786 2017-12-05 02:00:00 2017-12-05   2017-12         2   \n",
       "788 2018-04-04 20:33:19 2018-04-04   2018-04        20   \n",
       "792 2018-02-09 12:16:16 2018-02-09   2018-02        12   \n",
       "\n",
       "            business_segment      lead_type lead_behaviour_profile  \\\n",
       "3                 food_drink   online_small                    NaN   \n",
       "5              health_beauty  online_medium                    NaN   \n",
       "16           food_supplement       industry                    NaN   \n",
       "19            bed_bath_table        offline                    NaN   \n",
       "21                   watches     online_big                    NaN   \n",
       "..                       ...            ...                    ...   \n",
       "780                      pet  online_medium                    NaN   \n",
       "785                computers          other                    NaN   \n",
       "786                computers        offline                    NaN   \n",
       "788  audio_video_electronics  online_medium                    NaN   \n",
       "792          car_accessories  online_medium                    NaN   \n",
       "\n",
       "    business_type  \n",
       "3        reseller  \n",
       "5    manufacturer  \n",
       "16   manufacturer  \n",
       "19       reseller  \n",
       "21       reseller  \n",
       "..            ...  \n",
       "780      reseller  \n",
       "785      reseller  \n",
       "786      reseller  \n",
       "788      reseller  \n",
       "792  manufacturer  \n",
       "\n",
       "[166 rows x 12 columns]"
      ]
     },
     "execution_count": 209,
     "metadata": {},
     "output_type": "execute_result"
    }
   ],
   "source": [
    "leadBehaviourProfile_null = close[close['lead_behaviour_profile'].isna()]\n",
    "leadBehaviourProfile_null"
   ]
  },
  {
   "cell_type": "code",
   "execution_count": 210,
   "id": "c4d088e4",
   "metadata": {},
   "outputs": [
    {
     "data": {
      "text/plain": [
       "won_month\n",
       "2017-12     3\n",
       "2018-01    73\n",
       "2018-02    61\n",
       "2018-03    16\n",
       "2018-04     9\n",
       "2018-05     4\n",
       "Name: mql_id, dtype: int64"
      ]
     },
     "execution_count": 210,
     "metadata": {},
     "output_type": "execute_result"
    }
   ],
   "source": [
    "leadBehaviourProfile_null = leadBehaviourProfile_null.groupby(by=leadBehaviourProfile_null['won_month'])['mql_id'].count()\n",
    "leadBehaviourProfile_null"
   ]
  },
  {
   "cell_type": "code",
   "execution_count": 211,
   "id": "a8be06bf",
   "metadata": {},
   "outputs": [],
   "source": [
    "close_count = pd.DataFrame(close_count).reset_index()"
   ]
  },
  {
   "cell_type": "code",
   "execution_count": 212,
   "id": "4f2bdaf2",
   "metadata": {},
   "outputs": [
    {
     "data": {
      "text/html": [
       "<div>\n",
       "<style scoped>\n",
       "    .dataframe tbody tr th:only-of-type {\n",
       "        vertical-align: middle;\n",
       "    }\n",
       "\n",
       "    .dataframe tbody tr th {\n",
       "        vertical-align: top;\n",
       "    }\n",
       "\n",
       "    .dataframe thead th {\n",
       "        text-align: right;\n",
       "    }\n",
       "</style>\n",
       "<table border=\"1\" class=\"dataframe\">\n",
       "  <thead>\n",
       "    <tr style=\"text-align: right;\">\n",
       "      <th></th>\n",
       "      <th>won_month</th>\n",
       "      <th>mql_id_x</th>\n",
       "      <th>mql_id_y</th>\n",
       "    </tr>\n",
       "  </thead>\n",
       "  <tbody>\n",
       "    <tr>\n",
       "      <th>0</th>\n",
       "      <td>2017-12</td>\n",
       "      <td>3</td>\n",
       "      <td>3</td>\n",
       "    </tr>\n",
       "    <tr>\n",
       "      <th>1</th>\n",
       "      <td>2018-01</td>\n",
       "      <td>73</td>\n",
       "      <td>73</td>\n",
       "    </tr>\n",
       "    <tr>\n",
       "      <th>2</th>\n",
       "      <td>2018-02</td>\n",
       "      <td>113</td>\n",
       "      <td>61</td>\n",
       "    </tr>\n",
       "    <tr>\n",
       "      <th>3</th>\n",
       "      <td>2018-03</td>\n",
       "      <td>147</td>\n",
       "      <td>16</td>\n",
       "    </tr>\n",
       "    <tr>\n",
       "      <th>4</th>\n",
       "      <td>2018-04</td>\n",
       "      <td>207</td>\n",
       "      <td>9</td>\n",
       "    </tr>\n",
       "    <tr>\n",
       "      <th>5</th>\n",
       "      <td>2018-05</td>\n",
       "      <td>122</td>\n",
       "      <td>4</td>\n",
       "    </tr>\n",
       "  </tbody>\n",
       "</table>\n",
       "</div>"
      ],
      "text/plain": [
       "  won_month  mql_id_x  mql_id_y\n",
       "0   2017-12         3         3\n",
       "1   2018-01        73        73\n",
       "2   2018-02       113        61\n",
       "3   2018-03       147        16\n",
       "4   2018-04       207         9\n",
       "5   2018-05       122         4"
      ]
     },
     "execution_count": 212,
     "metadata": {},
     "output_type": "execute_result"
    }
   ],
   "source": [
    "percent_leadBP = close_count.merge(right=leadBehaviourProfile_null, how='outer', on='won_month')\n",
    "percent_leadBP"
   ]
  },
  {
   "cell_type": "code",
   "execution_count": 213,
   "id": "b006b59c",
   "metadata": {},
   "outputs": [
    {
     "data": {
      "text/plain": [
       "array(['cat', 'eagle', nan, 'wolf', 'shark'], dtype=object)"
      ]
     },
     "execution_count": 213,
     "metadata": {},
     "output_type": "execute_result"
    }
   ],
   "source": [
    "close['lead_behaviour_profile'].unique()"
   ]
  },
  {
   "cell_type": "code",
   "execution_count": 214,
   "id": "a30f0b82",
   "metadata": {},
   "outputs": [
    {
     "data": {
      "text/plain": [
       "cat      324\n",
       "eagle    101\n",
       "wolf      59\n",
       "shark     15\n",
       "Name: lead_behaviour_profile, dtype: int64"
      ]
     },
     "execution_count": 214,
     "metadata": {},
     "output_type": "execute_result"
    }
   ],
   "source": [
    "close['lead_behaviour_profile'].value_counts()"
   ]
  },
  {
   "cell_type": "code",
   "execution_count": 215,
   "id": "395b5bfc",
   "metadata": {},
   "outputs": [
    {
     "data": {
      "text/plain": [
       "count     499\n",
       "unique      4\n",
       "top       cat\n",
       "freq      324\n",
       "Name: lead_behaviour_profile, dtype: object"
      ]
     },
     "execution_count": 215,
     "metadata": {},
     "output_type": "execute_result"
    }
   ],
   "source": [
    "close['lead_behaviour_profile'].describe()"
   ]
  },
  {
   "cell_type": "code",
   "execution_count": 216,
   "id": "7b929a3e",
   "metadata": {},
   "outputs": [],
   "source": [
    "close['lead_behaviour_profile'].replace(to_replace=np.nan, value='unknown', inplace=True)"
   ]
  },
  {
   "cell_type": "code",
   "execution_count": 217,
   "id": "71be6d69",
   "metadata": {},
   "outputs": [
    {
     "data": {
      "text/plain": [
       "0"
      ]
     },
     "execution_count": 217,
     "metadata": {},
     "output_type": "execute_result"
    }
   ],
   "source": [
    "close['lead_behaviour_profile'].isna().sum()"
   ]
  },
  {
   "cell_type": "code",
   "execution_count": 218,
   "id": "0a24e7b0",
   "metadata": {},
   "outputs": [
    {
     "data": {
      "text/plain": [
       "cat        324\n",
       "unknown    166\n",
       "eagle      101\n",
       "wolf        59\n",
       "shark       15\n",
       "Name: lead_behaviour_profile, dtype: int64"
      ]
     },
     "execution_count": 218,
     "metadata": {},
     "output_type": "execute_result"
    }
   ],
   "source": [
    "close['lead_behaviour_profile'].value_counts()"
   ]
  },
  {
   "cell_type": "markdown",
   "id": "1cb932ed",
   "metadata": {},
   "source": [
    "### 2.5.5 business_type "
   ]
  },
  {
   "cell_type": "code",
   "execution_count": 219,
   "id": "9fd5a772",
   "metadata": {},
   "outputs": [
    {
     "data": {
      "text/html": [
       "<div>\n",
       "<style scoped>\n",
       "    .dataframe tbody tr th:only-of-type {\n",
       "        vertical-align: middle;\n",
       "    }\n",
       "\n",
       "    .dataframe tbody tr th {\n",
       "        vertical-align: top;\n",
       "    }\n",
       "\n",
       "    .dataframe thead th {\n",
       "        text-align: right;\n",
       "    }\n",
       "</style>\n",
       "<table border=\"1\" class=\"dataframe\">\n",
       "  <thead>\n",
       "    <tr style=\"text-align: right;\">\n",
       "      <th></th>\n",
       "      <th>mql_id</th>\n",
       "      <th>seller_id</th>\n",
       "      <th>sdr_id</th>\n",
       "      <th>sr_id</th>\n",
       "      <th>won_date</th>\n",
       "      <th>close_date</th>\n",
       "      <th>won_month</th>\n",
       "      <th>won_time</th>\n",
       "      <th>business_segment</th>\n",
       "      <th>lead_type</th>\n",
       "      <th>lead_behaviour_profile</th>\n",
       "      <th>business_type</th>\n",
       "    </tr>\n",
       "  </thead>\n",
       "  <tbody>\n",
       "    <tr>\n",
       "      <th>223</th>\n",
       "      <td>0b32d6a87c09c32b3cd90dfd5ef5699f</td>\n",
       "      <td>4dd7866cf496e0c2fcfc93a4589dc1be</td>\n",
       "      <td>a8387c01a09e99ce014107505b92388c</td>\n",
       "      <td>2695de1affa7750089c0455f8ce27021</td>\n",
       "      <td>2018-04-27 14:04:06</td>\n",
       "      <td>2018-04-27</td>\n",
       "      <td>2018-04</td>\n",
       "      <td>14</td>\n",
       "      <td>fashion_accessories</td>\n",
       "      <td>online_medium</td>\n",
       "      <td>cat</td>\n",
       "      <td>NaN</td>\n",
       "    </tr>\n",
       "    <tr>\n",
       "      <th>249</th>\n",
       "      <td>0338bf13624f52beaca91ec4a23c860c</td>\n",
       "      <td>667ee4b0aece58908fae3fd1649b7e6c</td>\n",
       "      <td>9d12ef1a7eca3ec58c545c678af7869c</td>\n",
       "      <td>495d4e95a8cf8bbf8b432b612a2aa328</td>\n",
       "      <td>2018-04-30 13:30:05</td>\n",
       "      <td>2018-04-30</td>\n",
       "      <td>2018-04</td>\n",
       "      <td>13</td>\n",
       "      <td>handcrafted</td>\n",
       "      <td>online_medium</td>\n",
       "      <td>eagle</td>\n",
       "      <td>NaN</td>\n",
       "    </tr>\n",
       "    <tr>\n",
       "      <th>309</th>\n",
       "      <td>9e7f111f15db1aa3830cd806660d7b97</td>\n",
       "      <td>80b2f7568a7016771f58c5b981da3ae3</td>\n",
       "      <td>370c9f455f93a9a96cbe9bea48e70033</td>\n",
       "      <td>d3d1e91a157ea7f90548eef82f1955e3</td>\n",
       "      <td>2018-05-21 17:29:17</td>\n",
       "      <td>2018-05-21</td>\n",
       "      <td>2018-05</td>\n",
       "      <td>17</td>\n",
       "      <td>health_beauty</td>\n",
       "      <td>industry</td>\n",
       "      <td>shark</td>\n",
       "      <td>NaN</td>\n",
       "    </tr>\n",
       "    <tr>\n",
       "      <th>375</th>\n",
       "      <td>0d6080ffaadf8f8fd9648afb791c29c2</td>\n",
       "      <td>83c465a786b06574376909b35ef6752a</td>\n",
       "      <td>09285259593c61296eef10c734121d5b</td>\n",
       "      <td>d3d1e91a157ea7f90548eef82f1955e3</td>\n",
       "      <td>2018-04-23 19:26:30</td>\n",
       "      <td>2018-04-23</td>\n",
       "      <td>2018-04</td>\n",
       "      <td>19</td>\n",
       "      <td>handcrafted</td>\n",
       "      <td>offline</td>\n",
       "      <td>eagle</td>\n",
       "      <td>NaN</td>\n",
       "    </tr>\n",
       "    <tr>\n",
       "      <th>412</th>\n",
       "      <td>dca7085d5af68e91d19ed7cb75e1dd86</td>\n",
       "      <td>54212aa507a8696b0766046bd3aecdc3</td>\n",
       "      <td>4b339f9567d060bcea4f5136b9f5949e</td>\n",
       "      <td>6565aa9ce3178a5caf6171827af3a9ba</td>\n",
       "      <td>2018-03-15 12:43:46</td>\n",
       "      <td>2018-03-15</td>\n",
       "      <td>2018-03</td>\n",
       "      <td>12</td>\n",
       "      <td>jewerly</td>\n",
       "      <td>industry</td>\n",
       "      <td>cat</td>\n",
       "      <td>NaN</td>\n",
       "    </tr>\n",
       "    <tr>\n",
       "      <th>444</th>\n",
       "      <td>b2fb7865dfca2461177cbad7ec520b0e</td>\n",
       "      <td>e1c76f339ebd5460999f25a2aa8c92c5</td>\n",
       "      <td>56bf83c4bb35763a51c2baab501b4c67</td>\n",
       "      <td>c638112b43f1d1b86dcabb0da720c901</td>\n",
       "      <td>2018-02-08 17:10:00</td>\n",
       "      <td>2018-02-08</td>\n",
       "      <td>2018-02</td>\n",
       "      <td>17</td>\n",
       "      <td>small_appliances</td>\n",
       "      <td>online_medium</td>\n",
       "      <td>unknown</td>\n",
       "      <td>NaN</td>\n",
       "    </tr>\n",
       "    <tr>\n",
       "      <th>449</th>\n",
       "      <td>f593b9ead8801922f74f0a5329e31486</td>\n",
       "      <td>e157c96a8e7711636119c6af8e7cf85f</td>\n",
       "      <td>068066e24f0c643eb1d089c7dd20cd73</td>\n",
       "      <td>c638112b43f1d1b86dcabb0da720c901</td>\n",
       "      <td>2018-02-26 14:46:28</td>\n",
       "      <td>2018-02-26</td>\n",
       "      <td>2018-02</td>\n",
       "      <td>14</td>\n",
       "      <td>sports_leisure</td>\n",
       "      <td>online_medium</td>\n",
       "      <td>cat</td>\n",
       "      <td>NaN</td>\n",
       "    </tr>\n",
       "    <tr>\n",
       "      <th>505</th>\n",
       "      <td>28f36aa85fbadc0663c2df15a5af35db</td>\n",
       "      <td>455befea1bb853c75ccbca94cff26e5c</td>\n",
       "      <td>f42a2bd194f7802ab052a815c8de65b7</td>\n",
       "      <td>de63de0d10a6012430098db33c679b0b</td>\n",
       "      <td>2018-04-20 16:29:28</td>\n",
       "      <td>2018-04-20</td>\n",
       "      <td>2018-04</td>\n",
       "      <td>16</td>\n",
       "      <td>phone_mobile</td>\n",
       "      <td>offline</td>\n",
       "      <td>cat</td>\n",
       "      <td>NaN</td>\n",
       "    </tr>\n",
       "    <tr>\n",
       "      <th>762</th>\n",
       "      <td>3434cfa4a17f019a5aae78ee0bec24bf</td>\n",
       "      <td>9ba337a47628f9761b6bb3939a3f97a9</td>\n",
       "      <td>fdb16d3cbbeb5798f2f66c4096be026d</td>\n",
       "      <td>495d4e95a8cf8bbf8b432b612a2aa328</td>\n",
       "      <td>2018-02-26 14:44:04</td>\n",
       "      <td>2018-02-26</td>\n",
       "      <td>2018-02</td>\n",
       "      <td>14</td>\n",
       "      <td>home_decor</td>\n",
       "      <td>industry</td>\n",
       "      <td>eagle</td>\n",
       "      <td>NaN</td>\n",
       "    </tr>\n",
       "  </tbody>\n",
       "</table>\n",
       "</div>"
      ],
      "text/plain": [
       "                               mql_id                         seller_id  \\\n",
       "223  0b32d6a87c09c32b3cd90dfd5ef5699f  4dd7866cf496e0c2fcfc93a4589dc1be   \n",
       "249  0338bf13624f52beaca91ec4a23c860c  667ee4b0aece58908fae3fd1649b7e6c   \n",
       "309  9e7f111f15db1aa3830cd806660d7b97  80b2f7568a7016771f58c5b981da3ae3   \n",
       "375  0d6080ffaadf8f8fd9648afb791c29c2  83c465a786b06574376909b35ef6752a   \n",
       "412  dca7085d5af68e91d19ed7cb75e1dd86  54212aa507a8696b0766046bd3aecdc3   \n",
       "444  b2fb7865dfca2461177cbad7ec520b0e  e1c76f339ebd5460999f25a2aa8c92c5   \n",
       "449  f593b9ead8801922f74f0a5329e31486  e157c96a8e7711636119c6af8e7cf85f   \n",
       "505  28f36aa85fbadc0663c2df15a5af35db  455befea1bb853c75ccbca94cff26e5c   \n",
       "762  3434cfa4a17f019a5aae78ee0bec24bf  9ba337a47628f9761b6bb3939a3f97a9   \n",
       "\n",
       "                               sdr_id                             sr_id  \\\n",
       "223  a8387c01a09e99ce014107505b92388c  2695de1affa7750089c0455f8ce27021   \n",
       "249  9d12ef1a7eca3ec58c545c678af7869c  495d4e95a8cf8bbf8b432b612a2aa328   \n",
       "309  370c9f455f93a9a96cbe9bea48e70033  d3d1e91a157ea7f90548eef82f1955e3   \n",
       "375  09285259593c61296eef10c734121d5b  d3d1e91a157ea7f90548eef82f1955e3   \n",
       "412  4b339f9567d060bcea4f5136b9f5949e  6565aa9ce3178a5caf6171827af3a9ba   \n",
       "444  56bf83c4bb35763a51c2baab501b4c67  c638112b43f1d1b86dcabb0da720c901   \n",
       "449  068066e24f0c643eb1d089c7dd20cd73  c638112b43f1d1b86dcabb0da720c901   \n",
       "505  f42a2bd194f7802ab052a815c8de65b7  de63de0d10a6012430098db33c679b0b   \n",
       "762  fdb16d3cbbeb5798f2f66c4096be026d  495d4e95a8cf8bbf8b432b612a2aa328   \n",
       "\n",
       "               won_date close_date won_month  won_time     business_segment  \\\n",
       "223 2018-04-27 14:04:06 2018-04-27   2018-04        14  fashion_accessories   \n",
       "249 2018-04-30 13:30:05 2018-04-30   2018-04        13          handcrafted   \n",
       "309 2018-05-21 17:29:17 2018-05-21   2018-05        17        health_beauty   \n",
       "375 2018-04-23 19:26:30 2018-04-23   2018-04        19          handcrafted   \n",
       "412 2018-03-15 12:43:46 2018-03-15   2018-03        12              jewerly   \n",
       "444 2018-02-08 17:10:00 2018-02-08   2018-02        17     small_appliances   \n",
       "449 2018-02-26 14:46:28 2018-02-26   2018-02        14       sports_leisure   \n",
       "505 2018-04-20 16:29:28 2018-04-20   2018-04        16         phone_mobile   \n",
       "762 2018-02-26 14:44:04 2018-02-26   2018-02        14           home_decor   \n",
       "\n",
       "         lead_type lead_behaviour_profile business_type  \n",
       "223  online_medium                    cat           NaN  \n",
       "249  online_medium                  eagle           NaN  \n",
       "309       industry                  shark           NaN  \n",
       "375        offline                  eagle           NaN  \n",
       "412       industry                    cat           NaN  \n",
       "444  online_medium                unknown           NaN  \n",
       "449  online_medium                    cat           NaN  \n",
       "505        offline                    cat           NaN  \n",
       "762       industry                  eagle           NaN  "
      ]
     },
     "execution_count": 219,
     "metadata": {},
     "output_type": "execute_result"
    }
   ],
   "source": [
    "businessType_null = close[close['business_type'].isna()]\n",
    "businessType_null"
   ]
  },
  {
   "cell_type": "code",
   "execution_count": 220,
   "id": "64c76036",
   "metadata": {},
   "outputs": [
    {
     "data": {
      "text/plain": [
       "won_month\n",
       "2018-02    3\n",
       "2018-03    1\n",
       "2018-04    4\n",
       "2018-05    1\n",
       "Name: mql_id, dtype: int64"
      ]
     },
     "execution_count": 220,
     "metadata": {},
     "output_type": "execute_result"
    }
   ],
   "source": [
    "businessType_null = businessType_null.groupby(by=close['won_month'])['mql_id'].count()\n",
    "businessType_null"
   ]
  },
  {
   "cell_type": "code",
   "execution_count": 221,
   "id": "9de8060b",
   "metadata": {},
   "outputs": [
    {
     "data": {
      "text/html": [
       "<div>\n",
       "<style scoped>\n",
       "    .dataframe tbody tr th:only-of-type {\n",
       "        vertical-align: middle;\n",
       "    }\n",
       "\n",
       "    .dataframe tbody tr th {\n",
       "        vertical-align: top;\n",
       "    }\n",
       "\n",
       "    .dataframe thead th {\n",
       "        text-align: right;\n",
       "    }\n",
       "</style>\n",
       "<table border=\"1\" class=\"dataframe\">\n",
       "  <thead>\n",
       "    <tr style=\"text-align: right;\">\n",
       "      <th></th>\n",
       "      <th>won_month</th>\n",
       "      <th>mql_id_x</th>\n",
       "      <th>mql_id_y</th>\n",
       "    </tr>\n",
       "  </thead>\n",
       "  <tbody>\n",
       "    <tr>\n",
       "      <th>0</th>\n",
       "      <td>2017-12</td>\n",
       "      <td>3</td>\n",
       "      <td>NaN</td>\n",
       "    </tr>\n",
       "    <tr>\n",
       "      <th>1</th>\n",
       "      <td>2018-01</td>\n",
       "      <td>73</td>\n",
       "      <td>NaN</td>\n",
       "    </tr>\n",
       "    <tr>\n",
       "      <th>2</th>\n",
       "      <td>2018-02</td>\n",
       "      <td>113</td>\n",
       "      <td>3.0</td>\n",
       "    </tr>\n",
       "    <tr>\n",
       "      <th>3</th>\n",
       "      <td>2018-03</td>\n",
       "      <td>147</td>\n",
       "      <td>1.0</td>\n",
       "    </tr>\n",
       "    <tr>\n",
       "      <th>4</th>\n",
       "      <td>2018-04</td>\n",
       "      <td>207</td>\n",
       "      <td>4.0</td>\n",
       "    </tr>\n",
       "    <tr>\n",
       "      <th>5</th>\n",
       "      <td>2018-05</td>\n",
       "      <td>122</td>\n",
       "      <td>1.0</td>\n",
       "    </tr>\n",
       "  </tbody>\n",
       "</table>\n",
       "</div>"
      ],
      "text/plain": [
       "  won_month  mql_id_x  mql_id_y\n",
       "0   2017-12         3       NaN\n",
       "1   2018-01        73       NaN\n",
       "2   2018-02       113       3.0\n",
       "3   2018-03       147       1.0\n",
       "4   2018-04       207       4.0\n",
       "5   2018-05       122       1.0"
      ]
     },
     "execution_count": 221,
     "metadata": {},
     "output_type": "execute_result"
    }
   ],
   "source": [
    "percent_businessType = close_count.merge(right=businessType_null, how='outer', on='won_month')\n",
    "percent_businessType"
   ]
  },
  {
   "cell_type": "code",
   "execution_count": 222,
   "id": "fbbe3392",
   "metadata": {},
   "outputs": [
    {
     "data": {
      "text/plain": [
       "array(['reseller', 'manufacturer', nan], dtype=object)"
      ]
     },
     "execution_count": 222,
     "metadata": {},
     "output_type": "execute_result"
    }
   ],
   "source": [
    "close['business_type'].unique()"
   ]
  },
  {
   "cell_type": "code",
   "execution_count": 223,
   "id": "cbbaa912",
   "metadata": {},
   "outputs": [],
   "source": [
    "close['business_type'].replace(to_replace=np.nan, value='other', inplace=True)"
   ]
  },
  {
   "cell_type": "code",
   "execution_count": 224,
   "id": "1f1af478",
   "metadata": {},
   "outputs": [
    {
     "data": {
      "text/plain": [
       "0"
      ]
     },
     "execution_count": 224,
     "metadata": {},
     "output_type": "execute_result"
    }
   ],
   "source": [
    "close['business_type'].isna().sum()"
   ]
  },
  {
   "cell_type": "markdown",
   "id": "ce8b41f0",
   "metadata": {},
   "source": [
    "# 2.6 Data Joining & Iterate Feature Addition"
   ]
  },
  {
   "cell_type": "code",
   "execution_count": 225,
   "id": "f127be0d",
   "metadata": {},
   "outputs": [
    {
     "name": "stdout",
     "output_type": "stream",
     "text": [
      "(6198, 5)\n",
      "(665, 12)\n"
     ]
    }
   ],
   "source": [
    "print(mql.shape)\n",
    "print(close.shape)"
   ]
  },
  {
   "cell_type": "code",
   "execution_count": 226,
   "id": "1d23e22f",
   "metadata": {},
   "outputs": [
    {
     "data": {
      "text/plain": [
       "(665, 16)"
      ]
     },
     "execution_count": 226,
     "metadata": {},
     "output_type": "execute_result"
    }
   ],
   "source": [
    "#Creating join mql dataset & close dataset\n",
    "seller = close.merge(right=mql, how='left', on='mql_id')\n",
    "seller.shape"
   ]
  },
  {
   "cell_type": "code",
   "execution_count": 227,
   "id": "5cf804d5",
   "metadata": {},
   "outputs": [
    {
     "data": {
      "text/plain": [
       "(665,)"
      ]
     },
     "execution_count": 227,
     "metadata": {},
     "output_type": "execute_result"
    }
   ],
   "source": [
    "#Creating deal_length\n",
    "deal_length = seller['close_date']-seller['first_contact_date']\n",
    "deal_length = deal_length.dt.days\n",
    "deal_length.shape"
   ]
  },
  {
   "cell_type": "code",
   "execution_count": 228,
   "id": "ec80dcc6",
   "metadata": {},
   "outputs": [],
   "source": [
    "seller.insert(loc=11, column='deal_length', value=deal_length.values)"
   ]
  },
  {
   "cell_type": "code",
   "execution_count": 229,
   "id": "0816a9f7",
   "metadata": {},
   "outputs": [
    {
     "data": {
      "text/html": [
       "<div>\n",
       "<style scoped>\n",
       "    .dataframe tbody tr th:only-of-type {\n",
       "        vertical-align: middle;\n",
       "    }\n",
       "\n",
       "    .dataframe tbody tr th {\n",
       "        vertical-align: top;\n",
       "    }\n",
       "\n",
       "    .dataframe thead th {\n",
       "        text-align: right;\n",
       "    }\n",
       "</style>\n",
       "<table border=\"1\" class=\"dataframe\">\n",
       "  <thead>\n",
       "    <tr style=\"text-align: right;\">\n",
       "      <th></th>\n",
       "      <th>mql_id</th>\n",
       "      <th>seller_id</th>\n",
       "      <th>sdr_id</th>\n",
       "      <th>sr_id</th>\n",
       "      <th>won_date</th>\n",
       "      <th>close_date</th>\n",
       "      <th>won_month</th>\n",
       "      <th>won_time</th>\n",
       "      <th>business_segment</th>\n",
       "      <th>lead_type</th>\n",
       "      <th>lead_behaviour_profile</th>\n",
       "      <th>deal_length</th>\n",
       "      <th>business_type</th>\n",
       "      <th>first_contact_date</th>\n",
       "      <th>first_contact_month</th>\n",
       "      <th>landing_page_id</th>\n",
       "      <th>origin</th>\n",
       "    </tr>\n",
       "  </thead>\n",
       "  <tbody>\n",
       "    <tr>\n",
       "      <th>0</th>\n",
       "      <td>5420aad7fec3549a85876ba1c529bd84</td>\n",
       "      <td>2c43fb513632d29b3b58df74816f1b06</td>\n",
       "      <td>a8387c01a09e99ce014107505b92388c</td>\n",
       "      <td>4ef15afb4b2723d8f3d81e51ec7afefe</td>\n",
       "      <td>2018-02-26 19:58:54</td>\n",
       "      <td>2018-02-26</td>\n",
       "      <td>2018-02</td>\n",
       "      <td>19</td>\n",
       "      <td>pet</td>\n",
       "      <td>online_medium</td>\n",
       "      <td>cat</td>\n",
       "      <td>5.0</td>\n",
       "      <td>reseller</td>\n",
       "      <td>2018-02-21</td>\n",
       "      <td>2018-02</td>\n",
       "      <td>b48ec5f3b04e9068441002a19df93c6c</td>\n",
       "      <td>organic_search</td>\n",
       "    </tr>\n",
       "    <tr>\n",
       "      <th>1</th>\n",
       "      <td>a555fb36b9368110ede0f043dfc3b9a0</td>\n",
       "      <td>bbb7d7893a450660432ea6652310ebb7</td>\n",
       "      <td>09285259593c61296eef10c734121d5b</td>\n",
       "      <td>d3d1e91a157ea7f90548eef82f1955e3</td>\n",
       "      <td>2018-05-08 20:17:59</td>\n",
       "      <td>2018-05-08</td>\n",
       "      <td>2018-05</td>\n",
       "      <td>20</td>\n",
       "      <td>car_accessories</td>\n",
       "      <td>industry</td>\n",
       "      <td>eagle</td>\n",
       "      <td>34.0</td>\n",
       "      <td>reseller</td>\n",
       "      <td>2018-04-04</td>\n",
       "      <td>2018-04</td>\n",
       "      <td>2f08471dfb83baef522f952438a36f6e</td>\n",
       "      <td>referral</td>\n",
       "    </tr>\n",
       "    <tr>\n",
       "      <th>2</th>\n",
       "      <td>f5fee8f7da74f4887f5bcae2bafb6dd6</td>\n",
       "      <td>21e1781e36faf92725dde4730a88ca0f</td>\n",
       "      <td>56bf83c4bb35763a51c2baab501b4c67</td>\n",
       "      <td>d3d1e91a157ea7f90548eef82f1955e3</td>\n",
       "      <td>2018-01-17 13:51:03</td>\n",
       "      <td>2018-01-17</td>\n",
       "      <td>2018-01</td>\n",
       "      <td>13</td>\n",
       "      <td>food_drink</td>\n",
       "      <td>online_small</td>\n",
       "      <td>unknown</td>\n",
       "      <td>3.0</td>\n",
       "      <td>reseller</td>\n",
       "      <td>2018-01-14</td>\n",
       "      <td>2018-01</td>\n",
       "      <td>22c29808c4f815213303f8933030604c</td>\n",
       "      <td>paid_search</td>\n",
       "    </tr>\n",
       "    <tr>\n",
       "      <th>3</th>\n",
       "      <td>b94fba7670eeb44dce2a0d8eb790e9f5</td>\n",
       "      <td>1c742ac33582852aaf3bcfbf5893abcf</td>\n",
       "      <td>fdb16d3cbbeb5798f2f66c4096be026d</td>\n",
       "      <td>495d4e95a8cf8bbf8b432b612a2aa328</td>\n",
       "      <td>2018-02-07 18:04:05</td>\n",
       "      <td>2018-02-07</td>\n",
       "      <td>2018-02</td>\n",
       "      <td>18</td>\n",
       "      <td>health_beauty</td>\n",
       "      <td>online_medium</td>\n",
       "      <td>unknown</td>\n",
       "      <td>1.0</td>\n",
       "      <td>manufacturer</td>\n",
       "      <td>2018-02-06</td>\n",
       "      <td>2018-02</td>\n",
       "      <td>40dec9f3d5259a3d2dbcdab2114fae47</td>\n",
       "      <td>organic_search</td>\n",
       "    </tr>\n",
       "    <tr>\n",
       "      <th>4</th>\n",
       "      <td>c3e30ed7ac989117c7e1e719b4ac128f</td>\n",
       "      <td>92d7568ad0c5c76fd7d341b2d46f24d6</td>\n",
       "      <td>4b339f9567d060bcea4f5136b9f5949e</td>\n",
       "      <td>85fc447d336637ba1df43e793199fbc8</td>\n",
       "      <td>2018-04-16 18:18:22</td>\n",
       "      <td>2018-04-16</td>\n",
       "      <td>2018-04</td>\n",
       "      <td>18</td>\n",
       "      <td>computers</td>\n",
       "      <td>online_medium</td>\n",
       "      <td>wolf</td>\n",
       "      <td>55.0</td>\n",
       "      <td>reseller</td>\n",
       "      <td>2018-02-20</td>\n",
       "      <td>2018-02</td>\n",
       "      <td>e492ee5eaf1697716985cc6f33f9cd9b</td>\n",
       "      <td>direct_traffic</td>\n",
       "    </tr>\n",
       "  </tbody>\n",
       "</table>\n",
       "</div>"
      ],
      "text/plain": [
       "                             mql_id                         seller_id  \\\n",
       "0  5420aad7fec3549a85876ba1c529bd84  2c43fb513632d29b3b58df74816f1b06   \n",
       "1  a555fb36b9368110ede0f043dfc3b9a0  bbb7d7893a450660432ea6652310ebb7   \n",
       "2  f5fee8f7da74f4887f5bcae2bafb6dd6  21e1781e36faf92725dde4730a88ca0f   \n",
       "3  b94fba7670eeb44dce2a0d8eb790e9f5  1c742ac33582852aaf3bcfbf5893abcf   \n",
       "4  c3e30ed7ac989117c7e1e719b4ac128f  92d7568ad0c5c76fd7d341b2d46f24d6   \n",
       "\n",
       "                             sdr_id                             sr_id  \\\n",
       "0  a8387c01a09e99ce014107505b92388c  4ef15afb4b2723d8f3d81e51ec7afefe   \n",
       "1  09285259593c61296eef10c734121d5b  d3d1e91a157ea7f90548eef82f1955e3   \n",
       "2  56bf83c4bb35763a51c2baab501b4c67  d3d1e91a157ea7f90548eef82f1955e3   \n",
       "3  fdb16d3cbbeb5798f2f66c4096be026d  495d4e95a8cf8bbf8b432b612a2aa328   \n",
       "4  4b339f9567d060bcea4f5136b9f5949e  85fc447d336637ba1df43e793199fbc8   \n",
       "\n",
       "             won_date close_date won_month  won_time business_segment  \\\n",
       "0 2018-02-26 19:58:54 2018-02-26   2018-02        19              pet   \n",
       "1 2018-05-08 20:17:59 2018-05-08   2018-05        20  car_accessories   \n",
       "2 2018-01-17 13:51:03 2018-01-17   2018-01        13       food_drink   \n",
       "3 2018-02-07 18:04:05 2018-02-07   2018-02        18    health_beauty   \n",
       "4 2018-04-16 18:18:22 2018-04-16   2018-04        18        computers   \n",
       "\n",
       "       lead_type lead_behaviour_profile  deal_length business_type  \\\n",
       "0  online_medium                    cat          5.0      reseller   \n",
       "1       industry                  eagle         34.0      reseller   \n",
       "2   online_small                unknown          3.0      reseller   \n",
       "3  online_medium                unknown          1.0  manufacturer   \n",
       "4  online_medium                   wolf         55.0      reseller   \n",
       "\n",
       "  first_contact_date first_contact_month                   landing_page_id  \\\n",
       "0         2018-02-21             2018-02  b48ec5f3b04e9068441002a19df93c6c   \n",
       "1         2018-04-04             2018-04  2f08471dfb83baef522f952438a36f6e   \n",
       "2         2018-01-14             2018-01  22c29808c4f815213303f8933030604c   \n",
       "3         2018-02-06             2018-02  40dec9f3d5259a3d2dbcdab2114fae47   \n",
       "4         2018-02-20             2018-02  e492ee5eaf1697716985cc6f33f9cd9b   \n",
       "\n",
       "           origin  \n",
       "0  organic_search  \n",
       "1        referral  \n",
       "2     paid_search  \n",
       "3  organic_search  \n",
       "4  direct_traffic  "
      ]
     },
     "execution_count": 229,
     "metadata": {},
     "output_type": "execute_result"
    }
   ],
   "source": [
    "seller.head()"
   ]
  },
  {
   "cell_type": "code",
   "execution_count": 230,
   "id": "07e84139",
   "metadata": {},
   "outputs": [],
   "source": [
    "seller.to_csv('seller.csv', index=False)"
   ]
  },
  {
   "cell_type": "markdown",
   "id": "4079b6fe",
   "metadata": {},
   "source": [
    "## 2.7 Outlier Handling "
   ]
  },
  {
   "cell_type": "code",
   "execution_count": 231,
   "id": "cc48abf9",
   "metadata": {},
   "outputs": [
    {
     "data": {
      "text/plain": [
       "<AxesSubplot:xlabel='deal_length'>"
      ]
     },
     "execution_count": 231,
     "metadata": {},
     "output_type": "execute_result"
    },
    {
     "data": {
      "image/png": "[encoded data removed]",
      "text/plain": [
       "<Figure size 640x480 with 1 Axes>"
      ]
     },
     "metadata": {},
     "output_type": "display_data"
    }
   ],
   "source": [
    "#Outlier on deal_length\n",
    "sns.boxplot(x=seller['deal_length'])"
   ]
  },
  {
   "cell_type": "code",
   "execution_count": 232,
   "id": "78226c36",
   "metadata": {},
   "outputs": [
    {
     "data": {
      "text/plain": [
       "25"
      ]
     },
     "execution_count": 232,
     "metadata": {},
     "output_type": "execute_result"
    }
   ],
   "source": [
    "seller['deal_length'].isna().sum()"
   ]
  },
  {
   "cell_type": "code",
   "execution_count": 233,
   "id": "1ac24381",
   "metadata": {},
   "outputs": [
    {
     "data": {
      "text/plain": [
       "(34, 17)"
      ]
     },
     "execution_count": 233,
     "metadata": {},
     "output_type": "execute_result"
    }
   ],
   "source": [
    "seller[seller['deal_length']<=0].shape"
   ]
  },
  {
   "cell_type": "code",
   "execution_count": 234,
   "id": "4be7f69f",
   "metadata": {},
   "outputs": [
    {
     "data": {
      "text/html": [
       "<div>\n",
       "<style scoped>\n",
       "    .dataframe tbody tr th:only-of-type {\n",
       "        vertical-align: middle;\n",
       "    }\n",
       "\n",
       "    .dataframe tbody tr th {\n",
       "        vertical-align: top;\n",
       "    }\n",
       "\n",
       "    .dataframe thead th {\n",
       "        text-align: right;\n",
       "    }\n",
       "</style>\n",
       "<table border=\"1\" class=\"dataframe\">\n",
       "  <thead>\n",
       "    <tr style=\"text-align: right;\">\n",
       "      <th></th>\n",
       "      <th>mql_id</th>\n",
       "      <th>seller_id</th>\n",
       "      <th>sdr_id</th>\n",
       "      <th>sr_id</th>\n",
       "      <th>won_date</th>\n",
       "      <th>close_date</th>\n",
       "      <th>won_month</th>\n",
       "      <th>won_time</th>\n",
       "      <th>business_segment</th>\n",
       "      <th>lead_type</th>\n",
       "      <th>lead_behaviour_profile</th>\n",
       "      <th>deal_length</th>\n",
       "      <th>business_type</th>\n",
       "      <th>first_contact_date</th>\n",
       "      <th>first_contact_month</th>\n",
       "      <th>landing_page_id</th>\n",
       "      <th>origin</th>\n",
       "    </tr>\n",
       "  </thead>\n",
       "  <tbody>\n",
       "    <tr>\n",
       "      <th>0</th>\n",
       "      <td>5420aad7fec3549a85876ba1c529bd84</td>\n",
       "      <td>2c43fb513632d29b3b58df74816f1b06</td>\n",
       "      <td>a8387c01a09e99ce014107505b92388c</td>\n",
       "      <td>4ef15afb4b2723d8f3d81e51ec7afefe</td>\n",
       "      <td>2018-02-26 19:58:54</td>\n",
       "      <td>2018-02-26</td>\n",
       "      <td>2018-02</td>\n",
       "      <td>19</td>\n",
       "      <td>pet</td>\n",
       "      <td>online_medium</td>\n",
       "      <td>cat</td>\n",
       "      <td>5.0</td>\n",
       "      <td>reseller</td>\n",
       "      <td>2018-02-21</td>\n",
       "      <td>2018-02</td>\n",
       "      <td>b48ec5f3b04e9068441002a19df93c6c</td>\n",
       "      <td>organic_search</td>\n",
       "    </tr>\n",
       "    <tr>\n",
       "      <th>1</th>\n",
       "      <td>a555fb36b9368110ede0f043dfc3b9a0</td>\n",
       "      <td>bbb7d7893a450660432ea6652310ebb7</td>\n",
       "      <td>09285259593c61296eef10c734121d5b</td>\n",
       "      <td>d3d1e91a157ea7f90548eef82f1955e3</td>\n",
       "      <td>2018-05-08 20:17:59</td>\n",
       "      <td>2018-05-08</td>\n",
       "      <td>2018-05</td>\n",
       "      <td>20</td>\n",
       "      <td>car_accessories</td>\n",
       "      <td>industry</td>\n",
       "      <td>eagle</td>\n",
       "      <td>34.0</td>\n",
       "      <td>reseller</td>\n",
       "      <td>2018-04-04</td>\n",
       "      <td>2018-04</td>\n",
       "      <td>2f08471dfb83baef522f952438a36f6e</td>\n",
       "      <td>referral</td>\n",
       "    </tr>\n",
       "    <tr>\n",
       "      <th>2</th>\n",
       "      <td>f5fee8f7da74f4887f5bcae2bafb6dd6</td>\n",
       "      <td>21e1781e36faf92725dde4730a88ca0f</td>\n",
       "      <td>56bf83c4bb35763a51c2baab501b4c67</td>\n",
       "      <td>d3d1e91a157ea7f90548eef82f1955e3</td>\n",
       "      <td>2018-01-17 13:51:03</td>\n",
       "      <td>2018-01-17</td>\n",
       "      <td>2018-01</td>\n",
       "      <td>13</td>\n",
       "      <td>food_drink</td>\n",
       "      <td>online_small</td>\n",
       "      <td>unknown</td>\n",
       "      <td>3.0</td>\n",
       "      <td>reseller</td>\n",
       "      <td>2018-01-14</td>\n",
       "      <td>2018-01</td>\n",
       "      <td>22c29808c4f815213303f8933030604c</td>\n",
       "      <td>paid_search</td>\n",
       "    </tr>\n",
       "    <tr>\n",
       "      <th>3</th>\n",
       "      <td>b94fba7670eeb44dce2a0d8eb790e9f5</td>\n",
       "      <td>1c742ac33582852aaf3bcfbf5893abcf</td>\n",
       "      <td>fdb16d3cbbeb5798f2f66c4096be026d</td>\n",
       "      <td>495d4e95a8cf8bbf8b432b612a2aa328</td>\n",
       "      <td>2018-02-07 18:04:05</td>\n",
       "      <td>2018-02-07</td>\n",
       "      <td>2018-02</td>\n",
       "      <td>18</td>\n",
       "      <td>health_beauty</td>\n",
       "      <td>online_medium</td>\n",
       "      <td>unknown</td>\n",
       "      <td>1.0</td>\n",
       "      <td>manufacturer</td>\n",
       "      <td>2018-02-06</td>\n",
       "      <td>2018-02</td>\n",
       "      <td>40dec9f3d5259a3d2dbcdab2114fae47</td>\n",
       "      <td>organic_search</td>\n",
       "    </tr>\n",
       "    <tr>\n",
       "      <th>4</th>\n",
       "      <td>c3e30ed7ac989117c7e1e719b4ac128f</td>\n",
       "      <td>92d7568ad0c5c76fd7d341b2d46f24d6</td>\n",
       "      <td>4b339f9567d060bcea4f5136b9f5949e</td>\n",
       "      <td>85fc447d336637ba1df43e793199fbc8</td>\n",
       "      <td>2018-04-16 18:18:22</td>\n",
       "      <td>2018-04-16</td>\n",
       "      <td>2018-04</td>\n",
       "      <td>18</td>\n",
       "      <td>computers</td>\n",
       "      <td>online_medium</td>\n",
       "      <td>wolf</td>\n",
       "      <td>55.0</td>\n",
       "      <td>reseller</td>\n",
       "      <td>2018-02-20</td>\n",
       "      <td>2018-02</td>\n",
       "      <td>e492ee5eaf1697716985cc6f33f9cd9b</td>\n",
       "      <td>direct_traffic</td>\n",
       "    </tr>\n",
       "  </tbody>\n",
       "</table>\n",
       "</div>"
      ],
      "text/plain": [
       "                             mql_id                         seller_id  \\\n",
       "0  5420aad7fec3549a85876ba1c529bd84  2c43fb513632d29b3b58df74816f1b06   \n",
       "1  a555fb36b9368110ede0f043dfc3b9a0  bbb7d7893a450660432ea6652310ebb7   \n",
       "2  f5fee8f7da74f4887f5bcae2bafb6dd6  21e1781e36faf92725dde4730a88ca0f   \n",
       "3  b94fba7670eeb44dce2a0d8eb790e9f5  1c742ac33582852aaf3bcfbf5893abcf   \n",
       "4  c3e30ed7ac989117c7e1e719b4ac128f  92d7568ad0c5c76fd7d341b2d46f24d6   \n",
       "\n",
       "                             sdr_id                             sr_id  \\\n",
       "0  a8387c01a09e99ce014107505b92388c  4ef15afb4b2723d8f3d81e51ec7afefe   \n",
       "1  09285259593c61296eef10c734121d5b  d3d1e91a157ea7f90548eef82f1955e3   \n",
       "2  56bf83c4bb35763a51c2baab501b4c67  d3d1e91a157ea7f90548eef82f1955e3   \n",
       "3  fdb16d3cbbeb5798f2f66c4096be026d  495d4e95a8cf8bbf8b432b612a2aa328   \n",
       "4  4b339f9567d060bcea4f5136b9f5949e  85fc447d336637ba1df43e793199fbc8   \n",
       "\n",
       "             won_date close_date won_month  won_time business_segment  \\\n",
       "0 2018-02-26 19:58:54 2018-02-26   2018-02        19              pet   \n",
       "1 2018-05-08 20:17:59 2018-05-08   2018-05        20  car_accessories   \n",
       "2 2018-01-17 13:51:03 2018-01-17   2018-01        13       food_drink   \n",
       "3 2018-02-07 18:04:05 2018-02-07   2018-02        18    health_beauty   \n",
       "4 2018-04-16 18:18:22 2018-04-16   2018-04        18        computers   \n",
       "\n",
       "       lead_type lead_behaviour_profile  deal_length business_type  \\\n",
       "0  online_medium                    cat          5.0      reseller   \n",
       "1       industry                  eagle         34.0      reseller   \n",
       "2   online_small                unknown          3.0      reseller   \n",
       "3  online_medium                unknown          1.0  manufacturer   \n",
       "4  online_medium                   wolf         55.0      reseller   \n",
       "\n",
       "  first_contact_date first_contact_month                   landing_page_id  \\\n",
       "0         2018-02-21             2018-02  b48ec5f3b04e9068441002a19df93c6c   \n",
       "1         2018-04-04             2018-04  2f08471dfb83baef522f952438a36f6e   \n",
       "2         2018-01-14             2018-01  22c29808c4f815213303f8933030604c   \n",
       "3         2018-02-06             2018-02  40dec9f3d5259a3d2dbcdab2114fae47   \n",
       "4         2018-02-20             2018-02  e492ee5eaf1697716985cc6f33f9cd9b   \n",
       "\n",
       "           origin  \n",
       "0  organic_search  \n",
       "1        referral  \n",
       "2     paid_search  \n",
       "3  organic_search  \n",
       "4  direct_traffic  "
      ]
     },
     "execution_count": 234,
     "metadata": {},
     "output_type": "execute_result"
    }
   ],
   "source": [
    "seller.head()"
   ]
  },
  {
   "cell_type": "code",
   "execution_count": 235,
   "id": "c173657f",
   "metadata": {},
   "outputs": [
    {
     "name": "stdout",
     "output_type": "stream",
     "text": [
      "Batas bawah : -20.0\n",
      "Batas atas  : 44.0\n"
     ]
    }
   ],
   "source": [
    "x,y = get_iqr(seller['deal_length'].fillna(0))\n",
    "\n",
    "print('Batas bawah :' ,x)\n",
    "print('Batas atas  :' ,y)"
   ]
  },
  {
   "cell_type": "code",
   "execution_count": 236,
   "id": "f5102471",
   "metadata": {},
   "outputs": [
    {
     "data": {
      "text/plain": [
       "(606, 17)"
      ]
     },
     "execution_count": 236,
     "metadata": {},
     "output_type": "execute_result"
    }
   ],
   "source": [
    "seller = seller[seller['deal_length']>0]\n",
    "seller.shape"
   ]
  },
  {
   "cell_type": "code",
   "execution_count": 237,
   "id": "b99c08bc",
   "metadata": {},
   "outputs": [
    {
     "data": {
      "text/plain": [
       "count    606.000000\n",
       "mean      18.339934\n",
       "std       22.535774\n",
       "min        1.000000\n",
       "25%        5.000000\n",
       "50%       10.000000\n",
       "75%       22.000000\n",
       "max      162.000000\n",
       "Name: deal_length, dtype: float64"
      ]
     },
     "execution_count": 237,
     "metadata": {},
     "output_type": "execute_result"
    }
   ],
   "source": [
    "seller['deal_length'].describe()"
   ]
  },
  {
   "cell_type": "code",
   "execution_count": 238,
   "id": "64c1fe15",
   "metadata": {},
   "outputs": [],
   "source": [
    "mql.to_csv('mql.csv', index=False)"
   ]
  }
 ],
 "metadata": {
  "kernelspec": {
   "display_name": "Python 3 (ipykernel)",
   "language": "python",
   "name": "python3"
  },
  "language_info": {
   "codemirror_mode": {
    "name": "ipython",
    "version": 3
   },
   "file_extension": ".py",
   "mimetype": "text/x-python",
   "name": "python",
   "nbconvert_exporter": "python",
   "pygments_lexer": "ipython3",
   "version": "3.9.13"
  }
 },
 "nbformat": 4,
 "nbformat_minor": 5
}
